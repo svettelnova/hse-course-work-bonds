{
 "cells": [
  {
   "cell_type": "code",
   "execution_count": 1,
   "metadata": {
    "ExecuteTime": {
     "end_time": "2023-11-10T21:53:10.676114Z",
     "start_time": "2023-11-10T21:53:04.612486Z"
    }
   },
   "outputs": [],
   "source": [
    "import time\n",
    "from dataclasses import dataclass\n",
    "from dataclasses import field\n",
    "from datetime import datetime\n",
    "\n",
    "import numpy as np\n",
    "import pandas as pd\n",
    "from matplotlib import pyplot as plt\n",
    "import seaborn as sns"
   ]
  },
  {
   "cell_type": "code",
   "execution_count": 2,
   "metadata": {},
   "outputs": [
    {
     "name": "stdout",
     "output_type": "stream",
     "text": [
      "/Users/svetlanatelnova/university/portfolio_optimization/hse-course-work-bonds/notebook\n",
      "/Users/svetlanatelnova/university/portfolio_optimization/hse-course-work-bonds\n"
     ]
    }
   ],
   "source": [
    "import os\n",
    "\n",
    "print(os.getcwd())\n",
    "os.chdir('../')\n",
    "print(os.getcwd())"
   ]
  },
  {
   "cell_type": "code",
   "execution_count": 3,
   "metadata": {
    "ExecuteTime": {
     "end_time": "2023-11-10T21:53:10.969485Z",
     "start_time": "2023-11-10T21:53:04.622911Z"
    }
   },
   "outputs": [],
   "source": [
    "DAY_SECONDS = 60 * 60 * 24\n",
    "\n",
    "\n",
    "def today() -> pd.Timestamp:\n",
    "    \"\"\"\n",
    "    pd.Timestamp today midnight\n",
    "    \"\"\"\n",
    "    seconds = time.time() - time.timezone\n",
    "    seconds_round_day = seconds - (seconds % DAY_SECONDS)\n",
    "    return pd.Timestamp.fromtimestamp(seconds_round_day + time.timezone)"
   ]
  },
  {
   "cell_type": "markdown",
   "metadata": {},
   "source": [
    "Pick some bonds to use in the current optimization"
   ]
  },
  {
   "cell_type": "code",
   "execution_count": 4,
   "metadata": {
    "ExecuteTime": {
     "end_time": "2023-11-10T21:53:10.969782Z",
     "start_time": "2023-11-10T21:53:04.668499Z"
    }
   },
   "outputs": [],
   "source": [
    "BOND_UNIVERSE: tuple[str] = (\n",
    "    \"RU000A0GN9A7\",\n",
    "    \"RU000A0JV4N8\",\n",
    "    \"RU000A0JWDN6\",\n",
    "    \"RU000A0JV4Q1\",\n",
    "    \"RU000A0JVA10\",\n",
    "    \"RU000A0JW0S4\",\n",
    "    \"RU000A0JUMH3\",\n",
    ")"
   ]
  },
  {
   "cell_type": "code",
   "execution_count": 5,
   "metadata": {
    "ExecuteTime": {
     "end_time": "2023-11-10T22:15:12.608639Z",
     "start_time": "2023-11-10T22:15:07.911260Z"
    }
   },
   "outputs": [],
   "source": [
    "from functools import cached_property\n",
    "\n",
    "\n",
    "class BondDataProvider:\n",
    "    \"\"\"Data provider for bonds and\"\"\"\n",
    "\n",
    "    def __init__(self):\n",
    "        \"\"\"Read all pre-downloaded data.\"\"\"\n",
    "        df_price = pd.read_csv(\"/Users/svetlanatelnova/university/portfolio_optimization/hse-course-work-bonds/data/bond_data_price.csv\", parse_dates=[\"date\"])\n",
    "        df_price[\"date\"] = df_price[\"date\"].dt.date\n",
    "        df_price = df_price.set_index([\"date\", \"isin\"])\n",
    "        self._price = df_price.sort_index(level=\"date\")\n",
    "\n",
    "        self._dur = pd.read_csv(\"/Users/svetlanatelnova/university/portfolio_optimization/hse-course-work-bonds/data/bond_data_duration.csv\", parse_dates=[\"date\"])\n",
    "        self._dur[\"date\"] = self._dur[\"date\"].dt.date\n",
    "        self._dur = self._dur.set_index([\"date\", \"isin\"]).sort_index(level=\"date\")\n",
    "\n",
    "        self._static = pd.read_csv(\"/Users/svetlanatelnova/university/portfolio_optimization/hse-course-work-bonds/data/bond_data_static.csv\")\n",
    "        self._rating = pd.read_csv(\n",
    "            \"/Users/svetlanatelnova/university/portfolio_optimization/hse-course-work-bonds/data/bond_data_rating.csv\", parse_dates=[\"update_date\"]\n",
    "        )\n",
    "        self._rating[\"update_date\"] = self._rating[\"update_date\"].dt.date\n",
    "        self._rating[\"isin\"] = self._rating[\"isincode\"]\n",
    "\n",
    "        self._volume = pd.read_csv(\"/Users/svetlanatelnova/university/portfolio_optimization/hse-course-work-bonds/data/bond_data_volume.csv\")\n",
    "        self._rgbitr = pd.read_csv(\"/Users/svetlanatelnova/university/portfolio_optimization/hse-course-work-bonds/data/bond_data_rgbitr.csv\", parse_dates=[\"date\"])\n",
    "\n",
    "        self._yield = pd.read_csv(\"/Users/svetlanatelnova/university/portfolio_optimization/hse-course-work-bonds/data/bond_data_yield.csv\", parse_dates=[\"date\"])\n",
    "        self._yield[\"date\"] = pd.to_datetime(self._yield[\"date\"].dt.date)\n",
    "        self._yield = self._yield.sort_values(\"date\")\n",
    "\n",
    "    @property\n",
    "    def price(self):\n",
    "        \"\"\"\n",
    "        df with bond's historical prices\n",
    "        columns: 'isin','date','spread','ask','bid','ai','last','mid'\n",
    "        \"\"\"\n",
    "        return self._price\n",
    "\n",
    "    @property\n",
    "    def duration(self):\n",
    "        \"\"\"\n",
    "        df with bond's precomputed duration data\n",
    "        columns: 'id','date','isin','emission_id','emission_emitent_id','trading_ground_id','avar_price',\n",
    "        'convexity','convexity_offer','dur','dur_to','dur_mod','dur_mod_to'\n",
    "        \"\"\"\n",
    "        return self._dur\n",
    "\n",
    "    @property\n",
    "    def static(self):\n",
    "        \"\"\"Static bond info including coupon data.\"\"\"\n",
    "        return self._static\n",
    "\n",
    "    @property\n",
    "    def rating(self):\n",
    "        \"\"\"Bond ratings data.\"\"\"\n",
    "        return self._rating\n",
    "\n",
    "    @property\n",
    "    def volume(self):\n",
    "        \"\"\"Traded volume data.\n",
    "        columns: 'volume' -- traded volume ,'volume_lots' -- number of traded lots\n",
    "        \"\"\"\n",
    "        return self._volume\n",
    "\n",
    "    @property\n",
    "    def yield_(self):\n",
    "        \"\"\"Estimated bond yields.\"\"\"\n",
    "        return self._yield\n",
    "\n",
    "    @cached_property\n",
    "    def rgbitr(self):\n",
    "        \"\"\"RGBITR benchmark.\"\"\"\n",
    "        return self._rgbitr[self._rgbitr[\"secid\"] == \"RGBITR\"]\n",
    "\n",
    "    @cached_property\n",
    "    def rucbitr(self):\n",
    "        \"\"\"RUCBITR benchmark.\n",
    "\n",
    "        Note: halts after 05/31/2023\n",
    "        \"\"\"\n",
    "        return self._rgbitr[self._rgbitr[\"secid\"] == \"RUCBITR\"]\n",
    "\n",
    "\n",
    "bond_data = BondDataProvider()"
   ]
  },
  {
   "cell_type": "code",
   "execution_count": 6,
   "metadata": {
    "ExecuteTime": {
     "end_time": "2023-11-10T21:53:10.971204Z",
     "start_time": "2023-11-10T21:53:08.654351Z"
    }
   },
   "outputs": [],
   "source": [
    "@dataclass\n",
    "class BondPortfolio:\n",
    "    \"\"\"portfolio history and basic statistics.\"\"\"\n",
    "\n",
    "    bond_universe: tuple[str] = field(default=tuple)\n",
    "    cash: float = 1\n",
    "\n",
    "    def __post_init__(self):\n",
    "        self.universe_size: int = len(self.bond_universe)\n",
    "\n",
    "        # current portfolio portions of bonds from the universe\n",
    "        self._weights: np.array = np.zeros(self.universe_size)\n",
    "\n",
    "        # current quantities of bonds from the universe\n",
    "        self._qty: np.array = np.zeros(self.universe_size)\n",
    "\n",
    "        self._history_weights: dict[pd.Timestamp, np.array] = {}\n",
    "        self._history_qty: dict[pd.Timestamp, np.array] = {}\n",
    "\n",
    "        # current date\n",
    "        self._date: pd.Timestamp = today()\n",
    "\n",
    "    def update_portfolio(\n",
    "        self, weights: np.array, qty: np.array, cash: float, date: pd.Timestamp\n",
    "    ):\n",
    "        \"\"\"Should be called when bonds quantity is changed\"\"\"\n",
    "        self._date = date\n",
    "        self.cash = cash\n",
    "\n",
    "        self._weights = weights\n",
    "        self._history_weights[date] = weights\n",
    "\n",
    "        self._qty = qty\n",
    "        self._history_qty[date] = qty\n",
    "\n",
    "    @property\n",
    "    def weights(self):\n",
    "        \"\"\"Weights for the current_date.\"\"\"\n",
    "        return self._weights\n",
    "\n",
    "    def wealth(self, prices: np.array):\n",
    "        \"\"\"Total value af assets and money on account.\"\"\"\n",
    "        return self.cash + self._qty @ prices"
   ]
  },
  {
   "cell_type": "code",
   "execution_count": 7,
   "metadata": {
    "ExecuteTime": {
     "end_time": "2023-11-10T21:53:10.971273Z",
     "start_time": "2023-11-10T21:53:08.656947Z"
    }
   },
   "outputs": [],
   "source": [
    "# create portfolio for a simple strategy\n",
    "port = BondPortfolio(\n",
    "    bond_universe=BOND_UNIVERSE,\n",
    "    cash=1,\n",
    ")"
   ]
  },
  {
   "cell_type": "markdown",
   "metadata": {},
   "source": [
    "## Random Weights Strategy"
   ]
  },
  {
   "cell_type": "code",
   "execution_count": 8,
   "metadata": {
    "ExecuteTime": {
     "end_time": "2023-11-10T21:53:41.631270Z",
     "start_time": "2023-11-10T21:53:41.415369Z"
    }
   },
   "outputs": [
    {
     "name": "stdout",
     "output_type": "stream",
     "text": [
      "======================================================\n",
      "2023-08-01\n",
      "wealth = 1.0\n",
      "[0.00227463 0.14563768 0.07510025 0.21924936 0.25554126 0.16635149\n",
      " 0.13584533]\n",
      "[0.00227463 0.14563768 0.07510025 0.21924936 0.25554126 0.16635149\n",
      " 0.13584533]\n",
      "======================================================\n",
      "2023-08-02\n",
      "wealth = 0.9987444848461039\n",
      "[0.196682   0.16736029 0.09378005 0.13477355 0.08654836 0.18050192\n",
      " 0.14035383]\n",
      "[ 0.19440737  0.02172261  0.01867981 -0.08447581 -0.16899289  0.01415042\n",
      "  0.0045085 ]\n",
      "======================================================\n",
      "2023-08-03\n",
      "wealth = 0.9969183704305011\n",
      "[0.17913005 0.20779906 0.06421521 0.14412142 0.13221187 0.15017636\n",
      " 0.12234603]\n",
      "[-0.01755194  0.04043876 -0.02956484  0.00934788  0.04566351 -0.03032556\n",
      " -0.0180078 ]\n",
      "======================================================\n",
      "2023-08-04\n",
      "wealth = 0.9961723427644408\n",
      "[0.19685698 0.05381254 0.028799   0.14751075 0.03498769 0.30913597\n",
      " 0.22889708]\n",
      "[ 0.01772693 -0.15398651 -0.03541622  0.00338932 -0.09722418  0.15895961\n",
      "  0.10655105]\n",
      "======================================================\n",
      "2023-08-05\n",
      "======================================================\n",
      "2023-08-06\n",
      "======================================================\n",
      "2023-08-07\n",
      "wealth = 0.9940762356651702\n",
      "[0.25137326 0.17572389 0.08096684 0.19256097 0.00794922 0.17373544\n",
      " 0.11769038]\n",
      "[ 0.05451628  0.12191135  0.05216785  0.04505023 -0.02703847 -0.13540053\n",
      " -0.1112067 ]\n",
      "======================================================\n",
      "2023-08-08\n",
      "wealth = 0.9944866870844059\n",
      "[0.07684361 0.1711122  0.18584599 0.10450773 0.17935792 0.16896217\n",
      " 0.11337038]\n",
      "[-0.17452965 -0.00461169  0.10487915 -0.08805324  0.1714087  -0.00477326\n",
      " -0.00432   ]\n",
      "======================================================\n",
      "2023-08-09\n",
      "wealth = 0.995122120868645\n",
      "[0.16197113 0.12196055 0.06835858 0.24990829 0.10759522 0.09040038\n",
      " 0.19980584]\n",
      "[ 0.08512752 -0.04915165 -0.11748741  0.14540056 -0.0717627  -0.07856179\n",
      "  0.08643546]\n",
      "======================================================\n",
      "2023-08-10\n",
      "wealth = 0.9961011158277563\n",
      "[0.05507748 0.19511612 0.19096895 0.24900448 0.16144144 0.11338899\n",
      " 0.03500253]\n",
      "[-0.10689365  0.07315557  0.12261036 -0.00090381  0.05384622  0.02298861\n",
      " -0.16480331]\n",
      "======================================================\n",
      "2023-08-11\n",
      "wealth = 0.9948140862401953\n",
      "[0.24669653 0.05785947 0.24440967 0.25883021 0.13625903 0.01731543\n",
      " 0.03862966]\n",
      "[ 0.19161905 -0.13725665  0.05344072  0.00982572 -0.02518241 -0.09607356\n",
      "  0.00362713]\n",
      "======================================================\n",
      "2023-08-12\n",
      "======================================================\n",
      "2023-08-13\n",
      "======================================================\n",
      "2023-08-14\n",
      "wealth = 0.9906913080819131\n",
      "[0.24956227 0.0814857  0.11128776 0.29484046 0.03489756 0.18842686\n",
      " 0.03949939]\n",
      "[ 0.00286573  0.02362623 -0.1331219   0.03601026 -0.10136148  0.17111143\n",
      "  0.00086973]\n",
      "======================================================\n",
      "2023-08-15\n",
      "wealth = 0.9887732669633563\n",
      "[0.01343803 0.24526741 0.00030951 0.23217078 0.00342982 0.25833216\n",
      " 0.24705228]\n",
      "[-0.23612423  0.1637817  -0.11097825 -0.06266968 -0.03146773  0.0699053\n",
      "  0.2075529 ]\n",
      "======================================================\n",
      "2023-08-16\n",
      "wealth = 0.9891418283685645\n",
      "[0.09362402 0.32149564 0.13769165 0.13094239 0.18680567 0.0112213\n",
      " 0.11821934]\n",
      "[ 0.08018599  0.07622823  0.13738213 -0.10122839  0.18337584 -0.24711087\n",
      " -0.12883294]\n",
      "======================================================\n",
      "2023-08-17\n",
      "wealth = 0.9899959917264556\n",
      "[0.21266934 0.19572351 0.17908063 0.03261549 0.13713846 0.14747589\n",
      " 0.09529668]\n",
      "[ 0.11904532 -0.12577213  0.04138898 -0.0983269  -0.04966721  0.13625459\n",
      " -0.02292266]\n",
      "======================================================\n",
      "2023-08-18\n",
      "wealth = 0.9918590415662829\n",
      "[0.20025251 0.04780246 0.05766063 0.2243209  0.18948584 0.04463627\n",
      " 0.23584138]\n",
      "[-0.01241683 -0.14792105 -0.12142     0.19170542  0.05234738 -0.10283963\n",
      "  0.1405447 ]\n",
      "======================================================\n",
      "2023-08-19\n",
      "======================================================\n",
      "2023-08-20\n",
      "======================================================\n",
      "2023-08-21\n",
      "wealth = 0.9929787097364313\n",
      "[0.22569658 0.13248524 0.13471963 0.1912559  0.09011943 0.17228036\n",
      " 0.05344286]\n",
      "[ 0.02544407  0.08468277  0.077059   -0.033065   -0.09936642  0.1276441\n",
      " -0.18239852]\n",
      "======================================================\n",
      "2023-08-22\n",
      "wealth = 0.9920134784962447\n",
      "[0.02230427 0.05376517 0.31657558 0.05606262 0.18783764 0.00721411\n",
      " 0.35624061]\n",
      "[-0.20339231 -0.07872006  0.18185595 -0.13519328  0.09771821 -0.16506626\n",
      "  0.30279775]\n",
      "======================================================\n",
      "2023-08-23\n",
      "wealth = 0.9897623437257866\n",
      "[0.26812358 0.2115763  0.16427905 0.08461715 0.12312776 0.13072187\n",
      " 0.01755429]\n",
      "[ 0.24581931  0.15781113 -0.15229653  0.02855453 -0.06470988  0.12350776\n",
      " -0.33868632]\n",
      "======================================================\n",
      "2023-08-24\n",
      "wealth = 0.9890464518600222\n",
      "[0.04518553 0.00348555 0.24209053 0.07525956 0.32592625 0.00239779\n",
      " 0.30565479]\n",
      "[-0.22293805 -0.20809074  0.07781148 -0.00935759  0.20279849 -0.12832408\n",
      "  0.2881005 ]\n",
      "======================================================\n",
      "2023-08-25\n",
      "wealth = 0.987206943044731\n",
      "[0.09068669 0.03766695 0.33783482 0.26816497 0.10461843 0.06724721\n",
      " 0.09378092]\n",
      "[ 0.04550117  0.0341814   0.09574429  0.19290541 -0.22130782  0.06484942\n",
      " -0.21187386]\n",
      "======================================================\n",
      "2023-08-26\n",
      "======================================================\n",
      "2023-08-27\n",
      "======================================================\n",
      "2023-08-28\n",
      "wealth = 0.9888410985604364\n",
      "[0.00864701 0.20146941 0.17711603 0.18081607 0.40051266 0.01862842\n",
      " 0.0128104 ]\n",
      "[-0.08203969  0.16380246 -0.1607188  -0.0873489   0.29589423 -0.04861879\n",
      " -0.08097052]\n",
      "======================================================\n",
      "2023-08-29\n",
      "wealth = 0.9886426059587657\n",
      "[0.06290133 0.07994124 0.14646172 0.1818126  0.16162856 0.2157918\n",
      " 0.15146274]\n",
      "[ 0.05425433 -0.12152816 -0.0306543   0.00099653 -0.2388841   0.19716338\n",
      "  0.13865234]\n",
      "======================================================\n",
      "2023-08-30\n",
      "wealth = 0.981587890909141\n",
      "[0.10442654 0.12700855 0.16812461 0.1602774  0.11311492 0.15636888\n",
      " 0.17067909]\n",
      "[ 0.0415252   0.04706731  0.02166289 -0.0215352  -0.04851364 -0.05942291\n",
      "  0.01921635]\n",
      "======================================================\n",
      "2023-08-31\n",
      "wealth = 0.9811290246561722\n",
      "[0.15762261 0.13325865 0.13623328 0.07209598 0.12083491 0.19232467\n",
      " 0.18762989]\n",
      "[ 0.05319608  0.00625009 -0.03189133 -0.08818142  0.00771999  0.03595579\n",
      "  0.0169508 ]\n",
      "======================================================\n",
      "2023-09-01\n",
      "wealth = 0.9808655133040635\n",
      "[0.14069573 0.00904518 0.2538221  0.18579859 0.16578446 0.0645084\n",
      " 0.18034555]\n",
      "[-0.01692689 -0.12421346  0.11758881  0.11370261  0.04494955 -0.12781628\n",
      " -0.00728434]\n",
      "======================================================\n",
      "2023-09-02\n",
      "======================================================\n",
      "2023-09-03\n",
      "======================================================\n",
      "2023-09-04\n",
      "wealth = 0.978238358722171\n",
      "[0.07887714 0.03070141 0.18926119 0.15217358 0.18314105 0.20004391\n",
      " 0.16580171]\n",
      "[-0.06181859  0.02165623 -0.0645609  -0.03362501  0.01735659  0.13553552\n",
      " -0.01454384]\n",
      "======================================================\n",
      "2023-09-05\n",
      "wealth = 0.9811377910481498\n",
      "[0.19888322 0.22226866 0.15739197 0.0332421  0.13907193 0.1605135\n",
      " 0.08862862]\n",
      "[ 0.12000608  0.19156725 -0.03186923 -0.11893148 -0.04406912 -0.03953041\n",
      " -0.07717309]\n",
      "======================================================\n",
      "2023-09-06\n",
      "wealth = 0.9782518355281764\n",
      "[0.10757601 0.2318182  0.24967332 0.06629159 0.04696966 0.00544296\n",
      " 0.29222826]\n",
      "[-0.09130721  0.00954954  0.09228136  0.03304949 -0.09210227 -0.15507054\n",
      "  0.20359963]\n",
      "======================================================\n",
      "2023-09-07\n",
      "wealth = 0.9750025978231573\n",
      "[0.09276689 0.13401384 0.25245423 0.10567093 0.03985159 0.2102853\n",
      " 0.16495722]\n",
      "[-0.01480912 -0.09780436  0.00278091  0.03937934 -0.00711807  0.20484234\n",
      " -0.12727104]\n",
      "======================================================\n",
      "2023-09-08\n",
      "wealth = 0.9696361558330164\n",
      "[0.19442105 0.21254311 0.18898401 0.07038738 0.07288158 0.24035993\n",
      " 0.02042294]\n",
      "[ 0.10165417  0.07852927 -0.06347022 -0.03528355  0.03302999  0.03007462\n",
      " -0.14453428]\n",
      "======================================================\n",
      "2023-09-09\n",
      "======================================================\n",
      "2023-09-10\n",
      "======================================================\n",
      "2023-09-11\n",
      "wealth = 0.9663676228327118\n",
      "[0.06185236 0.20258038 0.22353778 0.01318576 0.00935985 0.25583739\n",
      " 0.23364647]\n",
      "[-0.13256869 -0.00996272  0.03455376 -0.05720162 -0.06352173  0.01547747\n",
      "  0.21322353]\n",
      "======================================================\n",
      "2023-09-12\n",
      "wealth = 0.9728536307765872\n",
      "[0.02132415 0.29556475 0.23494037 0.19281644 0.20206918 0.02537418\n",
      " 0.02791093]\n",
      "[-0.04052821  0.09298437  0.01140259  0.17963068  0.19270932 -0.23046321\n",
      " -0.20573554]\n",
      "======================================================\n",
      "2023-09-13\n",
      "wealth = 0.9734530913333169\n",
      "[0.06739786 0.20126498 0.15581439 0.10823999 0.25110512 0.02352931\n",
      " 0.19264835]\n",
      "[ 0.04607371 -0.09429978 -0.07912597 -0.08457645  0.04903595 -0.00184487\n",
      "  0.16473741]\n",
      "======================================================\n",
      "2023-09-14\n",
      "wealth = 0.965669686748594\n",
      "[0.19390354 0.07923658 0.0407302  0.20074593 0.14897847 0.22573942\n",
      " 0.11066586]\n",
      "[ 0.12650568 -0.1220284  -0.11508419  0.09250594 -0.10212666  0.20221011\n",
      " -0.08198248]\n",
      "======================================================\n",
      "2023-09-15\n"
     ]
    },
    {
     "name": "stdout",
     "output_type": "stream",
     "text": [
      "wealth = 0.9708816392297882\n",
      "[0.21047199 0.19868466 0.00373809 0.16122753 0.18819067 0.1697031\n",
      " 0.06798397]\n",
      "[ 0.01656845  0.11944808 -0.03699211 -0.03951841  0.0392122  -0.05603632\n",
      " -0.04268189]\n",
      "======================================================\n",
      "2023-09-16\n",
      "======================================================\n",
      "2023-09-17\n",
      "======================================================\n",
      "2023-09-18\n",
      "wealth = 0.9726640986491775\n",
      "[0.0494035  0.32481257 0.16751396 0.33231256 0.05062317 0.07037894\n",
      " 0.00495531]\n",
      "[-0.16106848  0.12612791  0.16377587  0.17108503 -0.1375675  -0.09932416\n",
      " -0.06302866]\n",
      "======================================================\n",
      "2023-09-19\n",
      "wealth = 0.9697356685397812\n",
      "[0.19642807 0.20798048 0.0781657  0.08216293 0.11443943 0.14402295\n",
      " 0.17680044]\n",
      "[ 0.14702456 -0.11683209 -0.08934825 -0.25014963  0.06381626  0.07364401\n",
      "  0.17184513]\n",
      "======================================================\n",
      "2023-09-20\n",
      "wealth = 0.9703580141719487\n",
      "[0.16905905 0.05650065 0.08245103 0.34429201 0.04652419 0.03456389\n",
      " 0.26660918]\n",
      "[-0.02736902 -0.15147983  0.00428533  0.26212908 -0.06791524 -0.10945906\n",
      "  0.08980874]\n",
      "CPU times: user 405 ms, sys: 31.7 ms, total: 437 ms\n",
      "Wall time: 466 ms\n"
     ]
    }
   ],
   "source": [
    "%%time\n",
    "start_date, end_date = (\n",
    "    pd.Timestamp(\"2023-08-01\"),\n",
    "    bond_data.price.index.get_level_values(0).max(),\n",
    ")\n",
    "day_ = pd.Timedelta(days=1)\n",
    "\n",
    "dates = pd.date_range(start_date, end_date).date\n",
    "for date in dates:\n",
    "    print(\"======================================================\")\n",
    "    print(date)\n",
    "    a = (np.random.uniform(-1, 1, port.universe_size) + 1) / 2\n",
    "\n",
    "    price_today = bond_data.price.loc[\n",
    "        pd.IndexSlice[slice(date, date), port.bond_universe], :\n",
    "    ]\n",
    "    if price_today.empty:\n",
    "        continue\n",
    "    price_today = price_today.loc[(slice(None), port.bond_universe),].mid\n",
    "    new_weights = a / a.sum(axis=0, keepdims=1)\n",
    "\n",
    "    wealth = port.wealth(price_today.values)\n",
    "    print(f\"{wealth = }\")\n",
    "    qty = wealth * new_weights / price_today\n",
    "    print(new_weights)\n",
    "    print(new_weights - port.weights)\n",
    "    cash = wealth - qty @ price_today\n",
    "    port.update_portfolio(new_weights, qty, cash, date)"
   ]
  },
  {
   "cell_type": "markdown",
   "metadata": {},
   "source": [
    "### Random Weights Strategy Results"
   ]
  },
  {
   "cell_type": "code",
   "execution_count": 9,
   "metadata": {},
   "outputs": [
    {
     "data": {
      "text/plain": [
       "0.9703580141719487"
      ]
     },
     "execution_count": 9,
     "metadata": {},
     "output_type": "execute_result"
    }
   ],
   "source": [
    "wealth"
   ]
  },
  {
   "cell_type": "code",
   "execution_count": 10,
   "metadata": {
    "ExecuteTime": {
     "start_time": "2023-11-10T21:53:08.851078Z"
    }
   },
   "outputs": [],
   "source": [
    "# df with \"dur_mod\", \"yield\", \"shape\" field for each day and each bond\n",
    "sharpe_data = (\n",
    "    bond_data.duration.groupby([\"date\", \"isin\"])\n",
    "    .dur_mod.mean()\n",
    "    .to_frame()\n",
    "    .loc[(slice(None), BOND_UNIVERSE), [\"dur_mod\"]]\n",
    "    .fillna(float(\"inf\"))\n",
    "    .join(\n",
    "        bond_data.yield_.set_index([\"date\", \"isin\"]).loc[\n",
    "            (slice(None), BOND_UNIVERSE), [\"yield\"]\n",
    "        ],\n",
    "    )\n",
    ")\n",
    "\n",
    "sharpe_data[\"sharpe\"] = sharpe_data[\"yield\"] / sharpe_data[\"dur_mod\"]\n",
    "sharpe_data = sharpe_data.sort_index()"
   ]
  },
  {
   "cell_type": "code",
   "execution_count": 11,
   "metadata": {},
   "outputs": [
    {
     "data": {
      "text/html": [
       "<div>\n",
       "<style scoped>\n",
       "    .dataframe tbody tr th:only-of-type {\n",
       "        vertical-align: middle;\n",
       "    }\n",
       "\n",
       "    .dataframe tbody tr th {\n",
       "        vertical-align: top;\n",
       "    }\n",
       "\n",
       "    .dataframe thead th {\n",
       "        text-align: right;\n",
       "    }\n",
       "</style>\n",
       "<table border=\"1\" class=\"dataframe\">\n",
       "  <thead>\n",
       "    <tr style=\"text-align: right;\">\n",
       "      <th></th>\n",
       "      <th>dur_mod</th>\n",
       "      <th>yield</th>\n",
       "      <th>sharpe</th>\n",
       "      <th>sharpe_squared</th>\n",
       "      <th>weight</th>\n",
       "    </tr>\n",
       "    <tr>\n",
       "      <th>isin</th>\n",
       "      <th></th>\n",
       "      <th></th>\n",
       "      <th></th>\n",
       "      <th></th>\n",
       "      <th></th>\n",
       "    </tr>\n",
       "  </thead>\n",
       "  <tbody>\n",
       "    <tr>\n",
       "      <th>RU000A0JUMH3</th>\n",
       "      <td>0.588109</td>\n",
       "      <td>0.115846</td>\n",
       "      <td>0.196981</td>\n",
       "      <td>0.038802</td>\n",
       "      <td>0.651056</td>\n",
       "    </tr>\n",
       "    <tr>\n",
       "      <th>RU000A0JVA10</th>\n",
       "      <td>1.177732</td>\n",
       "      <td>0.132693</td>\n",
       "      <td>0.112669</td>\n",
       "      <td>0.012694</td>\n",
       "      <td>0.212997</td>\n",
       "    </tr>\n",
       "    <tr>\n",
       "      <th>RU000A0JW0S4</th>\n",
       "      <td>1.855754</td>\n",
       "      <td>0.127511</td>\n",
       "      <td>0.068711</td>\n",
       "      <td>0.004721</td>\n",
       "      <td>0.079218</td>\n",
       "    </tr>\n",
       "    <tr>\n",
       "      <th>RU000A0JWDN6</th>\n",
       "      <td>2.274082</td>\n",
       "      <td>0.118546</td>\n",
       "      <td>0.052129</td>\n",
       "      <td>0.002717</td>\n",
       "      <td>0.045596</td>\n",
       "    </tr>\n",
       "    <tr>\n",
       "      <th>RU000A0GN9A7</th>\n",
       "      <td>6.657464</td>\n",
       "      <td>0.115169</td>\n",
       "      <td>0.017299</td>\n",
       "      <td>0.000299</td>\n",
       "      <td>0.005021</td>\n",
       "    </tr>\n",
       "    <tr>\n",
       "      <th>RU000A0JV4N8</th>\n",
       "      <td>5.636553</td>\n",
       "      <td>0.081891</td>\n",
       "      <td>0.014529</td>\n",
       "      <td>0.000211</td>\n",
       "      <td>0.003542</td>\n",
       "    </tr>\n",
       "    <tr>\n",
       "      <th>RU000A0JV4Q1</th>\n",
       "      <td>6.702876</td>\n",
       "      <td>0.082937</td>\n",
       "      <td>0.012373</td>\n",
       "      <td>0.000153</td>\n",
       "      <td>0.002569</td>\n",
       "    </tr>\n",
       "  </tbody>\n",
       "</table>\n",
       "</div>"
      ],
      "text/plain": [
       "               dur_mod     yield    sharpe  sharpe_squared    weight\n",
       "isin                                                                \n",
       "RU000A0JUMH3  0.588109  0.115846  0.196981        0.038802  0.651056\n",
       "RU000A0JVA10  1.177732  0.132693  0.112669        0.012694  0.212997\n",
       "RU000A0JW0S4  1.855754  0.127511  0.068711        0.004721  0.079218\n",
       "RU000A0JWDN6  2.274082  0.118546  0.052129        0.002717  0.045596\n",
       "RU000A0GN9A7  6.657464  0.115169  0.017299        0.000299  0.005021\n",
       "RU000A0JV4N8  5.636553  0.081891  0.014529        0.000211  0.003542\n",
       "RU000A0JV4Q1  6.702876  0.082937  0.012373        0.000153  0.002569"
      ]
     },
     "execution_count": 11,
     "metadata": {},
     "output_type": "execute_result"
    }
   ],
   "source": [
    "sharpe_data_sorted = sharpe_data.loc[date].sort_values(\n",
    "    \"sharpe\", ascending=False\n",
    ")\n",
    "sharpe_data_sorted[\"sharpe_squared\"] = sharpe_data_sorted[\"sharpe\"] ** 2\n",
    "sharpe_data_sorted[\"weight\"] = (\n",
    "    sharpe_data_sorted[\"sharpe_squared\"]\n",
    "    / sharpe_data_sorted[\"sharpe_squared\"].sum()\n",
    ")\n",
    "sharpe_data_sorted\n",
    "# select max sharp\n",
    "# weights = (\n",
    "#     sharpe_data_sorted.loc[(slice(None), universe), :]"
   ]
  },
  {
   "cell_type": "code",
   "execution_count": 12,
   "metadata": {},
   "outputs": [
    {
     "data": {
      "text/html": [
       "<div>\n",
       "<style scoped>\n",
       "    .dataframe tbody tr th:only-of-type {\n",
       "        vertical-align: middle;\n",
       "    }\n",
       "\n",
       "    .dataframe tbody tr th {\n",
       "        vertical-align: top;\n",
       "    }\n",
       "\n",
       "    .dataframe thead th {\n",
       "        text-align: right;\n",
       "    }\n",
       "</style>\n",
       "<table border=\"1\" class=\"dataframe\">\n",
       "  <thead>\n",
       "    <tr style=\"text-align: right;\">\n",
       "      <th></th>\n",
       "      <th></th>\n",
       "      <th>dur_mod</th>\n",
       "      <th>yield</th>\n",
       "      <th>sharpe</th>\n",
       "    </tr>\n",
       "    <tr>\n",
       "      <th>date</th>\n",
       "      <th>isin</th>\n",
       "      <th></th>\n",
       "      <th></th>\n",
       "      <th></th>\n",
       "    </tr>\n",
       "  </thead>\n",
       "  <tbody>\n",
       "    <tr>\n",
       "      <th rowspan=\"7\" valign=\"top\">2023-09-20</th>\n",
       "      <th>RU000A0JUMH3</th>\n",
       "      <td>0.588109</td>\n",
       "      <td>0.115846</td>\n",
       "      <td>0.196981</td>\n",
       "    </tr>\n",
       "    <tr>\n",
       "      <th>RU000A0JVA10</th>\n",
       "      <td>1.177732</td>\n",
       "      <td>0.132693</td>\n",
       "      <td>0.112669</td>\n",
       "    </tr>\n",
       "    <tr>\n",
       "      <th>RU000A0JW0S4</th>\n",
       "      <td>1.855754</td>\n",
       "      <td>0.127511</td>\n",
       "      <td>0.068711</td>\n",
       "    </tr>\n",
       "    <tr>\n",
       "      <th>RU000A0JWDN6</th>\n",
       "      <td>2.274082</td>\n",
       "      <td>0.118546</td>\n",
       "      <td>0.052129</td>\n",
       "    </tr>\n",
       "    <tr>\n",
       "      <th>RU000A0GN9A7</th>\n",
       "      <td>6.657464</td>\n",
       "      <td>0.115169</td>\n",
       "      <td>0.017299</td>\n",
       "    </tr>\n",
       "    <tr>\n",
       "      <th>RU000A0JV4N8</th>\n",
       "      <td>5.636553</td>\n",
       "      <td>0.081891</td>\n",
       "      <td>0.014529</td>\n",
       "    </tr>\n",
       "    <tr>\n",
       "      <th>RU000A0JV4Q1</th>\n",
       "      <td>6.702876</td>\n",
       "      <td>0.082937</td>\n",
       "      <td>0.012373</td>\n",
       "    </tr>\n",
       "  </tbody>\n",
       "</table>\n",
       "</div>"
      ],
      "text/plain": [
       "                          dur_mod     yield    sharpe\n",
       "date       isin                                      \n",
       "2023-09-20 RU000A0JUMH3  0.588109  0.115846  0.196981\n",
       "           RU000A0JVA10  1.177732  0.132693  0.112669\n",
       "           RU000A0JW0S4  1.855754  0.127511  0.068711\n",
       "           RU000A0JWDN6  2.274082  0.118546  0.052129\n",
       "           RU000A0GN9A7  6.657464  0.115169  0.017299\n",
       "           RU000A0JV4N8  5.636553  0.081891  0.014529\n",
       "           RU000A0JV4Q1  6.702876  0.082937  0.012373"
      ]
     },
     "execution_count": 12,
     "metadata": {},
     "output_type": "execute_result"
    }
   ],
   "source": [
    "sharpe_data.loc[(date, slice(None)), :].sort_values(\n",
    "        \"sharpe\", ascending=False\n",
    "    )"
   ]
  },
  {
   "cell_type": "code",
   "execution_count": 13,
   "metadata": {
    "ExecuteTime": {
     "start_time": "2023-11-10T21:53:08.852249Z"
    }
   },
   "outputs": [],
   "source": [
    "port = BondPortfolio(\n",
    "    cash=1,\n",
    "    bond_universe=BOND_UNIVERSE,\n",
    ")"
   ]
  },
  {
   "cell_type": "code",
   "execution_count": 14,
   "metadata": {
    "ExecuteTime": {
     "start_time": "2023-11-10T21:53:08.853411Z"
    }
   },
   "outputs": [],
   "source": [
    "def get_weights(date: datetime.date, universe: tuple[str]):\n",
    "    \"\"\"Get target weights based on sharpe ratio.\"\"\"\n",
    "    sharpe_data_sorted = sharpe_data.loc[(date, slice(None)), :].sort_values(\n",
    "        \"sharpe\", ascending=False\n",
    "    )\n",
    "    sharpe_data_sorted[\"sharpe_squared\"] = sharpe_data_sorted[\"sharpe\"] ** 2\n",
    "    sharpe_data_sorted[\"weight\"] = (\n",
    "        sharpe_data_sorted[\"sharpe_squared\"]\n",
    "        / sharpe_data_sorted[\"sharpe_squared\"].sum()\n",
    "    )\n",
    "\n",
    "    # select max sharp\n",
    "    weights = (\n",
    "        sharpe_data_sorted.loc[(slice(None), universe), :]\n",
    "        .reset_index()[\"weight\"]\n",
    "        .fillna(0)\n",
    "        .values\n",
    "    )\n",
    "    assert len(weights) == len(universe), f\"{len(weights)},  {len(universe)}\"\n",
    "    return weights"
   ]
  },
  {
   "cell_type": "code",
   "execution_count": 15,
   "metadata": {
    "ExecuteTime": {
     "start_time": "2023-11-10T21:53:08.854713Z"
    }
   },
   "outputs": [
    {
     "name": "stdout",
     "output_type": "stream",
     "text": [
      "======================================================\n",
      "2023-08-01\n",
      "wealth = 1.0\n",
      "cash = -2.220446049250313e-16\n",
      "======================================================\n",
      "2023-08-02\n",
      "wealth = 0.9998776059973081\n",
      "cash = 0.0\n",
      "======================================================\n",
      "2023-08-03\n",
      "wealth = 0.9978527371131432\n",
      "cash = 2.220446049250313e-16\n",
      "======================================================\n",
      "2023-08-04\n",
      "wealth = 0.9979638505969906\n",
      "cash = 1.1102230246251565e-16\n",
      "======================================================\n",
      "2023-08-05\n",
      "======================================================\n",
      "2023-08-06\n",
      "======================================================\n",
      "2023-08-07\n",
      "wealth = 0.9964516162626472\n",
      "cash = 1.1102230246251565e-16\n",
      "======================================================\n",
      "2023-08-08\n",
      "wealth = 0.9968897272080549\n",
      "cash = 4.440892098500626e-16\n",
      "======================================================\n",
      "2023-08-09\n",
      "wealth = 0.995203588400843\n",
      "cash = -1.1102230246251565e-16\n",
      "======================================================\n",
      "2023-08-10\n",
      "wealth = 0.9989990726492805\n",
      "cash = 1.1102230246251565e-16\n",
      "======================================================\n",
      "2023-08-11\n",
      "wealth = 0.9959058195303009\n",
      "cash = 1.1102230246251565e-16\n",
      "======================================================\n",
      "2023-08-12\n",
      "======================================================\n",
      "2023-08-13\n",
      "======================================================\n",
      "2023-08-14\n",
      "wealth = 0.9964227757856775\n",
      "cash = -1.1102230246251565e-16\n",
      "======================================================\n",
      "2023-08-15\n",
      "wealth = 0.9859243737486094\n",
      "cash = 0.0\n",
      "======================================================\n",
      "2023-08-16\n",
      "wealth = 0.9928902742058034\n",
      "cash = -1.1102230246251565e-16\n",
      "======================================================\n",
      "2023-08-17\n",
      "wealth = 0.9896478701483993\n",
      "cash = 0.0\n",
      "======================================================\n",
      "2023-08-18\n",
      "wealth = 0.9898619585040243\n",
      "cash = -1.1102230246251565e-16\n",
      "======================================================\n",
      "2023-08-19\n",
      "======================================================\n",
      "2023-08-20\n",
      "======================================================\n",
      "2023-08-21\n",
      "wealth = 0.994536924325512\n",
      "cash = 0.0\n",
      "======================================================\n",
      "2023-08-22\n",
      "wealth = 0.9910579405314937\n",
      "cash = 0.0\n",
      "======================================================\n",
      "2023-08-23\n",
      "wealth = 0.9922878023330376\n",
      "cash = -1.1102230246251565e-16\n",
      "======================================================\n",
      "2023-08-24\n",
      "wealth = 0.9868185922315081\n",
      "cash = 0.0\n",
      "======================================================\n",
      "2023-08-25\n",
      "wealth = 0.9898396791488517\n",
      "cash = 0.0\n",
      "======================================================\n",
      "2023-08-26\n",
      "======================================================\n",
      "2023-08-27\n",
      "======================================================\n",
      "2023-08-28\n",
      "wealth = 0.9918397925253065\n",
      "cash = 0.0\n",
      "======================================================\n",
      "2023-08-29\n",
      "wealth = 0.986491808057275\n",
      "cash = 1.1102230246251565e-16\n",
      "======================================================\n",
      "2023-08-30\n",
      "wealth = 0.9840209208896923\n",
      "cash = 0.0\n",
      "======================================================\n",
      "2023-08-31\n",
      "wealth = 0.9849904156857747\n",
      "cash = 0.0\n",
      "======================================================\n",
      "2023-09-01\n",
      "wealth = 0.985456288847552\n",
      "cash = 0.0\n",
      "======================================================\n",
      "2023-09-02\n",
      "======================================================\n",
      "2023-09-03\n",
      "======================================================\n",
      "2023-09-04\n",
      "wealth = 0.9850480420865924\n",
      "cash = 0.0\n",
      "======================================================\n",
      "2023-09-05\n",
      "wealth = 0.9853309183743404\n",
      "cash = -2.220446049250313e-16\n",
      "======================================================\n",
      "2023-09-06\n",
      "wealth = 0.9828176371802981\n",
      "cash = 1.1102230246251565e-16\n",
      "======================================================\n",
      "2023-09-07\n",
      "wealth = 0.9812589617292277\n",
      "cash = 1.1102230246251565e-16\n",
      "======================================================\n",
      "2023-09-08\n",
      "wealth = 0.9796714969284755\n",
      "cash = 1.1102230246251565e-16\n",
      "======================================================\n",
      "2023-09-09\n",
      "======================================================\n",
      "2023-09-10\n",
      "======================================================\n",
      "2023-09-11\n",
      "wealth = 0.9778447617686152\n",
      "cash = -1.1102230246251565e-16\n",
      "======================================================\n",
      "2023-09-12\n",
      "wealth = 0.9802753990525032\n",
      "cash = 0.0\n",
      "======================================================\n",
      "2023-09-13\n",
      "wealth = 0.9791274798460613\n",
      "cash = -2.220446049250313e-16\n",
      "======================================================\n",
      "2023-09-14\n",
      "wealth = 0.976549324364734\n",
      "cash = 0.0\n",
      "======================================================\n",
      "2023-09-15\n",
      "wealth = 0.9785840825832375\n",
      "cash = 0.0\n",
      "======================================================\n",
      "2023-09-16\n",
      "======================================================\n",
      "2023-09-17\n",
      "======================================================\n",
      "2023-09-18\n",
      "wealth = 0.9793631419093958\n",
      "cash = 0.0\n",
      "======================================================\n",
      "2023-09-19\n",
      "wealth = 0.979063029719551\n",
      "cash = -1.1102230246251565e-16\n",
      "======================================================\n",
      "2023-09-20\n",
      "wealth = 0.9804940314777225\n",
      "cash = 1.1102230246251565e-16\n",
      "CPU times: user 540 ms, sys: 29.1 ms, total: 569 ms\n",
      "Wall time: 653 ms\n"
     ]
    }
   ],
   "source": [
    "%%time\n",
    "\n",
    "start_date, end_date = (\n",
    "    pd.Timestamp(\"2023-08-01\"),\n",
    "    bond_data.price.index.get_level_values(0).max(),\n",
    ")\n",
    "dates = pd.date_range(start_date, end_date).date\n",
    "for date in dates:\n",
    "    print(\"======================================================\")\n",
    "    print(date)\n",
    "\n",
    "    price_today = bond_data.price.loc[slice(date, date), port.bond_universe, :]\n",
    "    if price_today.empty:\n",
    "        continue\n",
    "    price_today = price_today.loc[(slice(None), port.bond_universe),].mid\n",
    "\n",
    "    new_weights = get_weights(date, BOND_UNIVERSE)  # optimal sharp weights\n",
    "\n",
    "    wealth = port.wealth(price_today.values)\n",
    "    print(f\"{wealth = }\")\n",
    "    qty = wealth * new_weights / price_today.values\n",
    "    cash = wealth - qty @ price_today.values\n",
    "    print(f\"{cash = }\")\n",
    "    port.update_portfolio(new_weights, qty, cash, date)"
   ]
  },
  {
   "cell_type": "markdown",
   "metadata": {},
   "source": [
    "### Sharpe Ratio Strategy Results"
   ]
  },
  {
   "cell_type": "code",
   "execution_count": 16,
   "metadata": {
    "ExecuteTime": {
     "start_time": "2023-11-10T21:53:08.856550Z"
    }
   },
   "outputs": [
    {
     "data": {
      "text/plain": [
       "0.9804940314777225"
      ]
     },
     "execution_count": 16,
     "metadata": {},
     "output_type": "execute_result"
    }
   ],
   "source": [
    "wealth"
   ]
  },
  {
   "cell_type": "markdown",
   "metadata": {},
   "source": [
    "## Quadratic optimization"
   ]
  },
  {
   "cell_type": "code",
   "execution_count": 17,
   "metadata": {},
   "outputs": [],
   "source": [
    "# create portfolio for a quadratic optimization\n",
    "port = BondPortfolio(\n",
    "    bond_universe=BOND_UNIVERSE,\n",
    "    cash=1,\n",
    ")"
   ]
  },
  {
   "cell_type": "code",
   "execution_count": 18,
   "metadata": {
    "ExecuteTime": {
     "start_time": "2023-11-10T21:53:08.858707Z"
    }
   },
   "outputs": [
    {
     "name": "stdout",
     "output_type": "stream",
     "text": [
      "======================================================\n",
      "2023-08-01\n",
      "wealth = 1.0\n",
      "cash = -1.1679546219056647e-13\n",
      "======================================================\n",
      "2023-08-02\n",
      "wealth = 1.0000037860816073\n",
      "cash = -1.1679546219056647e-13\n",
      "======================================================\n",
      "2023-08-03\n",
      "wealth = 0.9963256745003232\n",
      "cash = -1.162403506782539e-13\n",
      "======================================================\n",
      "2023-08-04\n",
      "wealth = 0.9895599962191838\n",
      "cash = -1.1535217225855376e-13\n",
      "======================================================\n",
      "2023-08-05\n",
      "======================================================\n",
      "2023-08-06\n",
      "======================================================\n",
      "2023-08-07\n",
      "wealth = 0.9874742394798312\n",
      "cash = -1.1535217225855376e-13\n",
      "======================================================\n",
      "2023-08-08\n",
      "wealth = 0.9862315512629515\n",
      "cash = -1.1513012765362873e-13\n",
      "======================================================\n",
      "2023-08-09\n",
      "wealth = 0.9874975561348939\n",
      "cash = -1.1535217225855376e-13\n",
      "======================================================\n",
      "2023-08-10\n",
      "wealth = 0.987444831280657\n",
      "cash = -1.1524114995609125e-13\n",
      "======================================================\n",
      "2023-08-11\n",
      "wealth = 0.9840048967607711\n",
      "cash = -1.1479706074624119e-13\n",
      "======================================================\n",
      "2023-08-12\n",
      "======================================================\n",
      "2023-08-13\n",
      "======================================================\n",
      "2023-08-14\n",
      "wealth = 0.9827308172475412\n",
      "cash = -1.1468603844377867e-13\n",
      "======================================================\n",
      "2023-08-15\n",
      "wealth = 0.9801812696506077\n",
      "cash = -1.142419492339286e-13\n",
      "======================================================\n",
      "2023-08-16\n",
      "wealth = 0.9812553297810452\n",
      "cash = -1.1446399383885364e-13\n",
      "======================================================\n",
      "2023-08-17\n",
      "wealth = 0.9802001877791645\n",
      "cash = -1.1446399383885364e-13\n",
      "======================================================\n",
      "2023-08-18\n",
      "wealth = 0.9826006952209113\n",
      "cash = -1.1468603844377867e-13\n",
      "======================================================\n",
      "2023-08-19\n",
      "======================================================\n",
      "2023-08-20\n",
      "======================================================\n",
      "2023-08-21\n",
      "wealth = 0.9847894872745714\n",
      "cash = -1.149080830487037e-13\n",
      "======================================================\n",
      "2023-08-22\n",
      "wealth = 0.9803494310425812\n",
      "cash = -1.1446399383885364e-13\n",
      "======================================================\n",
      "2023-08-23\n",
      "wealth = 0.9866331083223703\n",
      "cash = -1.1524114995609125e-13\n",
      "======================================================\n",
      "2023-08-24\n",
      "wealth = 0.9755268379431965\n",
      "cash = -1.1390888232654106e-13\n",
      "======================================================\n",
      "2023-08-25\n",
      "wealth = 0.985489547964481\n",
      "cash = -1.1501910535116622e-13\n",
      "======================================================\n",
      "2023-08-26\n",
      "======================================================\n",
      "2023-08-27\n",
      "======================================================\n",
      "2023-08-28\n",
      "wealth = 0.9865950985036085\n",
      "cash = -2.069899807111142e-12\n",
      "======================================================\n",
      "2023-08-29\n",
      "wealth = 0.9864813312558633\n",
      "cash = -1.1124434706744069e-12\n",
      "======================================================\n",
      "2023-08-30\n",
      "wealth = 0.9751521651217239\n",
      "cash = -8.455458555545192e-13\n",
      "======================================================\n",
      "2023-08-31\n",
      "wealth = 0.9761412966541891\n",
      "cash = -4.4297898682543746e-13\n",
      "======================================================\n",
      "2023-09-01\n",
      "wealth = 0.9776090354723139\n",
      "cash = -1.7812418207086012e-12\n",
      "======================================================\n",
      "2023-09-02\n",
      "======================================================\n",
      "2023-09-03\n",
      "======================================================\n",
      "2023-09-04\n",
      "wealth = 0.9781480765741416\n",
      "cash = -3.4494629375103614e-13\n",
      "======================================================\n",
      "2023-09-05\n",
      "wealth = 0.9752822020179706\n",
      "cash = -1.1375345110309354e-12\n",
      "======================================================\n",
      "2023-09-06\n",
      "wealth = 0.9760216745265744\n",
      "cash = -7.396305790052793e-13\n",
      "======================================================\n",
      "2023-09-07\n",
      "wealth = 0.9741921425351285\n",
      "cash = -1.6835421945415874e-12\n",
      "======================================================\n",
      "2023-09-08\n",
      "wealth = 0.97318439251806\n",
      "cash = -9.093836794704657e-13\n",
      "======================================================\n",
      "2023-09-09\n",
      "======================================================\n",
      "2023-09-10\n",
      "======================================================\n",
      "2023-09-11\n",
      "wealth = 0.9656579299354996\n",
      "cash = -2.3314683517128287e-15\n",
      "======================================================\n",
      "2023-09-12\n",
      "wealth = 0.9658073046797523\n",
      "cash = -2.4424906541753444e-15\n",
      "======================================================\n",
      "2023-09-13\n",
      "wealth = 0.9566604425582816\n",
      "cash = -3.235189893757706e-13\n",
      "======================================================\n",
      "2023-09-14\n",
      "wealth = 0.956364476658758\n",
      "cash = -6.17284001691587e-13\n",
      "======================================================\n",
      "2023-09-15\n",
      "wealth = 0.9622078014111337\n",
      "cash = -3.503863865716994e-13\n",
      "======================================================\n",
      "2023-09-16\n",
      "======================================================\n",
      "2023-09-17\n",
      "======================================================\n",
      "2023-09-18\n",
      "wealth = 0.9722836748482476\n",
      "cash = -1.0942358130705543e-12\n",
      "======================================================\n",
      "2023-09-19\n",
      "wealth = 0.9662297617933592\n",
      "cash = -1.1579626146840383e-13\n",
      "======================================================\n",
      "2023-09-20\n",
      "wealth = 0.9636249657462882\n",
      "cash = -3.991251773527438e-13\n",
      "CPU times: user 9.15 s, sys: 2.87 s, total: 12 s\n",
      "Wall time: 13 s\n"
     ]
    }
   ],
   "source": [
    "%%time\n",
    "\n",
    "from baseline.quadratic import get_optimal_weights\n",
    "\n",
    "start_date, end_date = (\n",
    "    pd.Timestamp(\"2023-08-01\"),\n",
    "    bond_data.price.index.get_level_values(0).max(),\n",
    ")\n",
    "dates = pd.date_range(start_date, end_date).date\n",
    "for date in dates:\n",
    "    print(\"======================================================\")\n",
    "    print(date)\n",
    "\n",
    "    if not date in bond_data.price.index.get_level_values('date'):\n",
    "        continue\n",
    "\n",
    "    price_today = bond_data.price.loc[slice(date, date), port.bond_universe, :]\n",
    "    if price_today.empty:\n",
    "        continue\n",
    "    price_today = price_today.loc[(slice(None), port.bond_universe),].mid\n",
    "\n",
    "    #\n",
    "    # prepare data\n",
    "    #\n",
    "    today_info = (\n",
    "        price_today.to_frame()\n",
    "        .join(\n",
    "            bond_data.duration.loc[\n",
    "                pd.IndexSlice[slice(date, date), port.bond_universe], \"dur_mod\"\n",
    "            ]\n",
    "            .groupby([\"date\", \"isin\"])\n",
    "            .mean()\n",
    "            .fillna(float(\"inf\"))\n",
    "        )\n",
    "        .join(\n",
    "            bond_data.yield_.set_index([\"date\", \"isin\"]).loc[\n",
    "                (slice(date, date), port.bond_universe), :\n",
    "            ]\n",
    "        )\n",
    "    )\n",
    "\n",
    "    rating_reduced = bond_data.rating[\n",
    "        bond_data.rating[\"isin\"].isin(port.bond_universe)\n",
    "        & (bond_data.rating.update_date < date)\n",
    "    ].sort_values(\"update_date\")\n",
    "\n",
    "    rating_reduced = rating_reduced.groupby(\"isin\").num_rating.last()\n",
    "\n",
    "    today_info = today_info.join(rating_reduced)\n",
    "    today_info[\"num_rating\"] = today_info[\"num_rating\"].fillna(0)\n",
    "    #\n",
    "    # make predictions\n",
    "    #\n",
    "    new_weights = get_optimal_weights(\n",
    "        bond_data=today_info,\n",
    "        upper_bound=0.5,\n",
    "        value_date=date,\n",
    "        maturity_limit=10,\n",
    "    )  # optimal sharp weights\n",
    "    \n",
    "    wealth = port.wealth(price_today.values)\n",
    "    print(f\"{wealth = }\")\n",
    "    qty = wealth * new_weights / price_today.values\n",
    "    cash = wealth - qty @ price_today.values\n",
    "    print(f\"{cash = }\")\n",
    "    port.update_portfolio(new_weights, qty, cash, date)"
   ]
  },
  {
   "cell_type": "code",
   "execution_count": 19,
   "metadata": {
    "ExecuteTime": {
     "start_time": "2023-11-10T21:53:08.860296Z"
    }
   },
   "outputs": [
    {
     "data": {
      "text/plain": [
       "0.9636249657462882"
      ]
     },
     "execution_count": 19,
     "metadata": {},
     "output_type": "execute_result"
    }
   ],
   "source": [
    "wealth"
   ]
  },
  {
   "cell_type": "markdown",
   "metadata": {},
   "source": [
    "# Linear programming"
   ]
  },
  {
   "cell_type": "code",
   "execution_count": 20,
   "metadata": {},
   "outputs": [],
   "source": [
    "from models.linear_programming import linear_minimize"
   ]
  },
  {
   "cell_type": "code",
   "execution_count": 21,
   "metadata": {},
   "outputs": [],
   "source": [
    "# create portfolio for a linear programming optimization\n",
    "port = BondPortfolio(\n",
    "    bond_universe=BOND_UNIVERSE,\n",
    "    cash=1,\n",
    ")"
   ]
  },
  {
   "cell_type": "code",
   "execution_count": 22,
   "metadata": {},
   "outputs": [
    {
     "name": "stdout",
     "output_type": "stream",
     "text": [
      "======================================================\n",
      "2023-08-01\n",
      "wealth = 1.0\n",
      "cash = 0.0\n",
      "======================================================\n",
      "2023-08-02\n",
      "wealth = 0.9978045374065733\n",
      "cash = 0.0\n",
      "======================================================\n",
      "2023-08-03\n",
      "wealth = 0.9978455024310348\n",
      "cash = 0.0\n",
      "======================================================\n",
      "2023-08-04\n",
      "wealth = 0.9980826679418175\n",
      "cash = 0.0\n",
      "======================================================\n",
      "2023-08-05\n",
      "======================================================\n",
      "2023-08-06\n",
      "======================================================\n",
      "2023-08-07\n",
      "wealth = 0.9990478288376666\n",
      "cash = 0.0\n",
      "======================================================\n",
      "2023-08-08\n",
      "wealth = 0.9990478288376666\n",
      "cash = 0.0\n",
      "======================================================\n",
      "2023-08-09\n",
      "wealth = 0.998448400140364\n",
      "cash = -1.1102230246251565e-16\n",
      "======================================================\n",
      "2023-08-10\n",
      "wealth = 0.9984486087790215\n",
      "cash = 0.0\n",
      "======================================================\n",
      "2023-08-11\n",
      "wealth = 0.9990371641528787\n",
      "cash = 0.0\n",
      "======================================================\n",
      "2023-08-12\n",
      "======================================================\n",
      "2023-08-13\n",
      "======================================================\n",
      "2023-08-14\n",
      "wealth = 0.9982379344215564\n",
      "cash = 0.0\n",
      "======================================================\n",
      "2023-08-15\n",
      "wealth = 0.9972444325167902\n",
      "cash = 0.0\n",
      "======================================================\n",
      "2023-08-16\n",
      "wealth = 0.9971169341858521\n",
      "cash = 0.0\n",
      "======================================================\n",
      "2023-08-17\n",
      "wealth = 0.9972667362475559\n",
      "cash = 1.1102230246251565e-16\n",
      "======================================================\n",
      "2023-08-18\n",
      "wealth = 0.998640777888944\n",
      "cash = 0.0\n",
      "======================================================\n",
      "2023-08-19\n",
      "======================================================\n",
      "2023-08-20\n",
      "======================================================\n",
      "2023-08-21\n",
      "wealth = 0.9966549385588375\n",
      "cash = 1.1102230246251565e-16\n",
      "======================================================\n",
      "2023-08-22\n",
      "wealth = 0.9974507246439919\n",
      "cash = 0.0\n",
      "======================================================\n",
      "2023-08-23\n",
      "wealth = 0.9975320252235365\n",
      "cash = 0.0\n",
      "======================================================\n",
      "2023-08-24\n",
      "wealth = 0.9975158275873549\n",
      "cash = 0.0\n",
      "======================================================\n",
      "2023-08-25\n",
      "wealth = 0.9976121012991844\n",
      "cash = -1.1102230246251565e-16\n",
      "======================================================\n",
      "2023-08-26\n",
      "======================================================\n",
      "2023-08-27\n",
      "======================================================\n",
      "2023-08-28\n",
      "wealth = 1.0122779202497516\n",
      "cash = 2.220446049250313e-16\n",
      "======================================================\n",
      "2023-08-29\n",
      "wealth = 1.0063609575268913\n",
      "cash = 0.0\n",
      "======================================================\n",
      "2023-08-30\n",
      "wealth = 1.007605771944768\n",
      "cash = 0.0\n",
      "======================================================\n",
      "2023-08-31\n",
      "wealth = 1.0084914435474936\n",
      "cash = 0.0\n",
      "======================================================\n",
      "2023-09-01\n",
      "wealth = 1.0072065123902973\n",
      "cash = 0.0\n",
      "======================================================\n",
      "2023-09-02\n",
      "======================================================\n",
      "2023-09-03\n",
      "======================================================\n",
      "2023-09-04\n",
      "wealth = 1.0044034292187358\n",
      "cash = 0.0\n",
      "======================================================\n",
      "2023-09-05\n",
      "wealth = 1.0052183848870544\n",
      "cash = 0.0\n",
      "======================================================\n",
      "2023-09-06\n",
      "wealth = 1.005363450609941\n",
      "cash = 0.0\n",
      "======================================================\n",
      "2023-09-07\n",
      "wealth = 1.000479271810987\n",
      "cash = 0.0\n",
      "======================================================\n",
      "2023-09-08\n",
      "wealth = 1.0003462580149014\n",
      "cash = 0.0\n",
      "======================================================\n",
      "2023-09-09\n",
      "======================================================\n",
      "2023-09-10\n",
      "======================================================\n",
      "2023-09-11\n",
      "wealth = 1.000226793083656\n",
      "cash = 0.0\n",
      "======================================================\n",
      "2023-09-12\n",
      "wealth = 1.0037650908761813\n",
      "cash = 0.0\n",
      "======================================================\n",
      "2023-09-13\n",
      "wealth = 1.0025315119620517\n",
      "cash = 0.0\n",
      "======================================================\n",
      "2023-09-14\n",
      "wealth = 1.0003039621878675\n",
      "cash = 0.0\n",
      "======================================================\n",
      "2023-09-15\n",
      "wealth = 1.0004063128928555\n",
      "cash = 0.0\n",
      "======================================================\n",
      "2023-09-16\n",
      "======================================================\n",
      "2023-09-17\n",
      "======================================================\n",
      "2023-09-18\n",
      "wealth = 0.9988267074726886\n",
      "cash = 0.0\n",
      "======================================================\n",
      "2023-09-19\n",
      "wealth = 0.9975552307724009\n",
      "cash = 0.0\n",
      "======================================================\n",
      "2023-09-20\n",
      "wealth = 0.9968527743266545\n",
      "cash = -1.1102230246251565e-16\n",
      "CPU times: user 7.73 s, sys: 2.81 s, total: 10.5 s\n",
      "Wall time: 10.9 s\n"
     ]
    }
   ],
   "source": [
    "%%time\n",
    "\n",
    "start_date, end_date = (\n",
    "    pd.Timestamp(\"2023-08-01\"),\n",
    "    bond_data.price.index.get_level_values(0).max(),\n",
    ")\n",
    "dates = pd.date_range(start_date, end_date).date\n",
    "for date in dates:\n",
    "    print(\"======================================================\")\n",
    "    print(date)\n",
    "\n",
    "    if not date in bond_data.price.index.get_level_values('date'):\n",
    "        continue\n",
    "\n",
    "    price_today = bond_data.price.loc[slice(date, date), port.bond_universe, :]\n",
    "    if price_today.empty:\n",
    "        continue\n",
    "    price_today = price_today.loc[(slice(None), port.bond_universe),].mid\n",
    "\n",
    "    #\n",
    "    # prepare data\n",
    "    #\n",
    "    today_info = (\n",
    "        price_today.to_frame()\n",
    "        .join(\n",
    "            bond_data.duration.loc[\n",
    "                pd.IndexSlice[slice(date, date), port.bond_universe], \"dur_mod\"\n",
    "            ]\n",
    "            .groupby([\"date\", \"isin\"])\n",
    "            .mean()\n",
    "            .fillna(float(\"inf\"))\n",
    "        )\n",
    "        .join(\n",
    "            bond_data.yield_.set_index([\"date\", \"isin\"]).loc[\n",
    "                (slice(date, date), port.bond_universe), :\n",
    "            ]\n",
    "        )\n",
    "    )\n",
    "\n",
    "    new_weights=linear_minimize(today_info)\n",
    "   \n",
    "    wealth = port.wealth(price_today.values)\n",
    "    print(f\"{wealth = }\")\n",
    "    qty = wealth * new_weights / price_today.values\n",
    "    cash = wealth - qty @ price_today.values\n",
    "    print(f\"{cash = }\")\n",
    "    port.update_portfolio(new_weights, qty, cash, date)"
   ]
  },
  {
   "cell_type": "code",
   "execution_count": 23,
   "metadata": {},
   "outputs": [
    {
     "data": {
      "text/plain": [
       "0.9968527743266545"
      ]
     },
     "execution_count": 23,
     "metadata": {},
     "output_type": "execute_result"
    }
   ],
   "source": [
    "wealth"
   ]
  },
  {
   "cell_type": "code",
   "execution_count": 24,
   "metadata": {
    "ExecuteTime": {
     "start_time": "2023-11-10T21:53:08.865409Z"
    }
   },
   "outputs": [],
   "source": [
    "def get_portfolio_value_history(portfolio: BondPortfolio):\n",
    "    \"\"\"\n",
    "    df with 'qty', 'spread', 'ask', 'bid', 'ai', 'last', 'mid' columns for each bond and trading day of the `portfolio`\n",
    "    \"\"\"\n",
    "    portfolio_df = pd.DataFrame.from_dict(\n",
    "        portfolio._history_qty, orient=\"index\", columns=portfolio.bond_universe\n",
    "    )\n",
    "    portfolio_df.index.name = \"date\"\n",
    "\n",
    "    # wide df -> long df\n",
    "    portfolio_df = pd.melt(\n",
    "        portfolio_df.reset_index(),\n",
    "        \"date\",\n",
    "        value_vars=portfolio.bond_universe,\n",
    "        var_name=\"isin\",\n",
    "        value_name=\"qty\",\n",
    "    ).set_index([\"date\", \"isin\"])\n",
    "\n",
    "    price_df = bond_data.price.reset_index()\n",
    "    price_df = price_df.set_index([\"date\", \"isin\"])\n",
    "\n",
    "    portfolio_history = pd.merge(\n",
    "        portfolio_df,\n",
    "        price_df,\n",
    "        how=\"left\",\n",
    "        left_index=True,\n",
    "        right_index=True,\n",
    "    )\n",
    "\n",
    "    return portfolio_history"
   ]
  },
  {
   "cell_type": "markdown",
   "metadata": {},
   "source": [
    "#### portfolio PNL"
   ]
  },
  {
   "cell_type": "code",
   "execution_count": 25,
   "metadata": {
    "ExecuteTime": {
     "start_time": "2023-11-10T21:53:08.866446Z"
    }
   },
   "outputs": [],
   "source": [
    "portfolio_summary = get_portfolio_value_history(port)\n",
    "portfolio_summary[\"value\"] = portfolio_summary[\"qty\"] * portfolio_summary[\"mid\"]\n",
    "portfolio_summary_grouped = portfolio_summary.groupby(\"date\")"
   ]
  },
  {
   "cell_type": "code",
   "execution_count": 26,
   "metadata": {
    "ExecuteTime": {
     "start_time": "2023-11-10T21:53:08.867378Z"
    }
   },
   "outputs": [
    {
     "data": {
      "image/png": "[encoded data removed]",
      "text/plain": [
       "<Figure size 640x480 with 1 Axes>"
      ]
     },
     "metadata": {},
     "output_type": "display_data"
    }
   ],
   "source": [
    "# benchmark rgbitr\n",
    "rgbitr_slice = bond_data.rgbitr.set_index(\"date\").loc[start_date:end_date]\n",
    "pnl_benchmark = np.cumprod(rgbitr_slice.close.pct_change().fillna(0) + 1)\n",
    "pnl_benchmark.index = pd.DatetimeIndex(pnl_benchmark.index)\n",
    "pnl_benchmark.plot(label=\"rgbitr benchmark\")\n",
    "\n",
    "# portfolio\n",
    "pnl_portfolio = portfolio_summary_grouped.value.sum()\n",
    "pnl_portfolio.index = pd.DatetimeIndex(pnl_portfolio.index)\n",
    "pnl_portfolio.plot(label=\"portfolio\")\n",
    "\n",
    "plt.legend()\n",
    "plt.ylabel(\"PNL\");"
   ]
  },
  {
   "cell_type": "markdown",
   "metadata": {},
   "source": [
    "### mean and median return"
   ]
  },
  {
   "cell_type": "code",
   "execution_count": 27,
   "metadata": {
    "ExecuteTime": {
     "start_time": "2023-11-10T21:53:08.868167Z"
    }
   },
   "outputs": [
    {
     "data": {
      "text/plain": [
       "'Mean return = -0.000, Median return = -0.000'"
      ]
     },
     "execution_count": 27,
     "metadata": {},
     "output_type": "execute_result"
    }
   ],
   "source": [
    "returns = portfolio_summary_grouped.value.sum().pct_change()\n",
    "f\"Mean return = {returns.mean():.3f}, Median return = {returns.median():.3f}\""
   ]
  },
  {
   "cell_type": "markdown",
   "metadata": {},
   "source": [
    "## Sharpe Ratio"
   ]
  },
  {
   "cell_type": "code",
   "execution_count": 28,
   "metadata": {
    "ExecuteTime": {
     "start_time": "2023-11-10T21:53:08.869065Z"
    }
   },
   "outputs": [],
   "source": [
    "rgbitr_slice = bond_data.rgbitr.set_index(\"date\").loc[start_date:end_date]\n",
    "\n",
    "returns_benchmark = rgbitr_slice.close.pct_change().iloc[1:]\n",
    "returns_port = portfolio_summary_grouped.value.sum().pct_change().iloc[1:]"
   ]
  },
  {
   "cell_type": "code",
   "execution_count": 29,
   "metadata": {
    "ExecuteTime": {
     "start_time": "2023-11-10T21:53:08.870178Z"
    }
   },
   "outputs": [
    {
     "data": {
      "text/plain": [
       "-1.0773223298474805e-101"
      ]
     },
     "execution_count": 29,
     "metadata": {},
     "output_type": "execute_result"
    }
   ],
   "source": [
    "def get_sharp_ratio(returns, returns_market):\n",
    "    \"\"\"\n",
    "    Notes: https://www.investopedia.com/terms/s/sharperatio.asp\n",
    "    \"\"\"\n",
    "    delta = returns.product() - returns_market.product()\n",
    "    return delta / (returns - returns_market).std()\n",
    "\n",
    "\n",
    "get_sharp_ratio(returns=returns_benchmark, returns_market=returns_port)"
   ]
  },
  {
   "cell_type": "markdown",
   "metadata": {},
   "source": [
    "### Information Ratio"
   ]
  },
  {
   "cell_type": "code",
   "execution_count": 30,
   "metadata": {
    "ExecuteTime": {
     "start_time": "2023-11-10T21:53:08.871076Z"
    }
   },
   "outputs": [],
   "source": [
    "def get_information_ratio(returns, returns_market):\n",
    "    \"\"\"\n",
    "    Notes: https://www.investopedia.com/terms/i/informationratio.asp\n",
    "    \"\"\"\n",
    "    difference_benchmark_portfolio = returns - returns_market\n",
    "    tracking_error = difference_benchmark_portfolio.std()\n",
    "    information_ratio = (returns.mean() - returns_market.mean()) / tracking_error\n",
    "    return information_ratio"
   ]
  },
  {
   "cell_type": "code",
   "execution_count": 31,
   "metadata": {
    "ExecuteTime": {
     "start_time": "2023-11-10T21:53:08.879605Z"
    }
   },
   "outputs": [
    {
     "data": {
      "text/plain": [
       "-0.23427276810912845"
      ]
     },
     "execution_count": 31,
     "metadata": {},
     "output_type": "execute_result"
    }
   ],
   "source": [
    "information_ratio = get_information_ratio(\n",
    "    returns=returns_benchmark, returns_market=returns_port\n",
    ")\n",
    "information_ratio"
   ]
  },
  {
   "cell_type": "markdown",
   "metadata": {},
   "source": [
    "## Returns"
   ]
  },
  {
   "cell_type": "code",
   "execution_count": 32,
   "metadata": {
    "ExecuteTime": {
     "start_time": "2023-11-10T21:53:08.879932Z"
    }
   },
   "outputs": [
    {
     "name": "stderr",
     "output_type": "stream",
     "text": [
      "/Users/svetlanatelnova/opt/anaconda3/lib/python3.9/site-packages/seaborn/distributions.py:2619: FutureWarning: `distplot` is a deprecated function and will be removed in a future version. Please adapt your code to use either `displot` (a figure-level function with similar flexibility) or `histplot` (an axes-level function for histograms).\n",
      "  warnings.warn(msg, FutureWarning)\n",
      "/Users/svetlanatelnova/opt/anaconda3/lib/python3.9/site-packages/seaborn/distributions.py:2619: FutureWarning: `distplot` is a deprecated function and will be removed in a future version. Please adapt your code to use either `displot` (a figure-level function with similar flexibility) or `histplot` (an axes-level function for histograms).\n",
      "  warnings.warn(msg, FutureWarning)\n"
     ]
    },
    {
     "data": {
      "image/png": "[encoded data removed]",
      "text/plain": [
       "<Figure size 640x480 with 1 Axes>"
      ]
     },
     "metadata": {},
     "output_type": "display_data"
    }
   ],
   "source": [
    "plt.figure()\n",
    "sns.distplot(returns_benchmark, bins=42, label=\"benchmark returns\")\n",
    "sns.distplot(returns_port, bins=42, label=\"portfolio returns\")\n",
    "plt.legend();"
   ]
  },
  {
   "cell_type": "markdown",
   "metadata": {},
   "source": [
    "# Returns difference"
   ]
  },
  {
   "cell_type": "code",
   "execution_count": 33,
   "metadata": {},
   "outputs": [
    {
     "name": "stderr",
     "output_type": "stream",
     "text": [
      "/Users/svetlanatelnova/opt/anaconda3/lib/python3.9/site-packages/seaborn/distributions.py:2619: FutureWarning: `distplot` is a deprecated function and will be removed in a future version. Please adapt your code to use either `displot` (a figure-level function with similar flexibility) or `histplot` (an axes-level function for histograms).\n",
      "  warnings.warn(msg, FutureWarning)\n"
     ]
    },
    {
     "data": {
      "image/png": "[encoded data removed]",
      "text/plain": [
       "<Figure size 640x480 with 1 Axes>"
      ]
     },
     "metadata": {},
     "output_type": "display_data"
    }
   ],
   "source": [
    "returns_diff = returns_port - returns_benchmark\n",
    "sns.distplot(returns_diff, bins=42, label=\"portfolio returns\");"
   ]
  },
  {
   "cell_type": "code",
   "execution_count": 34,
   "metadata": {},
   "outputs": [
    {
     "data": {
      "text/plain": [
       "Ttest_1sampResult(statistic=1.405636608654771, pvalue=0.16864742866414037)"
      ]
     },
     "execution_count": 34,
     "metadata": {},
     "output_type": "execute_result"
    }
   ],
   "source": [
    "from scipy import stats\n",
    "\n",
    "stats.ttest_1samp(returns_diff, popmean=0)"
   ]
  },
  {
   "cell_type": "markdown",
   "metadata": {},
   "source": [
    "# Benchmark Timing\n",
    "\n",
    "One financially based refinement to the regression model is a benchmark timing component. The expanded model is\n",
    "\n",
    "$$r_{P}(t) = \\alpha_{P}+\\beta_{P} * r_{B}(t) + \\gamma_{P} * max(0, r_{B}(t)) + \\epsilon_{P}(t)$$\n",
    "\n",
    "We include the variable γP to determine whether the manager has any benchmark timing skill. The model includes a \"down-market\" beta, βP, and an \"up-market\" beta, βP + γP. If γP is significantly positive, then we say that there is evidence of timing skill; benchmark exposure is significantly different in up and down cases.\n"
   ]
  },
  {
   "cell_type": "code",
   "execution_count": 35,
   "metadata": {},
   "outputs": [
    {
     "data": {
      "text/plain": [
       "const    0.000700\n",
       "beta     0.409010\n",
       "gamma   -0.516037\n",
       "dtype: float64"
      ]
     },
     "execution_count": 35,
     "metadata": {},
     "output_type": "execute_result"
    }
   ],
   "source": [
    "import statsmodels.api as sm\n",
    "import numpy as np\n",
    "\n",
    "timing_df = returns_benchmark.to_frame().rename(columns={'close':'beta'})\n",
    "timing_df['gamma'] = timing_df['beta']\n",
    "timing_df.loc[timing_df['beta'] < 0, 'gamma'] = 0\n",
    "\n",
    "X = sm.add_constant(timing_df)\n",
    "benchmark_timing_model = sm.OLS(returns_port,X)\n",
    "results = benchmark_timing_model.fit()\n",
    "results.params"
   ]
  },
  {
   "cell_type": "markdown",
   "metadata": {},
   "source": [
    "## Value at Risk"
   ]
  },
  {
   "cell_type": "code",
   "execution_count": 36,
   "metadata": {
    "ExecuteTime": {
     "start_time": "2023-11-10T21:53:08.880230Z"
    }
   },
   "outputs": [
    {
     "data": {
      "text/plain": [
       "-0.006116591003621885"
      ]
     },
     "execution_count": 36,
     "metadata": {},
     "output_type": "execute_result"
    }
   ],
   "source": [
    "alpha = 0.05\n",
    "returns_benchmark.quantile(alpha)"
   ]
  },
  {
   "cell_type": "markdown",
   "metadata": {},
   "source": [
    "## Skewness of Returns"
   ]
  },
  {
   "cell_type": "code",
   "execution_count": 37,
   "metadata": {
    "ExecuteTime": {
     "start_time": "2023-11-10T21:53:08.880415Z"
    }
   },
   "outputs": [
    {
     "data": {
      "text/plain": [
       "-0.20963976217357644"
      ]
     },
     "execution_count": 37,
     "metadata": {},
     "output_type": "execute_result"
    }
   ],
   "source": [
    "alpha = 0.05\n",
    "returns_benchmark.skew()"
   ]
  },
  {
   "cell_type": "code",
   "execution_count": null,
   "metadata": {},
   "outputs": [],
   "source": []
  },
  {
   "cell_type": "code",
   "execution_count": null,
   "metadata": {},
   "outputs": [],
   "source": []
  }
 ],
 "metadata": {
  "kernelspec": {
   "display_name": "Python 3 (ipykernel)",
   "language": "python",
   "name": "python3"
  },
  "language_info": {
   "codemirror_mode": {
    "name": "ipython",
    "version": 3
   },
   "file_extension": ".py",
   "mimetype": "text/x-python",
   "name": "python",
   "nbconvert_exporter": "python",
   "pygments_lexer": "ipython3",
   "version": "3.9.13"
  }
 },
 "nbformat": 4,
 "nbformat_minor": 1
}
