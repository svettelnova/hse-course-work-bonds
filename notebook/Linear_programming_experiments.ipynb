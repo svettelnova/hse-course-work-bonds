{
 "cells": [
  {
   "cell_type": "code",
   "execution_count": 1,
   "metadata": {
    "ExecuteTime": {
     "end_time": "2023-11-10T21:53:10.676114Z",
     "start_time": "2023-11-10T21:53:04.612486Z"
    }
   },
   "outputs": [],
   "source": [
    "import time\n",
    "from dataclasses import dataclass\n",
    "from dataclasses import field\n",
    "from datetime import datetime\n",
    "\n",
    "import numpy as np\n",
    "import pandas as pd\n",
    "from matplotlib import pyplot as plt\n",
    "import seaborn as sns"
   ]
  },
  {
   "cell_type": "code",
   "execution_count": 2,
   "metadata": {},
   "outputs": [
    {
     "name": "stdout",
     "output_type": "stream",
     "text": [
      "/Users/svetlanatelnova/university/portfolio_optimization/hse-course-work-bonds/notebook\n",
      "/Users/svetlanatelnova/university/portfolio_optimization/hse-course-work-bonds\n"
     ]
    }
   ],
   "source": [
    "import os\n",
    "\n",
    "print(os.getcwd())\n",
    "os.chdir('../')\n",
    "print(os.getcwd())"
   ]
  },
  {
   "cell_type": "code",
   "execution_count": 3,
   "metadata": {
    "ExecuteTime": {
     "end_time": "2023-11-10T21:53:10.969485Z",
     "start_time": "2023-11-10T21:53:04.622911Z"
    }
   },
   "outputs": [],
   "source": [
    "DAY_SECONDS = 60 * 60 * 24\n",
    "\n",
    "\n",
    "def today() -> pd.Timestamp:\n",
    "    \"\"\"\n",
    "    pd.Timestamp today midnight\n",
    "    \"\"\"\n",
    "    seconds = time.time() - time.timezone\n",
    "    seconds_round_day = seconds - (seconds % DAY_SECONDS)\n",
    "    return pd.Timestamp.fromtimestamp(seconds_round_day + time.timezone)"
   ]
  },
  {
   "cell_type": "markdown",
   "metadata": {},
   "source": [
    "Pick some bonds to use in the current optimization"
   ]
  },
  {
   "cell_type": "code",
   "execution_count": 4,
   "metadata": {
    "ExecuteTime": {
     "end_time": "2023-11-10T21:53:10.969782Z",
     "start_time": "2023-11-10T21:53:04.668499Z"
    }
   },
   "outputs": [],
   "source": [
    "BOND_UNIVERSE: tuple[str] = (\n",
    "    \"RU000A0GN9A7\",\n",
    "    \"RU000A0JWDN6\",\n",
    "    \"RU000A0JV4Q1\",\n",
    "#     \"RU000A0JVA10\",\n",
    "    \"RU000A0JW0S4\",\n",
    "    \"RU000A0JUMH3\",\n",
    "    \"RU000A0JV4N8\",\n",
    "#     \"RU000A0D0G29\",\n",
    "#     \"RU000A0JPLH5\",\n",
    "#     \"RU000A0JQ8V9\",\n",
    "#     \"RU000A0JQAL8\",\n",
    "#     \"RU000A0JQAM6\",\n",
    "    \"RU000A0JQRD9\",\n",
    "    \"RU000A0JWUB5\",\n",
    "#     \"RU000A0JWUX9\",\n",
    "    \"RU000A0JWV89\",\n",
    "#     \"RU000A0JWVL2\",\n",
    "#     \"RU000A0JWVT5\",\n",
    "#     \"RU000A0JWWM8\",\n",
    "#     \"RU000A0JWX04\",\n",
    "#     \"RU000A0JWYJ0\",\n",
    "#     \"RU000A0JWYQ5\",\n",
    "#     \"RU000A0JWZY6\",\n",
    "\n",
    "#     \"RU000A101MG4\"\n",
    ")"
   ]
  },
  {
   "cell_type": "code",
   "execution_count": 5,
   "metadata": {
    "ExecuteTime": {
     "end_time": "2023-11-10T22:15:12.608639Z",
     "start_time": "2023-11-10T22:15:07.911260Z"
    }
   },
   "outputs": [],
   "source": [
    "from functools import cached_property\n",
    "\n",
    "\n",
    "class BondDataProvider:\n",
    "    \"\"\"Data provider for bonds and\"\"\"\n",
    "\n",
    "    def __init__(self):\n",
    "        \"\"\"Read all pre-downloaded data.\"\"\"\n",
    "        df_price = pd.read_csv(\"/Users/svetlanatelnova/university/portfolio_optimization/hse-course-work-bonds/data/bond_data_price.csv\", parse_dates=[\"date\"])\n",
    "        df_price[\"date\"] = df_price[\"date\"].dt.date\n",
    "        df_price = df_price.set_index([\"date\", \"isin\"])\n",
    "        self._price = df_price.sort_index(level=\"date\")\n",
    "\n",
    "        self._dur = pd.read_csv(\"/Users/svetlanatelnova/university/portfolio_optimization/hse-course-work-bonds/data/bond_data_duration.csv\", parse_dates=[\"date\"])\n",
    "        self._dur[\"date\"] = self._dur[\"date\"].dt.date\n",
    "        self._dur = self._dur.set_index([\"date\", \"isin\"]).sort_index(level=\"date\")\n",
    "\n",
    "        self._static = pd.read_csv(\"/Users/svetlanatelnova/university/portfolio_optimization/hse-course-work-bonds/data/bond_data_static.csv\")\n",
    "        self._rating = pd.read_csv(\n",
    "            \"/Users/svetlanatelnova/university/portfolio_optimization/hse-course-work-bonds/data/bond_data_rating.csv\", parse_dates=[\"update_date\"]\n",
    "        )\n",
    "        self._rating[\"update_date\"] = self._rating[\"update_date\"].dt.date\n",
    "        self._rating[\"isin\"] = self._rating[\"isincode\"]\n",
    "\n",
    "        self._volume = pd.read_csv(\"/Users/svetlanatelnova/university/portfolio_optimization/hse-course-work-bonds/data/bond_data_volume.csv\")\n",
    "        self._rgbitr = pd.read_csv(\"/Users/svetlanatelnova/university/portfolio_optimization/hse-course-work-bonds/data/bond_data_rgbitr.csv\", parse_dates=[\"date\"])\n",
    "\n",
    "        self._yield = pd.read_csv(\"/Users/svetlanatelnova/university/portfolio_optimization/hse-course-work-bonds/data/bond_data_yield.csv\", parse_dates=[\"date\"])\n",
    "        self._yield[\"date\"] = pd.to_datetime(self._yield[\"date\"].dt.date)\n",
    "        self._yield = self._yield.sort_values(\"date\")\n",
    "\n",
    "    @property\n",
    "    def price(self):\n",
    "        \"\"\"\n",
    "        df with bond's historical prices\n",
    "        columns: 'isin','date','spread','ask','bid','ai','last','mid'\n",
    "        \"\"\"\n",
    "        return self._price\n",
    "\n",
    "    @property\n",
    "    def duration(self):\n",
    "        \"\"\"\n",
    "        df with bond's precomputed duration data\n",
    "        columns: 'id','date','isin','emission_id','emission_emitent_id','trading_ground_id','avar_price',\n",
    "        'convexity','convexity_offer','dur','dur_to','dur_mod','dur_mod_to'\n",
    "        \"\"\"\n",
    "        return self._dur\n",
    "\n",
    "    @property\n",
    "    def static(self):\n",
    "        \"\"\"Static bond info including coupon data.\"\"\"\n",
    "        return self._static\n",
    "\n",
    "    @property\n",
    "    def rating(self):\n",
    "        \"\"\"Bond ratings data.\"\"\"\n",
    "        return self._rating\n",
    "\n",
    "    @property\n",
    "    def volume(self):\n",
    "        \"\"\"Traded volume data.\n",
    "        columns: 'volume' -- traded volume ,'volume_lots' -- number of traded lots\n",
    "        \"\"\"\n",
    "        return self._volume\n",
    "\n",
    "    @property\n",
    "    def yield_(self):\n",
    "        \"\"\"Estimated bond yields.\"\"\"\n",
    "        return self._yield\n",
    "\n",
    "    @cached_property\n",
    "    def rgbitr(self):\n",
    "        \"\"\"RGBITR benchmark.\"\"\"\n",
    "        return self._rgbitr[self._rgbitr[\"secid\"] == \"RGBITR\"]\n",
    "\n",
    "    @cached_property\n",
    "    def rucbitr(self):\n",
    "        \"\"\"RUCBITR benchmark.\n",
    "\n",
    "        Note: halts after 05/31/2023\n",
    "        \"\"\"\n",
    "        return self._rgbitr[self._rgbitr[\"secid\"] == \"RUCBITR\"]\n",
    "\n",
    "bond_data = BondDataProvider()"
   ]
  },
  {
   "cell_type": "code",
   "execution_count": 6,
   "metadata": {
    "ExecuteTime": {
     "end_time": "2023-11-10T21:53:10.971204Z",
     "start_time": "2023-11-10T21:53:08.654351Z"
    }
   },
   "outputs": [],
   "source": [
    "@dataclass\n",
    "class BondPortfolio:\n",
    "    \"\"\"portfolio history and basic statistics.\"\"\"\n",
    "\n",
    "    bond_universe: tuple[str] = field(default=tuple)\n",
    "    cash: float = 1\n",
    "\n",
    "    def __post_init__(self):\n",
    "        self.universe_size: int = len(self.bond_universe)\n",
    "\n",
    "        # current portfolio portions of bonds from the universe\n",
    "        self._weights: np.array = np.zeros(self.universe_size)\n",
    "\n",
    "        # current quantities of bonds from the universe\n",
    "        self._qty: np.array = np.zeros(self.universe_size)\n",
    "\n",
    "        self._history_weights: dict[pd.Timestamp, np.array] = {}\n",
    "        self._history_qty: dict[pd.Timestamp, np.array] = {}\n",
    "\n",
    "        # current date\n",
    "        self._date: pd.Timestamp = today()\n",
    "\n",
    "    def update_portfolio(\n",
    "        self, weights: np.array, qty: np.array, cash: float, date: pd.Timestamp\n",
    "    ):\n",
    "        \"\"\"Should be called when bonds quantity is changed\"\"\"\n",
    "        self._date = date\n",
    "        self.cash = cash\n",
    "\n",
    "        self._weights = weights\n",
    "        self._history_weights[date] = weights\n",
    "\n",
    "        self._qty = qty\n",
    "        self._history_qty[date] = qty\n",
    "\n",
    "    @property\n",
    "    def weights(self):\n",
    "        \"\"\"Weights for the current_date.\"\"\"\n",
    "        return self._weights\n",
    "\n",
    "    def wealth(self, prices: np.array):\n",
    "        \"\"\"Total value af assets and money on account.\"\"\"\n",
    "        return self.cash + self._qty @ prices"
   ]
  },
  {
   "cell_type": "code",
   "execution_count": 7,
   "metadata": {
    "ExecuteTime": {
     "end_time": "2023-11-10T21:53:10.971273Z",
     "start_time": "2023-11-10T21:53:08.656947Z"
    }
   },
   "outputs": [],
   "source": [
    "# create portfolio for a simple strategy\n",
    "port = BondPortfolio(\n",
    "    bond_universe=BOND_UNIVERSE,\n",
    "    cash=1,\n",
    ")"
   ]
  },
  {
   "cell_type": "code",
   "execution_count": 8,
   "metadata": {},
   "outputs": [
    {
     "name": "stderr",
     "output_type": "stream",
     "text": [
      "/Users/svetlanatelnova/opt/anaconda3/lib/python3.9/site-packages/pandas/core/ops/array_ops.py:73: FutureWarning: Comparison of Timestamp with datetime.date is deprecated in order to match the standard library behavior. In a future version these will be considered non-comparable. Use 'ts == pd.Timestamp(date)' or 'ts.date() == date' instead.\n",
      "  result = libops.scalar_compare(x.ravel(), y, op)\n"
     ]
    },
    {
     "data": {
      "text/plain": [
       "isin\n",
       "RU000A0JQRD9    100.0\n",
       "RU000A0JUMH3     95.0\n",
       "RU000A0JW0S4     90.0\n",
       "Name: num_rating, dtype: float64"
      ]
     },
     "execution_count": 8,
     "metadata": {},
     "output_type": "execute_result"
    }
   ],
   "source": [
    "bond_data.price.loc[(slice(None), slice(None)),].index.get_level_values('isin')\n",
    "rating_reduced = bond_data.rating[\n",
    "    bond_data.rating[\"isin\"].isin(port.bond_universe)\n",
    "    & (bond_data.rating.update_date < pd.Timestamp('2023-12-01'))\n",
    "].sort_values(\"update_date\")\n",
    "\n",
    "rating_reduced.groupby(\"isin\").num_rating.last()"
   ]
  },
  {
   "cell_type": "markdown",
   "metadata": {},
   "source": [
    "## Random Weights Strategy"
   ]
  },
  {
   "cell_type": "code",
   "execution_count": 9,
   "metadata": {
    "ExecuteTime": {
     "end_time": "2023-11-10T21:53:41.631270Z",
     "start_time": "2023-11-10T21:53:41.415369Z"
    }
   },
   "outputs": [
    {
     "name": "stdout",
     "output_type": "stream",
     "text": [
      "======================================================\n",
      "2023-08-01\n",
      "wealth = 1.0\n",
      "[0.15889259 0.16524058 0.12707306 0.18318625 0.04499296 0.08583803\n",
      " 0.08217887 0.09827752 0.05432015]\n",
      "[0.15889259 0.16524058 0.12707306 0.18318625 0.04499296 0.08583803\n",
      " 0.08217887 0.09827752 0.05432015]\n",
      "======================================================\n",
      "2023-08-02\n",
      "wealth = 0.9998277858323686\n",
      "[0.1126597  0.14165841 0.17275054 0.06828398 0.01774243 0.13218184\n",
      " 0.05168614 0.16105848 0.14197849]\n",
      "[-0.04623289 -0.02358217  0.04567748 -0.11490227 -0.02725053  0.04634381\n",
      " -0.03049273  0.06278096  0.08765834]\n",
      "======================================================\n",
      "2023-08-03\n",
      "wealth = 0.9986632072854384\n",
      "[0.18853497 0.12869128 0.08587616 0.09858498 0.08069162 0.1197991\n",
      " 0.18797138 0.02069114 0.08915938]\n",
      "[ 0.07587527 -0.01296713 -0.08687438  0.030301    0.06294918 -0.01238274\n",
      "  0.13628525 -0.14036734 -0.05281911]\n",
      "======================================================\n",
      "2023-08-04\n",
      "wealth = 1.0003415306198535\n",
      "[0.13827109 0.10503323 0.10584312 0.10543391 0.05962136 0.15254565\n",
      " 0.01799142 0.14310617 0.17215404]\n",
      "[-0.05026388 -0.02365805  0.01996697  0.00684894 -0.02107026  0.03274655\n",
      " -0.16997996  0.12241503  0.08299466]\n",
      "======================================================\n",
      "2023-08-05\n",
      "======================================================\n",
      "2023-08-06\n",
      "======================================================\n",
      "2023-08-07\n",
      "wealth = 0.9954201227501025\n",
      "[0.11507984 0.11827562 0.12815404 0.16227205 0.19052172 0.04583966\n",
      " 0.1251727  0.06200404 0.05268032]\n",
      "[-0.02319125  0.01324239  0.02231091  0.05683814  0.13090036 -0.10670599\n",
      "  0.10718128 -0.08110213 -0.11947372]\n",
      "======================================================\n",
      "2023-08-08\n",
      "wealth = 0.9935161736633363\n",
      "[0.10133337 0.11753518 0.15153308 0.15968796 0.07817574 0.15080189\n",
      " 0.03480469 0.09070774 0.11542035]\n",
      "[-0.01374647 -0.00074045  0.02337905 -0.00258409 -0.11234598  0.10496223\n",
      " -0.09036801  0.0287037   0.06274002]\n",
      "======================================================\n",
      "2023-08-09\n",
      "wealth = 1.004564203529097\n",
      "[0.1713258  0.13367378 0.02355135 0.14852312 0.14489756 0.25589194\n",
      " 0.08441156 0.00268638 0.03503851]\n",
      "[ 0.06999243  0.0161386  -0.12798173 -0.01116485  0.06672183  0.10509005\n",
      "  0.04960687 -0.08802136 -0.08038184]\n",
      "======================================================\n",
      "2023-08-10\n",
      "======================================================\n",
      "2023-08-11\n",
      "======================================================\n",
      "2023-08-12\n",
      "======================================================\n",
      "2023-08-13\n",
      "======================================================\n",
      "2023-08-14\n",
      "wealth = 0.9976296840874023\n",
      "[0.05242287 0.10121922 0.1704916  0.08444447 0.0518784  0.17253875\n",
      " 0.09257427 0.16062013 0.11381028]\n",
      "[-0.11890293 -0.03245455  0.14694025 -0.06407865 -0.09301916 -0.08335319\n",
      "  0.00816271  0.15793376  0.07877177]\n",
      "======================================================\n",
      "2023-08-15\n",
      "wealth = 0.9930036058051557\n",
      "[0.11797477 0.16865396 0.19634081 0.05272789 0.05580468 0.06884969\n",
      " 0.05656337 0.1674669  0.11561795]\n",
      "[ 0.0655519   0.06743474  0.02584921 -0.03171658  0.00392628 -0.10368907\n",
      " -0.0360109   0.00684677  0.00180767]\n",
      "======================================================\n",
      "2023-08-16\n",
      "wealth = 0.9958863848943921\n",
      "[0.10486861 0.19726288 0.08655025 0.14167733 0.13328869 0.16356414\n",
      " 0.02452807 0.1296118  0.01864824]\n",
      "[-0.01310616  0.02860892 -0.10979055  0.08894944  0.07748401  0.09471445\n",
      " -0.0320353  -0.0378551  -0.09696971]\n",
      "======================================================\n",
      "2023-08-17\n",
      "wealth = 0.9968467963254172\n",
      "[0.1345136  0.12594539 0.11823383 0.12697885 0.13889408 0.12913356\n",
      " 0.10651654 0.06484526 0.05493888]\n",
      "[ 0.02964499 -0.07131749  0.03168358 -0.01469848  0.00560539 -0.03443058\n",
      "  0.08198847 -0.06476653  0.03629064]\n",
      "======================================================\n",
      "2023-08-18\n",
      "wealth = 1.0056903702100388\n",
      "[0.1087842  0.14363592 0.13905718 0.18969649 0.10891015 0.00190031\n",
      " 0.05810937 0.10774571 0.14216069]\n",
      "[-0.0257294   0.01769053  0.02082335  0.06271764 -0.02998394 -0.12723325\n",
      " -0.04840717  0.04290044  0.08722181]\n",
      "======================================================\n",
      "2023-08-19\n",
      "======================================================\n",
      "2023-08-20\n",
      "======================================================\n",
      "2023-08-21\n",
      "wealth = 1.005853482096627\n",
      "[0.08586983 0.10844222 0.16716848 0.07683249 0.06113765 0.19724779\n",
      " 0.16088247 0.13605836 0.0063607 ]\n",
      "[-0.02291436 -0.0351937   0.02811131 -0.112864   -0.0477725   0.19534748\n",
      "  0.1027731   0.02831266 -0.1358    ]\n",
      "======================================================\n",
      "2023-08-22\n",
      "wealth = 1.0047842847691204\n",
      "[0.06228015 0.11730562 0.06064545 0.22649329 0.06273784 0.19851375\n",
      " 0.07165333 0.10697708 0.09339348]\n",
      "[-0.02358968  0.0088634  -0.10652304  0.1496608   0.00160019  0.00126596\n",
      " -0.08922914 -0.02908129  0.08703278]\n",
      "======================================================\n",
      "2023-08-23\n",
      "wealth = 1.0030119915017077\n",
      "[0.10729936 0.15178243 0.08881351 0.07349394 0.06989304 0.15306623\n",
      " 0.05946808 0.20161311 0.0945703 ]\n",
      "[ 0.0450192   0.03447681  0.02816807 -0.15299935  0.0071552  -0.04544753\n",
      " -0.01218526  0.09463603  0.00117683]\n",
      "======================================================\n",
      "2023-08-24\n",
      "wealth = 1.0029447417460775\n",
      "[0.09949612 0.00996254 0.10325492 0.17014796 0.13261627 0.1236756\n",
      " 0.04262129 0.16866458 0.14956072]\n",
      "[-0.00780324 -0.14181989  0.01444141  0.09665402  0.06272323 -0.02939063\n",
      " -0.01684678 -0.03294853  0.05499042]\n",
      "======================================================\n",
      "2023-08-25\n",
      "wealth = 1.006046645301498\n",
      "[0.18579736 0.05824108 0.2102319  0.24339495 0.10882809 0.06566392\n",
      " 0.01174786 0.0667107  0.04938415]\n",
      "[ 0.08630124  0.04827854  0.10697698  0.07324699 -0.02378818 -0.05801168\n",
      " -0.03087344 -0.10195388 -0.10017658]\n",
      "======================================================\n",
      "2023-08-26\n",
      "======================================================\n",
      "2023-08-27\n",
      "======================================================\n",
      "2023-08-28\n",
      "wealth = 1.0073017870565297\n",
      "[0.07310564 0.12575036 0.16198503 0.0153938  0.10347707 0.04887587\n",
      " 0.24065775 0.11356599 0.11718849]\n",
      "[-0.11269171  0.06750927 -0.04824687 -0.22800115 -0.00535102 -0.01678805\n",
      "  0.22890989  0.04685529  0.06780435]\n",
      "======================================================\n",
      "2023-08-29\n",
      "wealth = 1.0054104512093625\n",
      "[0.1703695  0.0325333  0.0740132  0.15587089 0.16541731 0.14721874\n",
      " 0.09360618 0.10369833 0.05727254]\n",
      "[ 0.09726385 -0.09321706 -0.08797183  0.14047709  0.06194025  0.09834287\n",
      " -0.14705157 -0.00986766 -0.05991595]\n",
      "======================================================\n",
      "2023-08-30\n",
      "wealth = 1.0008239540242507\n",
      "[4.34306463e-02 2.15104889e-01 5.83655712e-02 1.38374291e-01\n",
      " 8.50944032e-02 3.10935738e-01 3.38862595e-02 1.14504528e-01\n",
      " 3.03672890e-04]\n",
      "[-0.12693885  0.18257159 -0.01564763 -0.0174966  -0.08032291  0.163717\n",
      " -0.05971993  0.0108062  -0.05696887]\n",
      "======================================================\n",
      "2023-08-31\n",
      "======================================================\n",
      "2023-09-01\n",
      "======================================================\n",
      "2023-09-02\n",
      "======================================================\n",
      "2023-09-03\n",
      "======================================================\n",
      "2023-09-04\n",
      "wealth = 0.9982969782460879\n",
      "[0.2160948  0.19674488 0.14987504 0.16330004 0.01460647 0.15055301\n",
      " 0.07218762 0.02747127 0.00916686]\n",
      "[ 0.17266415 -0.01836001  0.09150947  0.02492575 -0.07048793 -0.16038273\n",
      "  0.03830136 -0.08703326  0.00886319]\n",
      "======================================================\n",
      "2023-09-05\n",
      "wealth = 1.0017236922235215\n",
      "[0.05167404 0.04942568 0.05086567 0.15822404 0.07298286 0.20385852\n",
      " 0.11789853 0.10084858 0.19422209]\n",
      "[-0.16442076 -0.14731921 -0.09900937 -0.005076    0.05837639  0.05330551\n",
      "  0.04571091  0.07337731  0.18505522]\n",
      "======================================================\n",
      "2023-09-06\n",
      "wealth = 1.0012327319521597\n",
      "[0.03031647 0.1216703  0.14562764 0.12422786 0.10808914 0.08197429\n",
      " 0.08053731 0.18246421 0.12509279]\n",
      "[-0.02135757  0.07224462  0.09476197 -0.03399618  0.03510628 -0.12188423\n",
      " -0.03736122  0.08161563 -0.0691293 ]\n",
      "======================================================\n",
      "2023-09-07\n",
      "wealth = 0.9989650816241917\n",
      "[0.06931969 0.02088348 0.13098031 0.12033898 0.14692521 0.12273593\n",
      " 0.0994185  0.15123989 0.13815801]\n",
      "[ 0.03900322 -0.10078682 -0.01464733 -0.00388888  0.03883607  0.04076165\n",
      "  0.01888119 -0.03122432  0.01306522]\n",
      "======================================================\n",
      "2023-09-08\n",
      "======================================================\n",
      "2023-09-09\n",
      "======================================================\n",
      "2023-09-10\n",
      "======================================================\n",
      "2023-09-11\n"
     ]
    },
    {
     "name": "stdout",
     "output_type": "stream",
     "text": [
      "======================================================\n",
      "2023-09-12\n",
      "wealth = 0.9950187160693889\n",
      "[0.02040978 0.01752532 0.02466199 0.02664982 0.07474837 0.28135351\n",
      " 0.22238016 0.20708697 0.12518407]\n",
      "[-0.04890991 -0.00335816 -0.10631832 -0.09368915 -0.07217684  0.15861757\n",
      "  0.12296167  0.05584708 -0.01297394]\n",
      "======================================================\n",
      "2023-09-13\n",
      "wealth = 0.9881715204254738\n",
      "[0.05163746 0.22837953 0.03654142 0.17435529 0.13226793 0.15149291\n",
      " 0.13098964 0.03119744 0.06313838]\n",
      "[ 0.03122768  0.21085421  0.01187943  0.14770547  0.05751955 -0.1298606\n",
      " -0.09139052 -0.17588953 -0.06204569]\n",
      "======================================================\n",
      "2023-09-14\n",
      "======================================================\n",
      "2023-09-15\n",
      "======================================================\n",
      "2023-09-16\n",
      "======================================================\n",
      "2023-09-17\n",
      "======================================================\n",
      "2023-09-18\n",
      "wealth = 0.990411852806428\n",
      "[0.02494142 0.12542109 0.18605083 0.18336263 0.1145827  0.05577657\n",
      " 0.10655052 0.18632951 0.01698473]\n",
      "[-0.02669603 -0.10295844  0.1495094   0.00900734 -0.01768523 -0.09571634\n",
      " -0.02443912  0.15513206 -0.04615365]\n",
      "======================================================\n",
      "2023-09-19\n",
      "wealth = 0.986304255420733\n",
      "[0.16190685 0.22010069 0.11352227 0.09895683 0.18215759 0.02464614\n",
      " 0.0840204  0.02472181 0.08996741]\n",
      "[ 0.13696543  0.0946796  -0.07252855 -0.0844058   0.06757489 -0.03113043\n",
      " -0.02253012 -0.16160769  0.07298267]\n",
      "======================================================\n",
      "2023-09-20\n",
      "wealth = 0.9875110790786231\n",
      "[0.14534384 0.09928292 0.09606792 0.06946948 0.18934319 0.03933527\n",
      " 0.07945308 0.08335921 0.19834509]\n",
      "[-0.01656302 -0.12081776 -0.01745435 -0.02948735  0.0071856   0.01468913\n",
      " -0.00456732  0.0586374   0.10837768]\n",
      "CPU times: user 742 ms, sys: 35.5 ms, total: 777 ms\n",
      "Wall time: 791 ms\n"
     ]
    }
   ],
   "source": [
    "%%time\n",
    "start_date, end_date = (\n",
    "    pd.Timestamp(\"2023-08-01\"),\n",
    "    bond_data.price.index.get_level_values(0).max(),\n",
    ")\n",
    "day_ = pd.Timedelta(days=1)\n",
    "\n",
    "dates = pd.date_range(start_date, end_date).date\n",
    "for date in dates:\n",
    "    print(\"======================================================\")\n",
    "    print(date)\n",
    "\n",
    "    if not date in bond_data.price.index.get_level_values('date'):\n",
    "        continue\n",
    "\n",
    "    today_bond_data = bond_data.price.loc[(date, port.bond_universe),]\n",
    "    if len(today_bond_data) < len(port.bond_universe):\n",
    "        continue\n",
    "\n",
    "    a = (np.random.uniform(-1, 1, port.universe_size) + 1) / 2\n",
    "\n",
    "    price_today = bond_data.price.loc[\n",
    "        pd.IndexSlice[slice(date, date), port.bond_universe], :\n",
    "    ]\n",
    "    \n",
    "    if price_today.empty:\n",
    "        continue\n",
    "    price_today = price_today.loc[(slice(None), port.bond_universe),].mid\n",
    "    new_weights = a / a.sum(axis=0, keepdims=1)\n",
    "\n",
    "    wealth = port.wealth(price_today.values)\n",
    "    print(f\"{wealth = }\")\n",
    "    qty = wealth * new_weights / price_today\n",
    "    print(new_weights)\n",
    "    print(new_weights - port.weights)\n",
    "    cash = wealth - qty @ price_today\n",
    "    port.update_portfolio(new_weights, qty, cash, date)"
   ]
  },
  {
   "cell_type": "markdown",
   "metadata": {},
   "source": [
    "### Random Weights Strategy Results"
   ]
  },
  {
   "cell_type": "code",
   "execution_count": 10,
   "metadata": {},
   "outputs": [
    {
     "data": {
      "text/plain": [
       "0.9875110790786231"
      ]
     },
     "execution_count": 10,
     "metadata": {},
     "output_type": "execute_result"
    }
   ],
   "source": [
    "wealth"
   ]
  },
  {
   "cell_type": "code",
   "execution_count": 11,
   "metadata": {
    "ExecuteTime": {
     "start_time": "2023-11-10T21:53:08.851078Z"
    }
   },
   "outputs": [],
   "source": [
    "# df with \"dur_mod\", \"yield\", \"shape\" field for each day and each bond\n",
    "sharpe_data = (\n",
    "    bond_data.duration.groupby([\"date\", \"isin\"])\n",
    "    .dur_mod.mean()\n",
    "    .to_frame()\n",
    "    .loc[(slice(None), BOND_UNIVERSE), [\"dur_mod\"]]\n",
    "    .fillna(float(\"inf\"))\n",
    "    .join(\n",
    "        bond_data.yield_.set_index([\"date\", \"isin\"]).loc[\n",
    "            (slice(None), BOND_UNIVERSE), [\"yield\"]\n",
    "        ],\n",
    "    )\n",
    ")\n",
    "\n",
    "sharpe_data[\"sharpe\"] = sharpe_data[\"yield\"] / sharpe_data[\"dur_mod\"]\n",
    "sharpe_data = sharpe_data.sort_index()"
   ]
  },
  {
   "cell_type": "code",
   "execution_count": 12,
   "metadata": {},
   "outputs": [
    {
     "data": {
      "text/html": [
       "<div>\n",
       "<style scoped>\n",
       "    .dataframe tbody tr th:only-of-type {\n",
       "        vertical-align: middle;\n",
       "    }\n",
       "\n",
       "    .dataframe tbody tr th {\n",
       "        vertical-align: top;\n",
       "    }\n",
       "\n",
       "    .dataframe thead th {\n",
       "        text-align: right;\n",
       "    }\n",
       "</style>\n",
       "<table border=\"1\" class=\"dataframe\">\n",
       "  <thead>\n",
       "    <tr style=\"text-align: right;\">\n",
       "      <th></th>\n",
       "      <th>dur_mod</th>\n",
       "      <th>yield</th>\n",
       "      <th>sharpe</th>\n",
       "      <th>sharpe_squared</th>\n",
       "      <th>weight</th>\n",
       "    </tr>\n",
       "    <tr>\n",
       "      <th>isin</th>\n",
       "      <th></th>\n",
       "      <th></th>\n",
       "      <th></th>\n",
       "      <th></th>\n",
       "      <th></th>\n",
       "    </tr>\n",
       "  </thead>\n",
       "  <tbody>\n",
       "    <tr>\n",
       "      <th>RU000A0JUMH3</th>\n",
       "      <td>0.588109</td>\n",
       "      <td>0.115846</td>\n",
       "      <td>0.196981</td>\n",
       "      <td>0.038802</td>\n",
       "      <td>0.650446</td>\n",
       "    </tr>\n",
       "    <tr>\n",
       "      <th>RU000A0JQRD9</th>\n",
       "      <td>1.132534</td>\n",
       "      <td>0.117461</td>\n",
       "      <td>0.103715</td>\n",
       "      <td>0.010757</td>\n",
       "      <td>0.180320</td>\n",
       "    </tr>\n",
       "    <tr>\n",
       "      <th>RU000A0JW0S4</th>\n",
       "      <td>1.855754</td>\n",
       "      <td>0.127511</td>\n",
       "      <td>0.068711</td>\n",
       "      <td>0.004721</td>\n",
       "      <td>0.079144</td>\n",
       "    </tr>\n",
       "    <tr>\n",
       "      <th>RU000A0JWDN6</th>\n",
       "      <td>2.274082</td>\n",
       "      <td>0.118546</td>\n",
       "      <td>0.052129</td>\n",
       "      <td>0.002717</td>\n",
       "      <td>0.045554</td>\n",
       "    </tr>\n",
       "    <tr>\n",
       "      <th>RU000A0JWV89</th>\n",
       "      <td>2.593502</td>\n",
       "      <td>0.095057</td>\n",
       "      <td>0.036652</td>\n",
       "      <td>0.001343</td>\n",
       "      <td>0.022519</td>\n",
       "    </tr>\n",
       "    <tr>\n",
       "      <th>RU000A0JWUB5</th>\n",
       "      <td>2.772511</td>\n",
       "      <td>0.070683</td>\n",
       "      <td>0.025494</td>\n",
       "      <td>0.000650</td>\n",
       "      <td>0.010895</td>\n",
       "    </tr>\n",
       "    <tr>\n",
       "      <th>RU000A0GN9A7</th>\n",
       "      <td>6.657464</td>\n",
       "      <td>0.115169</td>\n",
       "      <td>0.017299</td>\n",
       "      <td>0.000299</td>\n",
       "      <td>0.005017</td>\n",
       "    </tr>\n",
       "    <tr>\n",
       "      <th>RU000A0JV4N8</th>\n",
       "      <td>5.636553</td>\n",
       "      <td>0.081891</td>\n",
       "      <td>0.014529</td>\n",
       "      <td>0.000211</td>\n",
       "      <td>0.003538</td>\n",
       "    </tr>\n",
       "    <tr>\n",
       "      <th>RU000A0JV4Q1</th>\n",
       "      <td>6.702876</td>\n",
       "      <td>0.082937</td>\n",
       "      <td>0.012373</td>\n",
       "      <td>0.000153</td>\n",
       "      <td>0.002566</td>\n",
       "    </tr>\n",
       "  </tbody>\n",
       "</table>\n",
       "</div>"
      ],
      "text/plain": [
       "               dur_mod     yield    sharpe  sharpe_squared    weight\n",
       "isin                                                                \n",
       "RU000A0JUMH3  0.588109  0.115846  0.196981        0.038802  0.650446\n",
       "RU000A0JQRD9  1.132534  0.117461  0.103715        0.010757  0.180320\n",
       "RU000A0JW0S4  1.855754  0.127511  0.068711        0.004721  0.079144\n",
       "RU000A0JWDN6  2.274082  0.118546  0.052129        0.002717  0.045554\n",
       "RU000A0JWV89  2.593502  0.095057  0.036652        0.001343  0.022519\n",
       "RU000A0JWUB5  2.772511  0.070683  0.025494        0.000650  0.010895\n",
       "RU000A0GN9A7  6.657464  0.115169  0.017299        0.000299  0.005017\n",
       "RU000A0JV4N8  5.636553  0.081891  0.014529        0.000211  0.003538\n",
       "RU000A0JV4Q1  6.702876  0.082937  0.012373        0.000153  0.002566"
      ]
     },
     "execution_count": 12,
     "metadata": {},
     "output_type": "execute_result"
    }
   ],
   "source": [
    "sharpe_data_sorted = sharpe_data.loc[date].sort_values(\n",
    "    \"sharpe\", ascending=False\n",
    ")\n",
    "sharpe_data_sorted[\"sharpe_squared\"] = sharpe_data_sorted[\"sharpe\"] ** 2\n",
    "sharpe_data_sorted[\"weight\"] = (\n",
    "    sharpe_data_sorted[\"sharpe_squared\"]\n",
    "    / sharpe_data_sorted[\"sharpe_squared\"].sum()\n",
    ")\n",
    "sharpe_data_sorted\n",
    "# select max sharp\n",
    "# weights = (\n",
    "#     sharpe_data_sorted.loc[(slice(None), universe), :]"
   ]
  },
  {
   "cell_type": "code",
   "execution_count": 13,
   "metadata": {},
   "outputs": [
    {
     "data": {
      "text/html": [
       "<div>\n",
       "<style scoped>\n",
       "    .dataframe tbody tr th:only-of-type {\n",
       "        vertical-align: middle;\n",
       "    }\n",
       "\n",
       "    .dataframe tbody tr th {\n",
       "        vertical-align: top;\n",
       "    }\n",
       "\n",
       "    .dataframe thead th {\n",
       "        text-align: right;\n",
       "    }\n",
       "</style>\n",
       "<table border=\"1\" class=\"dataframe\">\n",
       "  <thead>\n",
       "    <tr style=\"text-align: right;\">\n",
       "      <th></th>\n",
       "      <th></th>\n",
       "      <th>dur_mod</th>\n",
       "      <th>yield</th>\n",
       "      <th>sharpe</th>\n",
       "    </tr>\n",
       "    <tr>\n",
       "      <th>date</th>\n",
       "      <th>isin</th>\n",
       "      <th></th>\n",
       "      <th></th>\n",
       "      <th></th>\n",
       "    </tr>\n",
       "  </thead>\n",
       "  <tbody>\n",
       "    <tr>\n",
       "      <th rowspan=\"9\" valign=\"top\">2023-09-20</th>\n",
       "      <th>RU000A0JUMH3</th>\n",
       "      <td>0.588109</td>\n",
       "      <td>0.115846</td>\n",
       "      <td>0.196981</td>\n",
       "    </tr>\n",
       "    <tr>\n",
       "      <th>RU000A0JQRD9</th>\n",
       "      <td>1.132534</td>\n",
       "      <td>0.117461</td>\n",
       "      <td>0.103715</td>\n",
       "    </tr>\n",
       "    <tr>\n",
       "      <th>RU000A0JW0S4</th>\n",
       "      <td>1.855754</td>\n",
       "      <td>0.127511</td>\n",
       "      <td>0.068711</td>\n",
       "    </tr>\n",
       "    <tr>\n",
       "      <th>RU000A0JWDN6</th>\n",
       "      <td>2.274082</td>\n",
       "      <td>0.118546</td>\n",
       "      <td>0.052129</td>\n",
       "    </tr>\n",
       "    <tr>\n",
       "      <th>RU000A0JWV89</th>\n",
       "      <td>2.593502</td>\n",
       "      <td>0.095057</td>\n",
       "      <td>0.036652</td>\n",
       "    </tr>\n",
       "    <tr>\n",
       "      <th>RU000A0JWUB5</th>\n",
       "      <td>2.772511</td>\n",
       "      <td>0.070683</td>\n",
       "      <td>0.025494</td>\n",
       "    </tr>\n",
       "    <tr>\n",
       "      <th>RU000A0GN9A7</th>\n",
       "      <td>6.657464</td>\n",
       "      <td>0.115169</td>\n",
       "      <td>0.017299</td>\n",
       "    </tr>\n",
       "    <tr>\n",
       "      <th>RU000A0JV4N8</th>\n",
       "      <td>5.636553</td>\n",
       "      <td>0.081891</td>\n",
       "      <td>0.014529</td>\n",
       "    </tr>\n",
       "    <tr>\n",
       "      <th>RU000A0JV4Q1</th>\n",
       "      <td>6.702876</td>\n",
       "      <td>0.082937</td>\n",
       "      <td>0.012373</td>\n",
       "    </tr>\n",
       "  </tbody>\n",
       "</table>\n",
       "</div>"
      ],
      "text/plain": [
       "                          dur_mod     yield    sharpe\n",
       "date       isin                                      \n",
       "2023-09-20 RU000A0JUMH3  0.588109  0.115846  0.196981\n",
       "           RU000A0JQRD9  1.132534  0.117461  0.103715\n",
       "           RU000A0JW0S4  1.855754  0.127511  0.068711\n",
       "           RU000A0JWDN6  2.274082  0.118546  0.052129\n",
       "           RU000A0JWV89  2.593502  0.095057  0.036652\n",
       "           RU000A0JWUB5  2.772511  0.070683  0.025494\n",
       "           RU000A0GN9A7  6.657464  0.115169  0.017299\n",
       "           RU000A0JV4N8  5.636553  0.081891  0.014529\n",
       "           RU000A0JV4Q1  6.702876  0.082937  0.012373"
      ]
     },
     "execution_count": 13,
     "metadata": {},
     "output_type": "execute_result"
    }
   ],
   "source": [
    "sharpe_data.loc[(date, slice(None)), :].sort_values(\n",
    "        \"sharpe\", ascending=False\n",
    "    )"
   ]
  },
  {
   "cell_type": "code",
   "execution_count": 14,
   "metadata": {
    "ExecuteTime": {
     "start_time": "2023-11-10T21:53:08.852249Z"
    }
   },
   "outputs": [],
   "source": [
    "port = BondPortfolio(\n",
    "    cash=1,\n",
    "    bond_universe=BOND_UNIVERSE,\n",
    ")"
   ]
  },
  {
   "cell_type": "code",
   "execution_count": 15,
   "metadata": {
    "ExecuteTime": {
     "start_time": "2023-11-10T21:53:08.853411Z"
    }
   },
   "outputs": [],
   "source": [
    "def get_weights(date: datetime.date, universe: tuple[str]):\n",
    "    \"\"\"Get target weights based on sharpe ratio.\"\"\"\n",
    "    sharpe_data_sorted = sharpe_data.loc[(date, slice(None)), :].sort_values(\n",
    "        \"sharpe\", ascending=False\n",
    "    )\n",
    "    sharpe_data_sorted[\"sharpe_squared\"] = sharpe_data_sorted[\"sharpe\"] ** 2\n",
    "    sharpe_data_sorted[\"weight\"] = (\n",
    "        sharpe_data_sorted[\"sharpe_squared\"]\n",
    "        / sharpe_data_sorted[\"sharpe_squared\"].sum()\n",
    "    )\n",
    "\n",
    "    # select max sharp\n",
    "    weights = (\n",
    "        sharpe_data_sorted.loc[(slice(None), universe), :]\n",
    "        .reset_index()[\"weight\"]\n",
    "        .fillna(0)\n",
    "        .values\n",
    "    )\n",
    "    assert len(weights) == len(universe), f\"{len(weights)},  {len(universe)}\"\n",
    "    return weights"
   ]
  },
  {
   "cell_type": "code",
   "execution_count": 16,
   "metadata": {
    "ExecuteTime": {
     "start_time": "2023-11-10T21:53:08.854713Z"
    }
   },
   "outputs": [
    {
     "name": "stdout",
     "output_type": "stream",
     "text": [
      "======================================================\n",
      "2023-08-01\n",
      "wealth = 1.0\n",
      "cash = 0.0\n",
      "======================================================\n",
      "2023-08-02\n",
      "wealth = 1.0000344573973512\n",
      "cash = 0.0\n",
      "======================================================\n",
      "2023-08-03\n",
      "wealth = 0.9986303937923651\n",
      "cash = 0.0\n",
      "======================================================\n",
      "2023-08-04\n",
      "wealth = 0.9990225074061394\n",
      "cash = -1.1102230246251565e-16\n",
      "======================================================\n",
      "2023-08-05\n",
      "======================================================\n",
      "2023-08-06\n",
      "======================================================\n",
      "2023-08-07\n",
      "wealth = 0.997690427075624\n",
      "cash = 1.1102230246251565e-16\n",
      "======================================================\n",
      "2023-08-08\n",
      "wealth = 0.9966846413990299\n",
      "cash = -1.1102230246251565e-16\n",
      "======================================================\n",
      "2023-08-09\n",
      "wealth = 0.9974253241987139\n",
      "cash = -3.3306690738754696e-16\n",
      "======================================================\n",
      "2023-08-10\n",
      "======================================================\n",
      "2023-08-11\n",
      "======================================================\n",
      "2023-08-12\n",
      "======================================================\n",
      "2023-08-13\n",
      "======================================================\n",
      "2023-08-14\n",
      "wealth = 0.9965810792064576\n",
      "cash = 0.0\n",
      "======================================================\n",
      "2023-08-15\n",
      "wealth = 0.9878933987644237\n",
      "cash = 1.1102230246251565e-16\n",
      "======================================================\n",
      "2023-08-16\n",
      "wealth = 0.9945862535275313\n",
      "cash = 0.0\n",
      "======================================================\n",
      "2023-08-17\n",
      "wealth = 0.9906304128432077\n",
      "cash = 1.1102230246251565e-16\n",
      "======================================================\n",
      "2023-08-18\n",
      "wealth = 0.9937604779554495\n",
      "cash = 2.220446049250313e-16\n",
      "======================================================\n",
      "2023-08-19\n",
      "======================================================\n",
      "2023-08-20\n",
      "======================================================\n",
      "2023-08-21\n",
      "wealth = 0.9973086791349274\n",
      "cash = -2.220446049250313e-16\n",
      "======================================================\n",
      "2023-08-22\n",
      "wealth = 0.994075223725385\n",
      "cash = -1.1102230246251565e-16\n",
      "======================================================\n",
      "2023-08-23\n",
      "wealth = 0.9938929131632144\n",
      "cash = 1.1102230246251565e-16\n",
      "======================================================\n",
      "2023-08-24\n",
      "wealth = 0.9895970188907587\n",
      "cash = -3.3306690738754696e-16\n",
      "======================================================\n",
      "2023-08-25\n",
      "wealth = 0.9920868117468086\n",
      "cash = 2.220446049250313e-16\n",
      "======================================================\n",
      "2023-08-26\n",
      "======================================================\n",
      "2023-08-27\n",
      "======================================================\n",
      "2023-08-28\n",
      "wealth = 0.994031193236314\n",
      "cash = 1.1102230246251565e-16\n",
      "======================================================\n",
      "2023-08-29\n",
      "wealth = 0.9923504542991389\n",
      "cash = 0.0\n",
      "======================================================\n",
      "2023-08-30\n",
      "wealth = 0.9901182643957173\n",
      "cash = 0.0\n",
      "======================================================\n",
      "2023-08-31\n",
      "======================================================\n",
      "2023-09-01\n",
      "======================================================\n",
      "2023-09-02\n",
      "======================================================\n",
      "2023-09-03\n",
      "======================================================\n",
      "2023-09-04\n",
      "wealth = 0.9933206068042272\n",
      "cash = 0.0\n",
      "======================================================\n",
      "2023-09-05\n",
      "wealth = 0.9931633209938837\n",
      "cash = -1.1102230246251565e-16\n",
      "======================================================\n",
      "2023-09-06\n",
      "wealth = 0.9898956306042368\n",
      "cash = 0.0\n",
      "======================================================\n",
      "2023-09-07\n",
      "wealth = 0.9865664161522174\n",
      "cash = 1.1102230246251565e-16\n",
      "======================================================\n",
      "2023-09-08\n",
      "======================================================\n",
      "2023-09-09\n",
      "======================================================\n",
      "2023-09-10\n",
      "======================================================\n",
      "2023-09-11\n",
      "======================================================\n",
      "2023-09-12\n",
      "wealth = 0.9840854631599673\n",
      "cash = 1.1102230246251565e-16\n",
      "======================================================\n",
      "2023-09-13\n",
      "wealth = 0.9817014668670607\n",
      "cash = -3.3306690738754696e-16\n",
      "======================================================\n",
      "2023-09-14\n",
      "======================================================\n",
      "2023-09-15\n",
      "======================================================\n",
      "2023-09-16\n",
      "======================================================\n",
      "2023-09-17\n",
      "======================================================\n",
      "2023-09-18\n",
      "wealth = 0.9829138461052987\n",
      "cash = 1.1102230246251565e-16\n",
      "======================================================\n",
      "2023-09-19\n",
      "wealth = 0.9823990728722521\n",
      "cash = 0.0\n",
      "======================================================\n",
      "2023-09-20\n",
      "wealth = 0.9830220431908732\n",
      "cash = 1.1102230246251565e-16\n",
      "CPU times: user 901 ms, sys: 36.7 ms, total: 938 ms\n",
      "Wall time: 960 ms\n"
     ]
    }
   ],
   "source": [
    "%%time\n",
    "\n",
    "start_date, end_date = (\n",
    "    pd.Timestamp(\"2023-08-01\"),\n",
    "    bond_data.price.index.get_level_values(0).max(),\n",
    ")\n",
    "dates = pd.date_range(start_date, end_date).date\n",
    "for date in dates:\n",
    "    print(\"======================================================\")\n",
    "    print(date)\n",
    "\n",
    "    if not date in bond_data.price.index.get_level_values('date'):\n",
    "        continue\n",
    "\n",
    "    today_bond_data = bond_data.price.loc[(date, port.bond_universe),]\n",
    "    if len(today_bond_data) < len(port.bond_universe):\n",
    "        continue\n",
    "\n",
    "    \n",
    "    price_today = bond_data.price.loc[slice(date, date), port.bond_universe, :]\n",
    "    if price_today.empty:\n",
    "        continue\n",
    "    price_today = price_today.loc[(slice(None), port.bond_universe),].mid\n",
    "\n",
    "    new_weights = get_weights(date, BOND_UNIVERSE)  # optimal sharp weights\n",
    "\n",
    "    wealth = port.wealth(price_today.values)\n",
    "    print(f\"{wealth = }\")\n",
    "    qty = wealth * new_weights / price_today.values\n",
    "    cash = wealth - qty @ price_today.values\n",
    "    print(f\"{cash = }\")\n",
    "    port.update_portfolio(new_weights, qty, cash, date)"
   ]
  },
  {
   "cell_type": "markdown",
   "metadata": {},
   "source": [
    "### Sharpe Ratio Strategy Results"
   ]
  },
  {
   "cell_type": "code",
   "execution_count": 17,
   "metadata": {
    "ExecuteTime": {
     "start_time": "2023-11-10T21:53:08.856550Z"
    }
   },
   "outputs": [
    {
     "data": {
      "text/plain": [
       "0.9830220431908732"
      ]
     },
     "execution_count": 17,
     "metadata": {},
     "output_type": "execute_result"
    }
   ],
   "source": [
    "wealth"
   ]
  },
  {
   "cell_type": "markdown",
   "metadata": {},
   "source": [
    "## Quadratic optimization"
   ]
  },
  {
   "cell_type": "code",
   "execution_count": 18,
   "metadata": {},
   "outputs": [],
   "source": [
    "# create portfolio for a quadratic optimization\n",
    "port = BondPortfolio(\n",
    "    bond_universe=BOND_UNIVERSE,\n",
    "    cash=1,\n",
    ")"
   ]
  },
  {
   "cell_type": "code",
   "execution_count": 19,
   "metadata": {
    "ExecuteTime": {
     "start_time": "2023-11-10T21:53:08.858707Z"
    }
   },
   "outputs": [
    {
     "name": "stdout",
     "output_type": "stream",
     "text": [
      "======================================================\n",
      "2023-07-01\n",
      "======================================================\n",
      "2023-07-02\n",
      "======================================================\n",
      "2023-07-03\n",
      "wealth = 1.0\n",
      "cash = -8.784084570834239e-13\n",
      "======================================================\n",
      "2023-07-04\n",
      "======================================================\n",
      "2023-07-05\n",
      "======================================================\n",
      "2023-07-06\n",
      "wealth = 1.0022346890347031\n",
      "cash = -6.562750343164225e-11\n",
      "======================================================\n",
      "2023-07-07\n",
      "wealth = 1.0027426023383745\n",
      "cash = -1.0134115768778429e-12\n",
      "======================================================\n",
      "2023-07-08\n",
      "======================================================\n",
      "2023-07-09\n",
      "======================================================\n",
      "2023-07-10\n",
      "wealth = 1.0026409970488432\n",
      "cash = -5.715428130770306e-13\n",
      "======================================================\n",
      "2023-07-11\n",
      "wealth = 1.001421610004696\n",
      "cash = -1.396660564978447e-12\n",
      "======================================================\n",
      "2023-07-12\n",
      "wealth = 1.0026424836529686\n",
      "cash = -7.460698725481052e-13\n",
      "======================================================\n",
      "2023-07-13\n",
      "wealth = 1.0015247105385272\n",
      "cash = -2.0750068330244176e-12\n",
      "======================================================\n",
      "2023-07-14\n",
      "wealth = 1.0003548238781705\n",
      "cash = -1.6515677714323829e-12\n",
      "======================================================\n",
      "2023-07-15\n",
      "======================================================\n",
      "2023-07-16\n",
      "======================================================\n",
      "2023-07-17\n",
      "wealth = 0.9997437335764607\n",
      "cash = -2.1378454562182014e-12\n",
      "======================================================\n",
      "2023-07-18\n",
      "wealth = 1.001272393719544\n",
      "cash = -7.685185821060259e-12\n",
      "======================================================\n",
      "2023-07-19\n",
      "======================================================\n",
      "2023-07-20\n",
      "wealth = 1.0022899469652535\n",
      "cash = -2.9547475577373916e-12\n",
      "======================================================\n",
      "2023-07-21\n",
      "wealth = 1.0006148486280788\n",
      "cash = -1.965094753586527e-13\n",
      "======================================================\n",
      "2023-07-22\n",
      "======================================================\n",
      "2023-07-23\n",
      "======================================================\n",
      "2023-07-24\n",
      "wealth = 1.000056413146855\n",
      "cash = -1.920685832601521e-12\n",
      "======================================================\n",
      "2023-07-25\n",
      "wealth = 0.9999548845958446\n",
      "cash = -2.3919755065548998e-12\n",
      "======================================================\n",
      "2023-07-26\n",
      "wealth = 1.00086899752394\n",
      "cash = -7.280842595491777e-13\n",
      "======================================================\n",
      "2023-07-27\n",
      "wealth = 0.9987868516686066\n",
      "cash = -1.5929479957321746e-12\n",
      "======================================================\n",
      "2023-07-28\n",
      "wealth = 0.9988887985459058\n",
      "cash = -3.268496584496461e-13\n",
      "======================================================\n",
      "2023-07-29\n",
      "======================================================\n",
      "2023-07-30\n",
      "======================================================\n",
      "2023-07-31\n",
      "wealth = 0.9989397255422029\n",
      "cash = -1.5364376437787541e-12\n",
      "======================================================\n",
      "2023-08-01\n",
      "wealth = 0.9989907067498246\n",
      "cash = -3.5390579355976115e-12\n",
      "======================================================\n",
      "2023-08-02\n",
      "wealth = 0.9986860847728033\n",
      "cash = -1.0856870957809406e-12\n",
      "======================================================\n",
      "2023-08-03\n",
      "wealth = 0.9984319146259636\n",
      "cash = -1.9628743075372768e-13\n",
      "======================================================\n",
      "2023-08-04\n",
      "wealth = 0.9991443513101291\n",
      "cash = -1.6170398353665405e-12\n",
      "======================================================\n",
      "2023-08-05\n",
      "======================================================\n",
      "2023-08-06\n",
      "======================================================\n",
      "2023-08-07\n",
      "wealth = 0.9992460297697197\n",
      "cash = -1.162847595992389e-12\n",
      "======================================================\n",
      "2023-08-08\n",
      "wealth = 0.9991443771275406\n",
      "cash = -6.493694471032541e-13\n",
      "======================================================\n",
      "2023-08-09\n",
      "wealth = 0.996807676839659\n",
      "cash = -1.4288570326925765e-13\n",
      "======================================================\n",
      "2023-08-10\n",
      "======================================================\n",
      "2023-08-11\n",
      "======================================================\n",
      "2023-08-12\n",
      "======================================================\n",
      "2023-08-13\n",
      "======================================================\n",
      "2023-08-14\n",
      "wealth = 0.9970690908810053\n",
      "cash = -1.3999912340523224e-13\n",
      "======================================================\n",
      "2023-08-15\n",
      "wealth = 0.9880083199591232\n",
      "cash = 0.0\n",
      "======================================================\n",
      "2023-08-16\n",
      "wealth = 0.9938658012576609\n",
      "cash = -4.782840790085174e-13\n",
      "======================================================\n",
      "2023-08-17\n",
      "wealth = 0.9886357641255776\n",
      "cash = -1.3673506771283428e-12\n",
      "======================================================\n",
      "2023-08-18\n",
      "wealth = 0.9884327432564729\n",
      "cash = -1.9778623183697164e-12\n",
      "======================================================\n",
      "2023-08-19\n",
      "======================================================\n",
      "2023-08-20\n",
      "======================================================\n",
      "2023-08-21\n",
      "wealth = 0.9916320477583762\n",
      "cash = -2.3798740755864856e-12\n",
      "======================================================\n",
      "2023-08-22\n",
      "wealth = 0.9895056938491729\n",
      "cash = -2.974842594483107e-12\n",
      "======================================================\n",
      "2023-08-23\n",
      "wealth = 0.9883861259388619\n",
      "cash = -1.4865886299730846e-12\n",
      "======================================================\n",
      "2023-08-24\n",
      "wealth = 0.985752557546748\n",
      "cash = -1.1116663145571692e-12\n",
      "======================================================\n",
      "2023-08-25\n",
      "wealth = 0.9871235600196037\n",
      "cash = -1.2670975380046912e-12\n",
      "======================================================\n",
      "2023-08-26\n",
      "======================================================\n",
      "2023-08-27\n",
      "======================================================\n",
      "2023-08-28\n",
      "wealth = 0.9882901221500409\n",
      "cash = -2.7777780076121417e-13\n",
      "======================================================\n",
      "2023-08-29\n",
      "wealth = 0.9858012191121498\n",
      "cash = -1.024846874031482e-12\n",
      "======================================================\n",
      "2023-08-30\n",
      "wealth = 0.9867197329890472\n",
      "cash = -1.3022916078853086e-12\n",
      "======================================================\n",
      "2023-08-31\n",
      "======================================================\n",
      "2023-09-01\n",
      "======================================================\n",
      "2023-09-02\n",
      "======================================================\n",
      "2023-09-03\n",
      "======================================================\n",
      "2023-09-04\n",
      "wealth = 0.9885438448681746\n",
      "cash = -1.0629275237761249e-12\n",
      "======================================================\n",
      "2023-09-05\n",
      "wealth = 0.9859419804883491\n",
      "cash = -5.749845044533686e-13\n",
      "======================================================\n",
      "2023-09-06\n",
      "wealth = 0.982697406187283\n",
      "cash = -2.220446049250313e-16\n",
      "======================================================\n",
      "2023-09-07\n",
      "wealth = 0.9773423087491357\n",
      "cash = -2.688960165642129e-13\n",
      "======================================================\n",
      "2023-09-08\n",
      "======================================================\n",
      "2023-09-09\n",
      "======================================================\n",
      "2023-09-10\n",
      "======================================================\n",
      "2023-09-11\n",
      "======================================================\n",
      "2023-09-12\n",
      "wealth = 0.9762330607378421\n",
      "cash = -1.0577094755603866e-12\n",
      "======================================================\n",
      "2023-09-13\n",
      "wealth = 0.9772099787727474\n",
      "cash = -1.5170087408478139e-12\n",
      "======================================================\n",
      "2023-09-14\n",
      "======================================================\n",
      "2023-09-15\n",
      "======================================================\n",
      "2023-09-16\n",
      "======================================================\n",
      "2023-09-17\n",
      "======================================================\n",
      "2023-09-18\n",
      "wealth = 0.9756967355644763\n",
      "cash = -1.7142953723237042e-12\n",
      "======================================================\n",
      "2023-09-19\n",
      "wealth = 0.976453558970883\n",
      "cash = -5.339062525422378e-13\n",
      "======================================================\n",
      "2023-09-20\n",
      "wealth = 0.9766973261343168\n",
      "cash = -8.881784197001252e-16\n",
      "CPU times: user 11.8 s, sys: 4.02 s, total: 15.8 s\n",
      "Wall time: 17.7 s\n"
     ]
    }
   ],
   "source": [
    "%%time\n",
    "\n",
    "from baseline.quadratic import get_optimal_weights\n",
    "\n",
    "start_date, end_date = (\n",
    "    pd.Timestamp(\"2023-07-01\"),\n",
    "    bond_data.price.index.get_level_values(0).max(),\n",
    ")\n",
    "dates = pd.date_range(start_date, end_date).date\n",
    "for date in dates:\n",
    "    print(\"======================================================\")\n",
    "    print(date)\n",
    "\n",
    "    if not date in bond_data.price.index.get_level_values('date'):\n",
    "        continue\n",
    "\n",
    "    today_bond_data = bond_data.price.loc[(date, slice(None)),]\n",
    "    if len(today_bond_data) < len(port.bond_universe):\n",
    "        continue\n",
    "\n",
    "    price_today = bond_data.price.loc[slice(date, date), port.bond_universe, :]\n",
    "\n",
    "    if price_today.empty:\n",
    "        continue\n",
    "        \n",
    "    if len(price_today) < len(port.bond_universe):\n",
    "        continue\n",
    "\n",
    "    price_today = price_today.loc[(slice(None), port.bond_universe),].mid\n",
    "    if len(today_bond_data) < len(port.bond_universe):\n",
    "        continue\n",
    "    #\n",
    "    # prepare data\n",
    "    #\n",
    "    today_info = (\n",
    "        price_today.to_frame()\n",
    "        .join(\n",
    "            bond_data.duration.loc[\n",
    "                pd.IndexSlice[slice(date, date), port.bond_universe], \"dur_mod\"\n",
    "            ]\n",
    "            .groupby([\"date\", \"isin\"])\n",
    "            .mean()\n",
    "            .fillna(float(\"inf\"))\n",
    "        )\n",
    "        .join(\n",
    "            bond_data.yield_.set_index([\"date\", \"isin\"]).loc[\n",
    "                (slice(date, date), port.bond_universe), :\n",
    "            ]\n",
    "        )\n",
    "    )\n",
    "\n",
    "    rating_reduced = bond_data.rating[\n",
    "        bond_data.rating[\"isin\"].isin(port.bond_universe)\n",
    "        & (bond_data.rating.update_date < date)\n",
    "    ].sort_values(\"update_date\")\n",
    "\n",
    "    rating_reduced = rating_reduced.groupby(\"isin\").num_rating.last()\n",
    "    today_info = today_info.join(rating_reduced)\n",
    "    \n",
    "    today_info[\"num_rating\"] = today_info[\"num_rating\"].fillna(0)\n",
    "\n",
    "    #\n",
    "    # make predictions\n",
    "    #\n",
    "    new_weights = get_optimal_weights(\n",
    "        bond_data=today_info,\n",
    "        upper_bound=0.5,\n",
    "        value_date=date,\n",
    "        maturity_limit=10,\n",
    "    )  # optimal sharp weights\n",
    "\n",
    "    wealth = port.wealth(price_today.values)\n",
    "    print(f\"{wealth = }\")\n",
    "    qty = wealth * new_weights / price_today.values\n",
    "    cash = wealth - qty @ price_today.values\n",
    "    print(f\"{cash = }\")\n",
    "    port.update_portfolio(new_weights, qty, cash, date)"
   ]
  },
  {
   "cell_type": "code",
   "execution_count": 20,
   "metadata": {
    "ExecuteTime": {
     "start_time": "2023-11-10T21:53:08.860296Z"
    }
   },
   "outputs": [
    {
     "data": {
      "text/plain": [
       "0.9766973261343168"
      ]
     },
     "execution_count": 20,
     "metadata": {},
     "output_type": "execute_result"
    }
   ],
   "source": [
    "wealth"
   ]
  },
  {
   "cell_type": "markdown",
   "metadata": {},
   "source": [
    "# Linear programming"
   ]
  },
  {
   "cell_type": "code",
   "execution_count": 21,
   "metadata": {},
   "outputs": [],
   "source": [
    "from models.linear_programming import linear_minimize"
   ]
  },
  {
   "cell_type": "code",
   "execution_count": 37,
   "metadata": {},
   "outputs": [],
   "source": [
    "# create portfolio for a linear programming optimization\n",
    "port = BondPortfolio(\n",
    "    bond_universe=BOND_UNIVERSE,\n",
    "    cash=1,\n",
    ")"
   ]
  },
  {
   "cell_type": "code",
   "execution_count": 38,
   "metadata": {},
   "outputs": [
    {
     "name": "stdout",
     "output_type": "stream",
     "text": [
      "======================================================\n",
      "2023-07-01\n",
      "======================================================\n",
      "2023-07-02\n",
      "======================================================\n",
      "2023-07-03\n",
      "wealth = 1.0\n",
      "cash = 0.0\n",
      "======================================================\n",
      "2023-07-04\n",
      "======================================================\n",
      "2023-07-05\n",
      "======================================================\n",
      "2023-07-06\n",
      "wealth = 0.9995569840985569\n",
      "cash = 0.0\n",
      "======================================================\n",
      "2023-07-07\n",
      "wealth = 0.9995098547473394\n",
      "cash = 0.0\n",
      "======================================================\n",
      "2023-07-08\n",
      "======================================================\n",
      "2023-07-09\n",
      "======================================================\n",
      "2023-07-10\n",
      "wealth = 0.9990951164566267\n",
      "cash = 0.0\n",
      "======================================================\n",
      "2023-07-11\n",
      "wealth = 0.9986521005551837\n",
      "cash = 0.0\n",
      "======================================================\n",
      "2023-07-12\n",
      "wealth = 0.996955443911359\n",
      "cash = 0.0\n",
      "======================================================\n",
      "2023-07-13\n",
      "wealth = 0.9959845792762817\n",
      "cash = 0.0\n",
      "======================================================\n",
      "2023-07-14\n",
      "wealth = 0.996314484734803\n",
      "cash = 0.0\n",
      "======================================================\n",
      "2023-07-15\n",
      "======================================================\n",
      "2023-07-16\n",
      "======================================================\n",
      "2023-07-17\n",
      "wealth = 0.9951928061758301\n",
      "cash = 0.0\n",
      "======================================================\n",
      "2023-07-18\n",
      "wealth = 0.9962862071240727\n",
      "cash = 0.0\n",
      "======================================================\n",
      "2023-07-19\n",
      "======================================================\n",
      "2023-07-20\n",
      "wealth = 0.9978226239737583\n",
      "cash = 0.0\n",
      "======================================================\n",
      "2023-07-21\n",
      "wealth = 1.001083975077999\n",
      "cash = 0.0\n",
      "======================================================\n",
      "2023-07-22\n",
      "======================================================\n",
      "2023-07-23\n",
      "======================================================\n",
      "2023-07-24\n",
      "wealth = 0.997681235920106\n",
      "cash = 0.0\n",
      "======================================================\n",
      "2023-07-25\n",
      "wealth = 0.996757500636246\n",
      "cash = 0.0\n",
      "======================================================\n",
      "2023-07-26\n",
      "wealth = 0.9949571594197433\n",
      "cash = 0.0\n",
      "======================================================\n",
      "2023-07-27\n",
      "wealth = 0.9949006041982825\n",
      "cash = 0.0\n",
      "======================================================\n",
      "2023-07-28\n",
      "wealth = 0.9939674430441787\n",
      "cash = 0.0\n",
      "======================================================\n",
      "2023-07-29\n",
      "======================================================\n",
      "2023-07-30\n",
      "======================================================\n",
      "2023-07-31\n",
      "wealth = 0.9922613605301107\n",
      "cash = 0.0\n",
      "======================================================\n",
      "2023-08-01\n",
      "wealth = 0.9924970072861976\n",
      "cash = 0.0\n",
      "======================================================\n",
      "2023-08-02\n",
      "wealth = 0.9907343695506686\n",
      "cash = 0.0\n",
      "======================================================\n",
      "2023-08-03\n",
      "wealth = 0.9925064331564409\n",
      "cash = 0.0\n",
      "======================================================\n",
      "2023-08-04\n",
      "wealth = 0.9943821813348916\n",
      "cash = 0.0\n",
      "======================================================\n",
      "2023-08-05\n",
      "======================================================\n",
      "2023-08-06\n",
      "======================================================\n",
      "2023-08-07\n",
      "wealth = 0.9934867236617619\n",
      "cash = 0.0\n",
      "======================================================\n",
      "2023-08-08\n",
      "wealth = 0.992006862033537\n",
      "cash = 0.0\n",
      "======================================================\n",
      "2023-08-09\n",
      "wealth = 0.9933830390890838\n",
      "cash = 0.0\n",
      "======================================================\n",
      "2023-08-10\n",
      "======================================================\n",
      "2023-08-11\n",
      "======================================================\n",
      "2023-08-12\n",
      "======================================================\n",
      "2023-08-13\n",
      "======================================================\n",
      "2023-08-14\n",
      "wealth = 0.9915921237428243\n",
      "cash = 0.0\n",
      "======================================================\n",
      "2023-08-15\n",
      "wealth = 0.9845132951899783\n",
      "cash = 0.0\n",
      "======================================================\n",
      "2023-08-16\n",
      "wealth = 0.9836743927383094\n",
      "cash = 0.0\n",
      "======================================================\n",
      "2023-08-17\n",
      "wealth = 0.9826281211412843\n",
      "cash = 0.0\n",
      "======================================================\n",
      "2023-08-18\n",
      "wealth = 0.9833444872797878\n",
      "cash = 0.0\n",
      "======================================================\n",
      "2023-08-19\n",
      "======================================================\n",
      "2023-08-20\n",
      "======================================================\n",
      "2023-08-21\n",
      "wealth = 0.9839100394943963\n",
      "cash = 0.0\n",
      "======================================================\n",
      "2023-08-22\n",
      "wealth = 0.9826658246222579\n",
      "cash = 0.0\n",
      "======================================================\n",
      "2023-08-23\n",
      "wealth = 0.9821474017588673\n",
      "cash = 0.0\n",
      "======================================================\n",
      "2023-08-24\n",
      "wealth = 0.9850128663128822\n",
      "cash = 0.0\n",
      "======================================================\n",
      "2023-08-25\n",
      "wealth = 0.9849845887021518\n",
      "cash = 0.0\n",
      "======================================================\n",
      "2023-08-26\n",
      "======================================================\n",
      "2023-08-27\n",
      "======================================================\n",
      "2023-08-28\n",
      "wealth = 0.9840608534182917\n",
      "cash = 0.0\n",
      "======================================================\n",
      "2023-08-29\n",
      "wealth = 0.9831182663939446\n",
      "cash = 0.0\n",
      "======================================================\n",
      "2023-08-30\n",
      "wealth = 0.9851071250153168\n",
      "cash = 0.0\n",
      "======================================================\n",
      "2023-08-31\n",
      "======================================================\n",
      "2023-09-01\n",
      "======================================================\n",
      "2023-09-02\n",
      "======================================================\n",
      "2023-09-03\n",
      "======================================================\n",
      "2023-09-04\n",
      "wealth = 0.9832125250963792\n",
      "cash = 0.0\n",
      "======================================================\n",
      "2023-09-05\n",
      "wealth = 0.9839288912348831\n",
      "cash = 0.0\n",
      "======================================================\n",
      "2023-09-06\n",
      "wealth = 0.9850882732748301\n",
      "cash = 0.0\n",
      "======================================================\n",
      "2023-09-07\n",
      "wealth = 0.9826186952710407\n",
      "cash = 0.0\n",
      "======================================================\n",
      "2023-09-08\n",
      "======================================================\n",
      "2023-09-09\n",
      "======================================================\n",
      "2023-09-10\n",
      "======================================================\n",
      "2023-09-11\n",
      "======================================================\n",
      "2023-09-12\n",
      "wealth = 0.9837969290514745\n",
      "cash = 0.0\n",
      "======================================================\n",
      "2023-09-13\n",
      "wealth = 0.98348587533344\n",
      "cash = 0.0\n",
      "======================================================\n",
      "2023-09-14\n",
      "======================================================\n",
      "2023-09-15\n",
      "======================================================\n",
      "2023-09-16\n",
      "======================================================\n",
      "2023-09-17\n",
      "======================================================\n",
      "2023-09-18\n",
      "wealth = 0.9795741391824\n",
      "cash = 0.0\n",
      "======================================================\n",
      "2023-09-19\n",
      "wealth = 0.9790274387082785\n",
      "cash = 0.0\n",
      "======================================================\n",
      "2023-09-20\n",
      "wealth = 0.9782168138673402\n",
      "cash = 0.0\n",
      "CPU times: user 10.9 s, sys: 4.21 s, total: 15.1 s\n",
      "Wall time: 15.7 s\n"
     ]
    }
   ],
   "source": [
    "%%time\n",
    "\n",
    "start_date, end_date = (\n",
    "    pd.Timestamp(\"2023-07-01\"),\n",
    "    bond_data.price.index.get_level_values(0).max(),\n",
    ")\n",
    "dates = pd.date_range(start_date, end_date).date\n",
    "for date in dates:\n",
    "    print(\"======================================================\")\n",
    "    print(date)\n",
    "\n",
    "    if not date in bond_data.price.index.get_level_values('date'):\n",
    "        continue\n",
    "\n",
    "    today_bond_data = bond_data.price.loc[(date, slice(None)),]\n",
    "    if len(today_bond_data) < len(port.bond_universe):\n",
    "        continue\n",
    "        \n",
    "    price_today = bond_data.price.loc[slice(date, date), port.bond_universe, :]\n",
    "    if price_today is None or price_today.empty:\n",
    "        continue\n",
    "\n",
    "    if len(price_today) < len(port.bond_universe):\n",
    "        continue\n",
    "\n",
    "    price_today = price_today.loc[(slice(None), port.bond_universe),].mid\n",
    "\n",
    "    #\n",
    "    # prepare data\n",
    "    #\n",
    "    today_info = (\n",
    "        price_today.to_frame()\n",
    "        .join(\n",
    "            bond_data.duration.loc[\n",
    "                pd.IndexSlice[slice(date, date), port.bond_universe], \"dur_mod\"\n",
    "            ]\n",
    "            .groupby([\"date\", \"isin\"])\n",
    "            .mean()\n",
    "            .fillna(float(\"inf\"))\n",
    "        )\n",
    "        .join(\n",
    "            bond_data.yield_.set_index([\"date\", \"isin\"]).loc[\n",
    "                (slice(date, date), port.bond_universe), :\n",
    "            ]\n",
    "        )\n",
    "    )\n",
    "\n",
    "    rating_reduced = bond_data.rating[\n",
    "        bond_data.rating[\"isin\"].isin(port.bond_universe)\n",
    "        & (bond_data.rating.update_date < date)\n",
    "    ].sort_values(\"update_date\")\n",
    "\n",
    "    rating_reduced = rating_reduced.groupby(\"isin\").num_rating.last()\n",
    "    today_info = today_info.join(rating_reduced)\n",
    "    \n",
    "    today_info[\"num_rating\"] = today_info[\"num_rating\"].fillna(0)\n",
    "    rating_reduced = today_info[\"num_rating\"]\n",
    "\n",
    "    new_weights=linear_minimize(today_info, num_rating=rating_reduced, rating_at_least=0)\n",
    "\n",
    "    if new_weights is None:\n",
    "        print(\"No answer for you\")\n",
    "\n",
    "    wealth = port.wealth(price_today.values)\n",
    "    print(f\"{wealth = }\")\n",
    "    qty = wealth * new_weights / price_today.values\n",
    "    cash = wealth - qty @ price_today.values\n",
    "    print(f\"{cash = }\")\n",
    "    port.update_portfolio(new_weights, qty, cash, date)"
   ]
  },
  {
   "cell_type": "code",
   "execution_count": 24,
   "metadata": {},
   "outputs": [
    {
     "data": {
      "text/plain": [
       "0.9782168138673402"
      ]
     },
     "execution_count": 24,
     "metadata": {},
     "output_type": "execute_result"
    }
   ],
   "source": [
    "wealth"
   ]
  },
  {
   "cell_type": "code",
   "execution_count": 25,
   "metadata": {
    "ExecuteTime": {
     "start_time": "2023-11-10T21:53:08.865409Z"
    }
   },
   "outputs": [],
   "source": [
    "def get_portfolio_value_history(portfolio: BondPortfolio):\n",
    "    \"\"\"\n",
    "    df with 'qty', 'spread', 'ask', 'bid', 'ai', 'last', 'mid' columns for each bond and trading day of the `portfolio`\n",
    "    \"\"\"\n",
    "    portfolio_df = pd.DataFrame.from_dict(\n",
    "        portfolio._history_qty, orient=\"index\", columns=portfolio.bond_universe\n",
    "    )\n",
    "    portfolio_df.index.name = \"date\"\n",
    "\n",
    "    # wide df -> long df\n",
    "    portfolio_df = pd.melt(\n",
    "        portfolio_df.reset_index(),\n",
    "        \"date\",\n",
    "        value_vars=portfolio.bond_universe,\n",
    "        var_name=\"isin\",\n",
    "        value_name=\"qty\",\n",
    "    ).set_index([\"date\", \"isin\"])\n",
    "\n",
    "    price_df = bond_data.price.reset_index()\n",
    "    price_df = price_df.set_index([\"date\", \"isin\"])\n",
    "\n",
    "    portfolio_history = pd.merge(\n",
    "        portfolio_df,\n",
    "        price_df,\n",
    "        how=\"left\",\n",
    "        left_index=True,\n",
    "        right_index=True,\n",
    "    )\n",
    "\n",
    "    return portfolio_history"
   ]
  },
  {
   "cell_type": "markdown",
   "metadata": {},
   "source": [
    "#### portfolio PNL"
   ]
  },
  {
   "cell_type": "code",
   "execution_count": 26,
   "metadata": {
    "ExecuteTime": {
     "start_time": "2023-11-10T21:53:08.866446Z"
    }
   },
   "outputs": [],
   "source": [
    "portfolio_summary = get_portfolio_value_history(port)\n",
    "portfolio_summary[\"value\"] = portfolio_summary[\"qty\"] * portfolio_summary[\"mid\"]\n",
    "portfolio_summary_grouped = portfolio_summary.groupby(\"date\")"
   ]
  },
  {
   "cell_type": "code",
   "execution_count": 27,
   "metadata": {
    "ExecuteTime": {
     "start_time": "2023-11-10T21:53:08.867378Z"
    }
   },
   "outputs": [
    {
     "data": {
      "image/png": "[encoded data removed]",
      "text/plain": [
       "<Figure size 640x480 with 1 Axes>"
      ]
     },
     "metadata": {},
     "output_type": "display_data"
    }
   ],
   "source": [
    "# benchmark rgbitr\n",
    "rgbitr_slice = bond_data.rgbitr.set_index(\"date\").loc[start_date:end_date]\n",
    "pnl_benchmark = np.cumprod(rgbitr_slice.close.pct_change().fillna(0) + 1)\n",
    "pnl_benchmark.index = pd.DatetimeIndex(pnl_benchmark.index)\n",
    "pnl_benchmark.plot(label=\"rgbitr benchmark\")\n",
    "\n",
    "# portfolio\n",
    "pnl_portfolio = portfolio_summary_grouped.value.sum()\n",
    "pnl_portfolio.index = pd.DatetimeIndex(pnl_portfolio.index)\n",
    "pnl_portfolio.plot(label=\"portfolio\")\n",
    "\n",
    "plt.legend()\n",
    "plt.ylabel(\"PNL\");"
   ]
  },
  {
   "cell_type": "markdown",
   "metadata": {},
   "source": [
    "### mean and median return"
   ]
  },
  {
   "cell_type": "code",
   "execution_count": 28,
   "metadata": {
    "ExecuteTime": {
     "start_time": "2023-11-10T21:53:08.868167Z"
    }
   },
   "outputs": [
    {
     "data": {
      "text/plain": [
       "'Mean return = -0.000, Median return = -0.001'"
      ]
     },
     "execution_count": 28,
     "metadata": {},
     "output_type": "execute_result"
    }
   ],
   "source": [
    "returns = portfolio_summary_grouped.value.sum().pct_change()\n",
    "f\"Mean return = {returns.mean():.3f}, Median return = {returns.median():.3f}\""
   ]
  },
  {
   "cell_type": "markdown",
   "metadata": {},
   "source": [
    "## Sharpe Ratio"
   ]
  },
  {
   "cell_type": "code",
   "execution_count": 29,
   "metadata": {
    "ExecuteTime": {
     "start_time": "2023-11-10T21:53:08.869065Z"
    }
   },
   "outputs": [],
   "source": [
    "rgbitr_slice = bond_data.rgbitr.set_index(\"date\").loc[start_date:end_date]\n",
    "\n",
    "returns_benchmark = rgbitr_slice.close.pct_change().iloc[1:]\n",
    "returns_port = portfolio_summary_grouped.value.sum().pct_change().iloc[1:]"
   ]
  },
  {
   "cell_type": "code",
   "execution_count": 30,
   "metadata": {
    "ExecuteTime": {
     "start_time": "2023-11-10T21:53:08.870178Z"
    }
   },
   "outputs": [
    {
     "data": {
      "text/plain": [
       "8.350321199928853e-138"
      ]
     },
     "execution_count": 30,
     "metadata": {},
     "output_type": "execute_result"
    }
   ],
   "source": [
    "def get_sharp_ratio(returns, returns_market):\n",
    "    \"\"\"\n",
    "    Notes: https://www.investopedia.com/terms/s/sharperatio.asp\n",
    "    \"\"\"\n",
    "    delta = returns.product() - returns_market.product()\n",
    "    return delta / (returns - returns_market).std()\n",
    "\n",
    "\n",
    "get_sharp_ratio(returns=returns_benchmark, returns_market=returns_port)"
   ]
  },
  {
   "cell_type": "markdown",
   "metadata": {},
   "source": [
    "### Information Ratio"
   ]
  },
  {
   "cell_type": "code",
   "execution_count": 39,
   "metadata": {
    "ExecuteTime": {
     "start_time": "2023-11-10T21:53:08.871076Z"
    }
   },
   "outputs": [],
   "source": [
    "def get_information_ratio(returns, returns_market):\n",
    "    \"\"\"\n",
    "    Notes: https://www.investopedia.com/terms/i/informationratio.asp\n",
    "    \"\"\"\n",
    "    difference_benchmark_portfolio = returns - returns_market\n",
    "    tracking_error = difference_benchmark_portfolio.std()\n",
    "    information_ratio = (returns.mean() - returns_market.mean()) / tracking_error\n",
    "    return information_ratio"
   ]
  },
  {
   "cell_type": "code",
   "execution_count": 40,
   "metadata": {
    "ExecuteTime": {
     "start_time": "2023-11-10T21:53:08.879605Z"
    }
   },
   "outputs": [
    {
     "data": {
      "text/plain": [
       "-0.08121380577390663"
      ]
     },
     "execution_count": 40,
     "metadata": {},
     "output_type": "execute_result"
    }
   ],
   "source": [
    "information_ratio = get_information_ratio(\n",
    "    returns=returns_benchmark, returns_market=returns_port\n",
    ")\n",
    "information_ratio"
   ]
  },
  {
   "cell_type": "markdown",
   "metadata": {},
   "source": [
    "## Returns"
   ]
  },
  {
   "cell_type": "code",
   "execution_count": 41,
   "metadata": {
    "ExecuteTime": {
     "start_time": "2023-11-10T21:53:08.879932Z"
    }
   },
   "outputs": [
    {
     "name": "stderr",
     "output_type": "stream",
     "text": [
      "/Users/svetlanatelnova/opt/anaconda3/lib/python3.9/site-packages/seaborn/distributions.py:2619: FutureWarning: `distplot` is a deprecated function and will be removed in a future version. Please adapt your code to use either `displot` (a figure-level function with similar flexibility) or `histplot` (an axes-level function for histograms).\n",
      "  warnings.warn(msg, FutureWarning)\n",
      "/Users/svetlanatelnova/opt/anaconda3/lib/python3.9/site-packages/seaborn/distributions.py:2619: FutureWarning: `distplot` is a deprecated function and will be removed in a future version. Please adapt your code to use either `displot` (a figure-level function with similar flexibility) or `histplot` (an axes-level function for histograms).\n",
      "  warnings.warn(msg, FutureWarning)\n"
     ]
    },
    {
     "data": {
      "image/png": "[encoded data removed]",
      "text/plain": [
       "<Figure size 640x480 with 1 Axes>"
      ]
     },
     "metadata": {},
     "output_type": "display_data"
    }
   ],
   "source": [
    "plt.figure()\n",
    "sns.distplot(returns_benchmark, bins=42, label=\"benchmark returns\")\n",
    "sns.distplot(returns_port, bins=42, label=\"portfolio returns\")\n",
    "plt.legend();"
   ]
  },
  {
   "cell_type": "markdown",
   "metadata": {},
   "source": [
    "# Returns difference"
   ]
  },
  {
   "cell_type": "code",
   "execution_count": 42,
   "metadata": {
    "scrolled": false
   },
   "outputs": [
    {
     "name": "stderr",
     "output_type": "stream",
     "text": [
      "/Users/svetlanatelnova/opt/anaconda3/lib/python3.9/site-packages/seaborn/distributions.py:2619: FutureWarning: `distplot` is a deprecated function and will be removed in a future version. Please adapt your code to use either `displot` (a figure-level function with similar flexibility) or `histplot` (an axes-level function for histograms).\n",
      "  warnings.warn(msg, FutureWarning)\n"
     ]
    },
    {
     "data": {
      "image/png": "[encoded data removed]",
      "text/plain": [
       "<Figure size 640x480 with 1 Axes>"
      ]
     },
     "metadata": {},
     "output_type": "display_data"
    }
   ],
   "source": [
    "returns_diff = returns_port - returns_benchmark\n",
    "sns.distplot(returns_diff, bins=42, label=\"portfolio returns\");"
   ]
  },
  {
   "cell_type": "code",
   "execution_count": 43,
   "metadata": {},
   "outputs": [
    {
     "data": {
      "text/plain": [
       "Ttest_1sampResult(statistic=nan, pvalue=nan)"
      ]
     },
     "execution_count": 43,
     "metadata": {},
     "output_type": "execute_result"
    }
   ],
   "source": [
    "from scipy import stats\n",
    "\n",
    "stats.ttest_1samp(returns_diff, popmean=0)"
   ]
  },
  {
   "cell_type": "markdown",
   "metadata": {},
   "source": [
    "# Benchmark Timing\n",
    "\n",
    "One financially based refinement to the regression model is a benchmark timing component. The expanded model is\n",
    "\n",
    "$$r_{P}(t) = \\alpha_{P}+\\beta_{P} * r_{B}(t) + \\gamma_{P} * max(0, r_{B}(t)) + \\epsilon_{P}(t)$$\n",
    "\n",
    "We include the variable γP to determine whether the manager has any benchmark timing skill. The model includes a \"down-market\" beta, βP, and an \"up-market\" beta, βP + γP. If γP is significantly positive, then we say that there is evidence of timing skill; benchmark exposure is significantly different in up and down cases.\n"
   ]
  },
  {
   "cell_type": "code",
   "execution_count": 44,
   "metadata": {},
   "outputs": [
    {
     "ename": "ValueError",
     "evalue": "The indices for endog and exog are not aligned",
     "output_type": "error",
     "traceback": [
      "\u001b[0;31m---------------------------------------------------------------------------\u001b[0m",
      "\u001b[0;31mValueError\u001b[0m                                Traceback (most recent call last)",
      "\u001b[0;32m/var/folders/47/m1n0krg53lbb1g1klf717_mr0000gp/T/ipykernel_49641/3812735055.py\u001b[0m in \u001b[0;36m<module>\u001b[0;34m\u001b[0m\n\u001b[1;32m      7\u001b[0m \u001b[0;34m\u001b[0m\u001b[0m\n\u001b[1;32m      8\u001b[0m \u001b[0mX\u001b[0m \u001b[0;34m=\u001b[0m \u001b[0msm\u001b[0m\u001b[0;34m.\u001b[0m\u001b[0madd_constant\u001b[0m\u001b[0;34m(\u001b[0m\u001b[0mtiming_df\u001b[0m\u001b[0;34m)\u001b[0m\u001b[0;34m\u001b[0m\u001b[0;34m\u001b[0m\u001b[0m\n\u001b[0;32m----> 9\u001b[0;31m \u001b[0mbenchmark_timing_model\u001b[0m \u001b[0;34m=\u001b[0m \u001b[0msm\u001b[0m\u001b[0;34m.\u001b[0m\u001b[0mOLS\u001b[0m\u001b[0;34m(\u001b[0m\u001b[0mreturns_port\u001b[0m\u001b[0;34m,\u001b[0m\u001b[0mX\u001b[0m\u001b[0;34m)\u001b[0m\u001b[0;34m\u001b[0m\u001b[0;34m\u001b[0m\u001b[0m\n\u001b[0m\u001b[1;32m     10\u001b[0m \u001b[0mresults\u001b[0m \u001b[0;34m=\u001b[0m \u001b[0mbenchmark_timing_model\u001b[0m\u001b[0;34m.\u001b[0m\u001b[0mfit\u001b[0m\u001b[0;34m(\u001b[0m\u001b[0;34m)\u001b[0m\u001b[0;34m\u001b[0m\u001b[0;34m\u001b[0m\u001b[0m\n\u001b[1;32m     11\u001b[0m \u001b[0mresults\u001b[0m\u001b[0;34m.\u001b[0m\u001b[0mparams\u001b[0m\u001b[0;34m\u001b[0m\u001b[0;34m\u001b[0m\u001b[0m\n",
      "\u001b[0;32m~/opt/anaconda3/lib/python3.9/site-packages/statsmodels/regression/linear_model.py\u001b[0m in \u001b[0;36m__init__\u001b[0;34m(self, endog, exog, missing, hasconst, **kwargs)\u001b[0m\n\u001b[1;32m    888\u001b[0m                    \"An exception will be raised in the next version.\")\n\u001b[1;32m    889\u001b[0m             \u001b[0mwarnings\u001b[0m\u001b[0;34m.\u001b[0m\u001b[0mwarn\u001b[0m\u001b[0;34m(\u001b[0m\u001b[0mmsg\u001b[0m\u001b[0;34m,\u001b[0m \u001b[0mValueWarning\u001b[0m\u001b[0;34m)\u001b[0m\u001b[0;34m\u001b[0m\u001b[0;34m\u001b[0m\u001b[0m\n\u001b[0;32m--> 890\u001b[0;31m         super(OLS, self).__init__(endog, exog, missing=missing,\n\u001b[0m\u001b[1;32m    891\u001b[0m                                   hasconst=hasconst, **kwargs)\n\u001b[1;32m    892\u001b[0m         \u001b[0;32mif\u001b[0m \u001b[0;34m\"weights\"\u001b[0m \u001b[0;32min\u001b[0m \u001b[0mself\u001b[0m\u001b[0;34m.\u001b[0m\u001b[0m_init_keys\u001b[0m\u001b[0;34m:\u001b[0m\u001b[0;34m\u001b[0m\u001b[0;34m\u001b[0m\u001b[0m\n",
      "\u001b[0;32m~/opt/anaconda3/lib/python3.9/site-packages/statsmodels/regression/linear_model.py\u001b[0m in \u001b[0;36m__init__\u001b[0;34m(self, endog, exog, weights, missing, hasconst, **kwargs)\u001b[0m\n\u001b[1;32m    715\u001b[0m         \u001b[0;32melse\u001b[0m\u001b[0;34m:\u001b[0m\u001b[0;34m\u001b[0m\u001b[0;34m\u001b[0m\u001b[0m\n\u001b[1;32m    716\u001b[0m             \u001b[0mweights\u001b[0m \u001b[0;34m=\u001b[0m \u001b[0mweights\u001b[0m\u001b[0;34m.\u001b[0m\u001b[0msqueeze\u001b[0m\u001b[0;34m(\u001b[0m\u001b[0;34m)\u001b[0m\u001b[0;34m\u001b[0m\u001b[0;34m\u001b[0m\u001b[0m\n\u001b[0;32m--> 717\u001b[0;31m         super(WLS, self).__init__(endog, exog, missing=missing,\n\u001b[0m\u001b[1;32m    718\u001b[0m                                   weights=weights, hasconst=hasconst, **kwargs)\n\u001b[1;32m    719\u001b[0m         \u001b[0mnobs\u001b[0m \u001b[0;34m=\u001b[0m \u001b[0mself\u001b[0m\u001b[0;34m.\u001b[0m\u001b[0mexog\u001b[0m\u001b[0;34m.\u001b[0m\u001b[0mshape\u001b[0m\u001b[0;34m[\u001b[0m\u001b[0;36m0\u001b[0m\u001b[0;34m]\u001b[0m\u001b[0;34m\u001b[0m\u001b[0;34m\u001b[0m\u001b[0m\n",
      "\u001b[0;32m~/opt/anaconda3/lib/python3.9/site-packages/statsmodels/regression/linear_model.py\u001b[0m in \u001b[0;36m__init__\u001b[0;34m(self, endog, exog, **kwargs)\u001b[0m\n\u001b[1;32m    189\u001b[0m     \"\"\"\n\u001b[1;32m    190\u001b[0m     \u001b[0;32mdef\u001b[0m \u001b[0m__init__\u001b[0m\u001b[0;34m(\u001b[0m\u001b[0mself\u001b[0m\u001b[0;34m,\u001b[0m \u001b[0mendog\u001b[0m\u001b[0;34m,\u001b[0m \u001b[0mexog\u001b[0m\u001b[0;34m,\u001b[0m \u001b[0;34m**\u001b[0m\u001b[0mkwargs\u001b[0m\u001b[0;34m)\u001b[0m\u001b[0;34m:\u001b[0m\u001b[0;34m\u001b[0m\u001b[0;34m\u001b[0m\u001b[0m\n\u001b[0;32m--> 191\u001b[0;31m         \u001b[0msuper\u001b[0m\u001b[0;34m(\u001b[0m\u001b[0mRegressionModel\u001b[0m\u001b[0;34m,\u001b[0m \u001b[0mself\u001b[0m\u001b[0;34m)\u001b[0m\u001b[0;34m.\u001b[0m\u001b[0m__init__\u001b[0m\u001b[0;34m(\u001b[0m\u001b[0mendog\u001b[0m\u001b[0;34m,\u001b[0m \u001b[0mexog\u001b[0m\u001b[0;34m,\u001b[0m \u001b[0;34m**\u001b[0m\u001b[0mkwargs\u001b[0m\u001b[0;34m)\u001b[0m\u001b[0;34m\u001b[0m\u001b[0;34m\u001b[0m\u001b[0m\n\u001b[0m\u001b[1;32m    192\u001b[0m         \u001b[0mself\u001b[0m\u001b[0;34m.\u001b[0m\u001b[0m_data_attr\u001b[0m\u001b[0;34m.\u001b[0m\u001b[0mextend\u001b[0m\u001b[0;34m(\u001b[0m\u001b[0;34m[\u001b[0m\u001b[0;34m'pinv_wexog'\u001b[0m\u001b[0;34m,\u001b[0m \u001b[0;34m'wendog'\u001b[0m\u001b[0;34m,\u001b[0m \u001b[0;34m'wexog'\u001b[0m\u001b[0;34m,\u001b[0m \u001b[0;34m'weights'\u001b[0m\u001b[0;34m]\u001b[0m\u001b[0;34m)\u001b[0m\u001b[0;34m\u001b[0m\u001b[0;34m\u001b[0m\u001b[0m\n\u001b[1;32m    193\u001b[0m \u001b[0;34m\u001b[0m\u001b[0m\n",
      "\u001b[0;32m~/opt/anaconda3/lib/python3.9/site-packages/statsmodels/base/model.py\u001b[0m in \u001b[0;36m__init__\u001b[0;34m(self, endog, exog, **kwargs)\u001b[0m\n\u001b[1;32m    265\u001b[0m \u001b[0;34m\u001b[0m\u001b[0m\n\u001b[1;32m    266\u001b[0m     \u001b[0;32mdef\u001b[0m \u001b[0m__init__\u001b[0m\u001b[0;34m(\u001b[0m\u001b[0mself\u001b[0m\u001b[0;34m,\u001b[0m \u001b[0mendog\u001b[0m\u001b[0;34m,\u001b[0m \u001b[0mexog\u001b[0m\u001b[0;34m=\u001b[0m\u001b[0;32mNone\u001b[0m\u001b[0;34m,\u001b[0m \u001b[0;34m**\u001b[0m\u001b[0mkwargs\u001b[0m\u001b[0;34m)\u001b[0m\u001b[0;34m:\u001b[0m\u001b[0;34m\u001b[0m\u001b[0;34m\u001b[0m\u001b[0m\n\u001b[0;32m--> 267\u001b[0;31m         \u001b[0msuper\u001b[0m\u001b[0;34m(\u001b[0m\u001b[0;34m)\u001b[0m\u001b[0;34m.\u001b[0m\u001b[0m__init__\u001b[0m\u001b[0;34m(\u001b[0m\u001b[0mendog\u001b[0m\u001b[0;34m,\u001b[0m \u001b[0mexog\u001b[0m\u001b[0;34m,\u001b[0m \u001b[0;34m**\u001b[0m\u001b[0mkwargs\u001b[0m\u001b[0;34m)\u001b[0m\u001b[0;34m\u001b[0m\u001b[0;34m\u001b[0m\u001b[0m\n\u001b[0m\u001b[1;32m    268\u001b[0m         \u001b[0mself\u001b[0m\u001b[0;34m.\u001b[0m\u001b[0minitialize\u001b[0m\u001b[0;34m(\u001b[0m\u001b[0;34m)\u001b[0m\u001b[0;34m\u001b[0m\u001b[0;34m\u001b[0m\u001b[0m\n\u001b[1;32m    269\u001b[0m \u001b[0;34m\u001b[0m\u001b[0m\n",
      "\u001b[0;32m~/opt/anaconda3/lib/python3.9/site-packages/statsmodels/base/model.py\u001b[0m in \u001b[0;36m__init__\u001b[0;34m(self, endog, exog, **kwargs)\u001b[0m\n\u001b[1;32m     90\u001b[0m         \u001b[0mmissing\u001b[0m \u001b[0;34m=\u001b[0m \u001b[0mkwargs\u001b[0m\u001b[0;34m.\u001b[0m\u001b[0mpop\u001b[0m\u001b[0;34m(\u001b[0m\u001b[0;34m'missing'\u001b[0m\u001b[0;34m,\u001b[0m \u001b[0;34m'none'\u001b[0m\u001b[0;34m)\u001b[0m\u001b[0;34m\u001b[0m\u001b[0;34m\u001b[0m\u001b[0m\n\u001b[1;32m     91\u001b[0m         \u001b[0mhasconst\u001b[0m \u001b[0;34m=\u001b[0m \u001b[0mkwargs\u001b[0m\u001b[0;34m.\u001b[0m\u001b[0mpop\u001b[0m\u001b[0;34m(\u001b[0m\u001b[0;34m'hasconst'\u001b[0m\u001b[0;34m,\u001b[0m \u001b[0;32mNone\u001b[0m\u001b[0;34m)\u001b[0m\u001b[0;34m\u001b[0m\u001b[0;34m\u001b[0m\u001b[0m\n\u001b[0;32m---> 92\u001b[0;31m         self.data = self._handle_data(endog, exog, missing, hasconst,\n\u001b[0m\u001b[1;32m     93\u001b[0m                                       **kwargs)\n\u001b[1;32m     94\u001b[0m         \u001b[0mself\u001b[0m\u001b[0;34m.\u001b[0m\u001b[0mk_constant\u001b[0m \u001b[0;34m=\u001b[0m \u001b[0mself\u001b[0m\u001b[0;34m.\u001b[0m\u001b[0mdata\u001b[0m\u001b[0;34m.\u001b[0m\u001b[0mk_constant\u001b[0m\u001b[0;34m\u001b[0m\u001b[0;34m\u001b[0m\u001b[0m\n",
      "\u001b[0;32m~/opt/anaconda3/lib/python3.9/site-packages/statsmodels/base/model.py\u001b[0m in \u001b[0;36m_handle_data\u001b[0;34m(self, endog, exog, missing, hasconst, **kwargs)\u001b[0m\n\u001b[1;32m    130\u001b[0m \u001b[0;34m\u001b[0m\u001b[0m\n\u001b[1;32m    131\u001b[0m     \u001b[0;32mdef\u001b[0m \u001b[0m_handle_data\u001b[0m\u001b[0;34m(\u001b[0m\u001b[0mself\u001b[0m\u001b[0;34m,\u001b[0m \u001b[0mendog\u001b[0m\u001b[0;34m,\u001b[0m \u001b[0mexog\u001b[0m\u001b[0;34m,\u001b[0m \u001b[0mmissing\u001b[0m\u001b[0;34m,\u001b[0m \u001b[0mhasconst\u001b[0m\u001b[0;34m,\u001b[0m \u001b[0;34m**\u001b[0m\u001b[0mkwargs\u001b[0m\u001b[0;34m)\u001b[0m\u001b[0;34m:\u001b[0m\u001b[0;34m\u001b[0m\u001b[0;34m\u001b[0m\u001b[0m\n\u001b[0;32m--> 132\u001b[0;31m         \u001b[0mdata\u001b[0m \u001b[0;34m=\u001b[0m \u001b[0mhandle_data\u001b[0m\u001b[0;34m(\u001b[0m\u001b[0mendog\u001b[0m\u001b[0;34m,\u001b[0m \u001b[0mexog\u001b[0m\u001b[0;34m,\u001b[0m \u001b[0mmissing\u001b[0m\u001b[0;34m,\u001b[0m \u001b[0mhasconst\u001b[0m\u001b[0;34m,\u001b[0m \u001b[0;34m**\u001b[0m\u001b[0mkwargs\u001b[0m\u001b[0;34m)\u001b[0m\u001b[0;34m\u001b[0m\u001b[0;34m\u001b[0m\u001b[0m\n\u001b[0m\u001b[1;32m    133\u001b[0m         \u001b[0;31m# kwargs arrays could have changed, easier to just attach here\u001b[0m\u001b[0;34m\u001b[0m\u001b[0;34m\u001b[0m\u001b[0m\n\u001b[1;32m    134\u001b[0m         \u001b[0;32mfor\u001b[0m \u001b[0mkey\u001b[0m \u001b[0;32min\u001b[0m \u001b[0mkwargs\u001b[0m\u001b[0;34m:\u001b[0m\u001b[0;34m\u001b[0m\u001b[0;34m\u001b[0m\u001b[0m\n",
      "\u001b[0;32m~/opt/anaconda3/lib/python3.9/site-packages/statsmodels/base/data.py\u001b[0m in \u001b[0;36mhandle_data\u001b[0;34m(endog, exog, missing, hasconst, **kwargs)\u001b[0m\n\u001b[1;32m    671\u001b[0m \u001b[0;34m\u001b[0m\u001b[0m\n\u001b[1;32m    672\u001b[0m     \u001b[0mklass\u001b[0m \u001b[0;34m=\u001b[0m \u001b[0mhandle_data_class_factory\u001b[0m\u001b[0;34m(\u001b[0m\u001b[0mendog\u001b[0m\u001b[0;34m,\u001b[0m \u001b[0mexog\u001b[0m\u001b[0;34m)\u001b[0m\u001b[0;34m\u001b[0m\u001b[0;34m\u001b[0m\u001b[0m\n\u001b[0;32m--> 673\u001b[0;31m     return klass(endog, exog=exog, missing=missing, hasconst=hasconst,\n\u001b[0m\u001b[1;32m    674\u001b[0m                  **kwargs)\n",
      "\u001b[0;32m~/opt/anaconda3/lib/python3.9/site-packages/statsmodels/base/data.py\u001b[0m in \u001b[0;36m__init__\u001b[0;34m(self, endog, exog, missing, hasconst, **kwargs)\u001b[0m\n\u001b[1;32m     85\u001b[0m         \u001b[0mself\u001b[0m\u001b[0;34m.\u001b[0m\u001b[0mk_constant\u001b[0m \u001b[0;34m=\u001b[0m \u001b[0;36m0\u001b[0m\u001b[0;34m\u001b[0m\u001b[0;34m\u001b[0m\u001b[0m\n\u001b[1;32m     86\u001b[0m         \u001b[0mself\u001b[0m\u001b[0;34m.\u001b[0m\u001b[0m_handle_constant\u001b[0m\u001b[0;34m(\u001b[0m\u001b[0mhasconst\u001b[0m\u001b[0;34m)\u001b[0m\u001b[0;34m\u001b[0m\u001b[0;34m\u001b[0m\u001b[0m\n\u001b[0;32m---> 87\u001b[0;31m         \u001b[0mself\u001b[0m\u001b[0;34m.\u001b[0m\u001b[0m_check_integrity\u001b[0m\u001b[0;34m(\u001b[0m\u001b[0;34m)\u001b[0m\u001b[0;34m\u001b[0m\u001b[0;34m\u001b[0m\u001b[0m\n\u001b[0m\u001b[1;32m     88\u001b[0m         \u001b[0mself\u001b[0m\u001b[0;34m.\u001b[0m\u001b[0m_cache\u001b[0m \u001b[0;34m=\u001b[0m \u001b[0;34m{\u001b[0m\u001b[0;34m}\u001b[0m\u001b[0;34m\u001b[0m\u001b[0;34m\u001b[0m\u001b[0m\n\u001b[1;32m     89\u001b[0m \u001b[0;34m\u001b[0m\u001b[0m\n",
      "\u001b[0;32m~/opt/anaconda3/lib/python3.9/site-packages/statsmodels/base/data.py\u001b[0m in \u001b[0;36m_check_integrity\u001b[0;34m(self)\u001b[0m\n\u001b[1;32m    529\u001b[0m                 \u001b[0;34m(\u001b[0m\u001b[0mhasattr\u001b[0m\u001b[0;34m(\u001b[0m\u001b[0mendog\u001b[0m\u001b[0;34m,\u001b[0m \u001b[0;34m'index'\u001b[0m\u001b[0;34m)\u001b[0m \u001b[0;32mand\u001b[0m \u001b[0mhasattr\u001b[0m\u001b[0;34m(\u001b[0m\u001b[0mexog\u001b[0m\u001b[0;34m,\u001b[0m \u001b[0;34m'index'\u001b[0m\u001b[0;34m)\u001b[0m\u001b[0;34m)\u001b[0m \u001b[0;32mand\u001b[0m\u001b[0;34m\u001b[0m\u001b[0;34m\u001b[0m\u001b[0m\n\u001b[1;32m    530\u001b[0m                 not self.orig_endog.index.equals(self.orig_exog.index)):\n\u001b[0;32m--> 531\u001b[0;31m             \u001b[0;32mraise\u001b[0m \u001b[0mValueError\u001b[0m\u001b[0;34m(\u001b[0m\u001b[0;34m\"The indices for endog and exog are not aligned\"\u001b[0m\u001b[0;34m)\u001b[0m\u001b[0;34m\u001b[0m\u001b[0;34m\u001b[0m\u001b[0m\n\u001b[0m\u001b[1;32m    532\u001b[0m         \u001b[0msuper\u001b[0m\u001b[0;34m(\u001b[0m\u001b[0mPandasData\u001b[0m\u001b[0;34m,\u001b[0m \u001b[0mself\u001b[0m\u001b[0;34m)\u001b[0m\u001b[0;34m.\u001b[0m\u001b[0m_check_integrity\u001b[0m\u001b[0;34m(\u001b[0m\u001b[0;34m)\u001b[0m\u001b[0;34m\u001b[0m\u001b[0;34m\u001b[0m\u001b[0m\n\u001b[1;32m    533\u001b[0m \u001b[0;34m\u001b[0m\u001b[0m\n",
      "\u001b[0;31mValueError\u001b[0m: The indices for endog and exog are not aligned"
     ]
    }
   ],
   "source": [
    "import statsmodels.api as sm\n",
    "import numpy as np\n",
    "\n",
    "timing_df = returns_benchmark.to_frame().rename(columns={'close':'beta'})\n",
    "timing_df['gamma'] = timing_df['beta']\n",
    "timing_df.loc[timing_df['beta'] < 0, 'gamma'] = 0\n",
    "\n",
    "X = sm.add_constant(timing_df)\n",
    "benchmark_timing_model = sm.OLS(returns_port,X)\n",
    "results = benchmark_timing_model.fit()\n",
    "results.params"
   ]
  },
  {
   "cell_type": "markdown",
   "metadata": {},
   "source": [
    "## Value at Risk"
   ]
  },
  {
   "cell_type": "code",
   "execution_count": 45,
   "metadata": {
    "ExecuteTime": {
     "start_time": "2023-11-10T21:53:08.880230Z"
    }
   },
   "outputs": [
    {
     "data": {
      "text/plain": [
       "-0.004743575670312139"
      ]
     },
     "execution_count": 45,
     "metadata": {},
     "output_type": "execute_result"
    }
   ],
   "source": [
    "alpha = 0.05\n",
    "returns_benchmark.quantile(alpha)"
   ]
  },
  {
   "cell_type": "markdown",
   "metadata": {},
   "source": [
    "## Skewness of Returns"
   ]
  },
  {
   "cell_type": "code",
   "execution_count": 46,
   "metadata": {
    "ExecuteTime": {
     "start_time": "2023-11-10T21:53:08.880415Z"
    }
   },
   "outputs": [
    {
     "data": {
      "text/plain": [
       "-0.5220272628536753"
      ]
     },
     "execution_count": 46,
     "metadata": {},
     "output_type": "execute_result"
    }
   ],
   "source": [
    "alpha = 0.05\n",
    "returns_benchmark.skew()"
   ]
  },
  {
   "cell_type": "code",
   "execution_count": null,
   "metadata": {},
   "outputs": [],
   "source": []
  }
 ],
 "metadata": {
  "kernelspec": {
   "display_name": "Python 3 (ipykernel)",
   "language": "python",
   "name": "python3"
  },
  "language_info": {
   "codemirror_mode": {
    "name": "ipython",
    "version": 3
   },
   "file_extension": ".py",
   "mimetype": "text/x-python",
   "name": "python",
   "nbconvert_exporter": "python",
   "pygments_lexer": "ipython3",
   "version": "3.9.13"
  }
 },
 "nbformat": 4,
 "nbformat_minor": 1
}
