{
 "cells": [
  {
   "cell_type": "code",
   "execution_count": 2,
   "metadata": {
    "ExecuteTime": {
     "end_time": "2023-11-10T21:53:10.676114Z",
     "start_time": "2023-11-10T21:53:04.612486Z"
    }
   },
   "outputs": [],
   "source": [
    "import time\n",
    "from dataclasses import dataclass\n",
    "from dataclasses import field\n",
    "from datetime import datetime\n",
    "\n",
    "import numpy as np\n",
    "import pandas as pd\n",
    "from matplotlib import pyplot as plt\n",
    "import seaborn as sns"
   ]
  },
  {
   "cell_type": "code",
   "execution_count": 3,
   "metadata": {
    "ExecuteTime": {
     "end_time": "2023-11-10T21:53:10.969485Z",
     "start_time": "2023-11-10T21:53:04.622911Z"
    }
   },
   "outputs": [],
   "source": [
    "DAY_SECONDS = 60 * 60 * 24\n",
    "\n",
    "\n",
    "def today() -> pd.Timestamp:\n",
    "    \"\"\"\n",
    "    pd.Timestamp today midnight\n",
    "    \"\"\"\n",
    "    seconds = time.time() - time.timezone\n",
    "    seconds_round_day = seconds - (seconds % DAY_SECONDS)\n",
    "    return pd.Timestamp.fromtimestamp(seconds_round_day + time.timezone)"
   ]
  },
  {
   "cell_type": "markdown",
   "metadata": {},
   "source": [
    "Pick some bonds to use in the current optimization"
   ]
  },
  {
   "cell_type": "code",
   "execution_count": 4,
   "metadata": {
    "ExecuteTime": {
     "end_time": "2023-11-10T21:53:10.969782Z",
     "start_time": "2023-11-10T21:53:04.668499Z"
    }
   },
   "outputs": [],
   "source": [
    "BOND_UNIVERSE: tuple[str] = (\n",
    "    \"RU000A0GN9A7\",\n",
    "    \"RU000A0JV4N8\",\n",
    "    \"RU000A0JWDN6\",\n",
    "    \"RU000A0JV4Q1\",\n",
    "    \"RU000A0JVA10\",\n",
    "    \"RU000A0JW0S4\",\n",
    "    \"RU000A0JUMH3\",\n",
    ")"
   ]
  },
  {
   "cell_type": "code",
   "execution_count": 9,
   "metadata": {
    "ExecuteTime": {
     "end_time": "2023-11-10T22:15:12.608639Z",
     "start_time": "2023-11-10T22:15:07.911260Z"
    }
   },
   "outputs": [],
   "source": [
    "from functools import cached_property\n",
    "\n",
    "\n",
    "class BondDataProvider:\n",
    "    \"\"\"Data provider for bonds and\"\"\"\n",
    "\n",
    "    def __init__(self):\n",
    "        \"\"\"Read all pre-downloaded data.\"\"\"\n",
    "        df_price = pd.read_csv(\"/Users/svetlanatelnova/university/portfolio_optimization/hse-course-work-bonds/data/bond_data_price.csv\", parse_dates=[\"date\"])\n",
    "        df_price[\"date\"] = df_price[\"date\"].dt.date\n",
    "        df_price = df_price.set_index([\"date\", \"isin\"])\n",
    "        self._price = df_price.sort_index(level=\"date\")\n",
    "\n",
    "        self._dur = pd.read_csv(\"/Users/svetlanatelnova/university/portfolio_optimization/hse-course-work-bonds/data/bond_data_duration.csv\", parse_dates=[\"date\"])\n",
    "        self._dur[\"date\"] = self._dur[\"date\"].dt.date\n",
    "        self._dur = self._dur.set_index([\"date\", \"isin\"]).sort_index(level=\"date\")\n",
    "\n",
    "        self._static = pd.read_csv(\"/Users/svetlanatelnova/university/portfolio_optimization/hse-course-work-bonds/data/bond_data_static.csv\")\n",
    "        self._rating = pd.read_csv(\n",
    "            \"/Users/svetlanatelnova/university/portfolio_optimization/hse-course-work-bonds/data/bond_data_rating.csv\", parse_dates=[\"update_date\"]\n",
    "        )\n",
    "        self._rating[\"update_date\"] = self._rating[\"update_date\"].dt.date\n",
    "\n",
    "        self._volume = pd.read_csv(\"/Users/svetlanatelnova/university/portfolio_optimization/hse-course-work-bonds/data/bond_data_volume.csv\")\n",
    "        self._rgbitr = pd.read_csv(\"/Users/svetlanatelnova/university/portfolio_optimization/hse-course-work-bonds/data/bond_data_rgbitr.csv\", parse_dates=[\"date\"])\n",
    "\n",
    "        self._yield = pd.read_csv(\"/Users/svetlanatelnova/university/portfolio_optimization/hse-course-work-bonds/data/bond_data_yield.csv\", parse_dates=[\"date\"])\n",
    "        self._yield[\"date\"] = pd.to_datetime(self._yield[\"date\"].dt.date)\n",
    "        self._yield = self._yield.sort_values(\"date\")\n",
    "\n",
    "    @property\n",
    "    def price(self):\n",
    "        \"\"\"\n",
    "        df with bond's historical prices\n",
    "        columns: 'isin','date','spread','ask','bid','ai','last','mid'\n",
    "        \"\"\"\n",
    "        return self._price\n",
    "\n",
    "    @property\n",
    "    def duration(self):\n",
    "        \"\"\"\n",
    "        df with bond's precomputed duration data\n",
    "        columns: 'id','date','isin','emission_id','emission_emitent_id','trading_ground_id','avar_price',\n",
    "        'convexity','convexity_offer','dur','dur_to','dur_mod','dur_mod_to'\n",
    "        \"\"\"\n",
    "        return self._dur\n",
    "\n",
    "    @property\n",
    "    def static(self):\n",
    "        \"\"\"Static bond info including coupon data.\"\"\"\n",
    "        return self._static\n",
    "\n",
    "    @property\n",
    "    def rating(self):\n",
    "        \"\"\"Bond ratings data.\"\"\"\n",
    "        return self._rating\n",
    "\n",
    "    @property\n",
    "    def volume(self):\n",
    "        \"\"\"Traded volume data.\n",
    "        columns: 'volume' -- traded volume ,'volume_lots' -- number of traded lots\n",
    "        \"\"\"\n",
    "        return self._volume\n",
    "\n",
    "    @property\n",
    "    def yield_(self):\n",
    "        \"\"\"Estimated bond yields.\"\"\"\n",
    "        return self._yield\n",
    "\n",
    "    @cached_property\n",
    "    def rgbitr(self):\n",
    "        \"\"\"RGBITR benchmark.\"\"\"\n",
    "        return self._rgbitr[self._rgbitr[\"secid\"] == \"RGBITR\"]\n",
    "\n",
    "    @cached_property\n",
    "    def rucbitr(self):\n",
    "        \"\"\"RUCBITR benchmark.\n",
    "\n",
    "        Note: halts after 05/31/2023\n",
    "        \"\"\"\n",
    "        return self._rgbitr[self._rgbitr[\"secid\"] == \"RUCBITR\"]\n",
    "\n",
    "\n",
    "bond_data = BondDataProvider()"
   ]
  },
  {
   "cell_type": "code",
   "execution_count": 10,
   "metadata": {
    "ExecuteTime": {
     "end_time": "2023-11-10T21:53:10.971204Z",
     "start_time": "2023-11-10T21:53:08.654351Z"
    }
   },
   "outputs": [],
   "source": [
    "@dataclass\n",
    "class BondPortfolio:\n",
    "    \"\"\"portfolio history and basic statistics.\"\"\"\n",
    "\n",
    "    bond_universe: tuple[str] = field(default=tuple)\n",
    "    cash: float = 1\n",
    "\n",
    "    def __post_init__(self):\n",
    "        self.universe_size: int = len(self.bond_universe)\n",
    "\n",
    "        # current portfolio portions of bonds from the universe\n",
    "        self._weights: np.array = np.zeros(self.universe_size)\n",
    "\n",
    "        # current quantities of bonds from the universe\n",
    "        self._qty: np.array = np.zeros(self.universe_size)\n",
    "\n",
    "        self._history_weights: dict[pd.Timestamp, np.array] = {}\n",
    "        self._history_qty: dict[pd.Timestamp, np.array] = {}\n",
    "\n",
    "        # current date\n",
    "        self._date: pd.Timestamp = today()\n",
    "\n",
    "    def update_portfolio(\n",
    "        self, weights: np.array, qty: np.array, cash: float, date: pd.Timestamp\n",
    "    ):\n",
    "        \"\"\"Should be called when bonds quantity is changed\"\"\"\n",
    "        self._date = date\n",
    "        self.cash = cash\n",
    "\n",
    "        self._weights = weights\n",
    "        self._history_weights[date] = weights\n",
    "\n",
    "        self._qty = qty\n",
    "        self._history_qty[date] = qty\n",
    "\n",
    "    @property\n",
    "    def weights(self):\n",
    "        \"\"\"Weights for the current_date.\"\"\"\n",
    "        return self._weights\n",
    "\n",
    "    def wealth(self, prices: np.array):\n",
    "        \"\"\"Total value af assets and money on account.\"\"\"\n",
    "        return self.cash + self._qty @ prices"
   ]
  },
  {
   "cell_type": "code",
   "execution_count": 14,
   "metadata": {
    "ExecuteTime": {
     "end_time": "2023-11-10T21:53:10.971273Z",
     "start_time": "2023-11-10T21:53:08.656947Z"
    }
   },
   "outputs": [],
   "source": [
    "# create portfolio for a simple strategy\n",
    "port = BondPortfolio(\n",
    "    bond_universe=BOND_UNIVERSE,\n",
    "    cash=1,\n",
    ")"
   ]
  },
  {
   "cell_type": "markdown",
   "metadata": {},
   "source": [
    "## Random Weights Strategy"
   ]
  },
  {
   "cell_type": "code",
   "execution_count": 17,
   "metadata": {
    "ExecuteTime": {
     "end_time": "2023-11-10T21:53:41.631270Z",
     "start_time": "2023-11-10T21:53:41.415369Z"
    }
   },
   "outputs": [
    {
     "name": "stdout",
     "output_type": "stream",
     "text": [
      "======================================================\n",
      "2023-08-01\n",
      "wealth = 1.0\n",
      "[0.01739662 0.2395482  0.23850228 0.24559372 0.05578985 0.11531217\n",
      " 0.08785716]\n",
      "======================================================\n",
      "2023-08-02\n",
      "wealth = 0.9989145536155618\n",
      "[ 0.17481278 -0.18041995 -0.15611827 -0.20217405  0.08422835  0.12623551\n",
      "  0.15343562]\n",
      "======================================================\n",
      "2023-08-03\n",
      "wealth = 0.9963944307034601\n",
      "[-0.122566    0.06471845  0.16555129 -0.01041865 -0.00483793  0.02722944\n",
      " -0.11967661]\n",
      "======================================================\n",
      "2023-08-04\n",
      "wealth = 0.9943429095481829\n",
      "[-0.04593916 -0.01957342 -0.02435869  0.27645103  0.12559551 -0.22169637\n",
      " -0.0904789 ]\n",
      "======================================================\n",
      "2023-08-05\n",
      "======================================================\n",
      "2023-08-06\n",
      "======================================================\n",
      "2023-08-07\n",
      "wealth = 0.9917362149251694\n",
      "[ 0.10227676  0.04143741  0.00552189 -0.12025964 -0.20652012  0.07898819\n",
      "  0.09855551]\n",
      "======================================================\n",
      "2023-08-08\n",
      "wealth = 0.9946390074042046\n",
      "[-0.10614323  0.00518542 -0.16236676  0.02881543  0.26829814 -0.06528721\n",
      "  0.03149822]\n",
      "======================================================\n",
      "2023-08-09\n",
      "wealth = 0.9947817825435681\n",
      "[ 0.18857274 -0.11077648  0.13208586 -0.00384779 -0.16147421 -0.05102092\n",
      "  0.0064608 ]\n",
      "======================================================\n",
      "2023-08-10\n",
      "wealth = 0.9961399085420625\n",
      "[-0.09875127  0.19218804 -0.19856261 -0.17899978  0.07608944  0.31476458\n",
      " -0.10672841]\n",
      "======================================================\n",
      "2023-08-11\n",
      "wealth = 0.9943320665645123\n",
      "[-0.05254932 -0.1528578   0.0496011   0.27586531 -0.08195432 -0.15738909\n",
      "  0.11928411]\n",
      "======================================================\n",
      "2023-08-12\n",
      "======================================================\n",
      "2023-08-13\n",
      "======================================================\n",
      "2023-08-14\n",
      "wealth = 0.9925788573622532\n",
      "[-0.00202232  0.02862209  0.0775244  -0.2841703   0.09404696  0.05879562\n",
      "  0.02720355]\n",
      "======================================================\n",
      "2023-08-15\n",
      "wealth = 0.9908191248859685\n",
      "[ 0.07920056  0.02611884  0.03049912  0.08585717 -0.10780392 -0.03673943\n",
      " -0.07713235]\n",
      "======================================================\n",
      "2023-08-16\n",
      "wealth = 0.9870705868037365\n",
      "[ 0.0686819   0.10080157 -0.06313695  0.06270696  0.0040978  -0.14760184\n",
      " -0.02554943]\n",
      "======================================================\n",
      "2023-08-17\n",
      "wealth = 0.9876475361933453\n",
      "[-0.18886624 -0.04480477 -0.08818228  0.06262427  0.18197584 -0.01665446\n",
      "  0.09390764]\n",
      "======================================================\n",
      "2023-08-18\n",
      "wealth = 0.9889505802325808\n",
      "[ 0.14694914  0.02796085  0.21533281 -0.09035452 -0.1296431   0.0240724\n",
      " -0.19431758]\n",
      "======================================================\n",
      "2023-08-19\n",
      "======================================================\n",
      "2023-08-20\n",
      "======================================================\n",
      "2023-08-21\n",
      "wealth = 0.9885140397967621\n",
      "[-0.11316903 -0.0526394  -0.07774154  0.03496555 -0.17100706  0.08382175\n",
      "  0.29576973]\n",
      "======================================================\n",
      "2023-08-22\n",
      "wealth = 0.9867228674968319\n",
      "[ 0.13016968  0.01004265  0.03275163 -0.13730979  0.17352804  0.00517225\n",
      " -0.21435447]\n",
      "======================================================\n",
      "2023-08-23\n",
      "wealth = 0.9868815067655654\n",
      "[-0.0418289  -0.03426551 -0.10237334  0.10259298 -0.01420114  0.00961135\n",
      "  0.08046456]\n",
      "======================================================\n",
      "2023-08-24\n",
      "wealth = 0.9845808636861982\n",
      "[ 0.00040789  0.01968192  0.10803861  0.07715192 -0.15817994 -0.14077674\n",
      "  0.09367635]\n",
      "======================================================\n",
      "2023-08-25\n",
      "wealth = 0.9830865505054776\n",
      "[ 0.0638156   0.05401733  0.02816978 -0.14715988  0.10199927  0.00806486\n",
      " -0.10890696]\n",
      "======================================================\n",
      "2023-08-26\n",
      "======================================================\n",
      "2023-08-27\n",
      "======================================================\n",
      "2023-08-28\n",
      "wealth = 0.9853310585674132\n",
      "[-0.14000846  0.0487371  -0.00308939 -0.03161864  0.0380292   0.18641909\n",
      " -0.09846889]\n",
      "======================================================\n",
      "2023-08-29\n",
      "wealth = 0.9872301707569083\n",
      "[ 0.21382448 -0.08281548 -0.14325063  0.10082739 -0.12760108 -0.05615603\n",
      "  0.09517135]\n",
      "======================================================\n",
      "2023-08-30\n",
      "wealth = 0.9819963482355389\n",
      "[-0.05035692 -0.12503439  0.0838821  -0.05292417  0.06241167  0.09371767\n",
      " -0.01169597]\n",
      "======================================================\n",
      "2023-08-31\n",
      "wealth = 0.9810659643064965\n",
      "[-0.0459263   0.10902939  0.05844853  0.02326104  0.06929821 -0.12407131\n",
      " -0.09003955]\n",
      "======================================================\n",
      "2023-09-01\n",
      "wealth = 0.9801533731205597\n",
      "[ 0.00054666 -0.09223289  0.042504    0.19291091 -0.15545051  0.0330913\n",
      " -0.02136947]\n",
      "======================================================\n",
      "2023-09-02\n",
      "======================================================\n",
      "2023-09-03\n",
      "======================================================\n",
      "2023-09-04\n",
      "wealth = 0.9771728975144525\n",
      "[-0.09430176  0.15964107 -0.14532887 -0.30708116  0.17445128  0.02122786\n",
      "  0.19139159]\n",
      "======================================================\n",
      "2023-09-05\n",
      "wealth = 0.9783736845885017\n",
      "[ 0.12092956 -0.10209954  0.11368765  0.17177958 -0.13037408 -0.14035682\n",
      " -0.03356635]\n",
      "======================================================\n",
      "2023-09-06\n",
      "wealth = 0.9733997913338842\n",
      "[ 0.06647311 -0.05793496  0.07986944 -0.02807829 -0.04832113  0.15895004\n",
      " -0.17095821]\n",
      "======================================================\n",
      "2023-09-07\n",
      "wealth = 0.9675108829280086\n",
      "[-0.25789849 -0.06746235 -0.27019514  0.19180953  0.08510803  0.0566\n",
      "  0.26203843]\n",
      "======================================================\n",
      "2023-09-08\n",
      "wealth = 0.9667076178935774\n",
      "[ 0.15221403  0.25294534  0.00278701 -0.14682381  0.06302567 -0.18525437\n",
      " -0.13889387]\n",
      "======================================================\n",
      "2023-09-09\n",
      "======================================================\n",
      "2023-09-10\n",
      "======================================================\n",
      "2023-09-11\n",
      "wealth = 0.9662764200690083\n",
      "[ 0.12624232  0.02730809  0.03634331 -0.15381889 -0.05225256  0.0997011\n",
      " -0.08352338]\n",
      "======================================================\n",
      "2023-09-12\n",
      "wealth = 0.971539374409752\n",
      "[-0.14370185 -0.05527194  0.21912553  0.03254895 -0.06529593  0.04678115\n",
      " -0.0341859 ]\n",
      "======================================================\n",
      "2023-09-13\n",
      "wealth = 0.9678103507630146\n",
      "[ 0.06461178 -0.11331011 -0.1982553   0.00048561  0.0706352   0.02308694\n",
      "  0.15274587]\n",
      "======================================================\n",
      "2023-09-14\n",
      "wealth = 0.9631024674524246\n",
      "[-0.20459055  0.00478517  0.02633132  0.2120853  -0.0458569   0.12409803\n",
      " -0.11685236]\n",
      "======================================================\n",
      "2023-09-15\n",
      "wealth = 0.9706172886879771\n",
      "[ 0.26466654  0.06669901  0.00188539 -0.20602358 -0.02865936 -0.29701682\n",
      "  0.19844883]\n",
      "======================================================\n",
      "2023-09-16\n",
      "======================================================\n",
      "2023-09-17\n",
      "======================================================\n",
      "2023-09-18\n",
      "wealth = 0.9691109265200674\n",
      "[-0.19034399 -0.14504854  0.13899417  0.03971024  0.19657034 -0.02983876\n",
      " -0.01004346]\n",
      "======================================================\n",
      "2023-09-19\n",
      "wealth = 0.9659225848650649\n",
      "[ 0.12493842  0.03453918  0.00636268 -0.01799049 -0.16378274  0.18663352\n",
      " -0.17070056]\n",
      "======================================================\n",
      "2023-09-20\n",
      "wealth = 0.9689527624919602\n",
      "[-0.03112161 -0.07565127 -0.26071343  0.04417814  0.19250512  0.01954158\n",
      "  0.11126147]\n",
      "CPU times: user 442 ms, sys: 89.8 ms, total: 532 ms\n",
      "Wall time: 590 ms\n"
     ]
    }
   ],
   "source": [
    "%%time\n",
    "start_date, end_date = (\n",
    "    pd.Timestamp(\"2023-08-01\"),\n",
    "    bond_data.price.index.get_level_values(0).max(),\n",
    ")\n",
    "day_ = pd.Timedelta(days=1)\n",
    "\n",
    "dates = pd.date_range(start_date, end_date).date\n",
    "for date in dates:\n",
    "    print(\"======================================================\")\n",
    "    print(date)\n",
    "    a = (np.random.uniform(-1, 1, port.universe_size) + 1) / 2\n",
    "\n",
    "    price_today = bond_data.price.loc[\n",
    "        pd.IndexSlice[slice(date, date), port.bond_universe], :\n",
    "    ]\n",
    "    if price_today.empty:\n",
    "        continue\n",
    "    price_today = price_today.loc[(slice(None), port.bond_universe),].mid\n",
    "    new_weights = a / a.sum(axis=0, keepdims=1)\n",
    "\n",
    "    wealth = port.wealth(price_today.values)\n",
    "    print(f\"{wealth = }\")\n",
    "    qty = wealth * new_weights / price_today\n",
    "    print(new_weights - port.weights)\n",
    "    cash = wealth - qty @ price_today\n",
    "    port.update_portfolio(new_weights, qty, cash, date)"
   ]
  },
  {
   "cell_type": "markdown",
   "metadata": {},
   "source": [
    "### Random Weights Strategy Results"
   ]
  },
  {
   "cell_type": "code",
   "execution_count": 18,
   "metadata": {},
   "outputs": [
    {
     "data": {
      "text/plain": [
       "0.9689527624919602"
      ]
     },
     "execution_count": 18,
     "metadata": {},
     "output_type": "execute_result"
    }
   ],
   "source": [
    "wealth"
   ]
  },
  {
   "cell_type": "markdown",
   "metadata": {},
   "source": [
    "## Sharpe Ratio Strategy\n",
    "\n",
    "basic statistic to optimize in a portfolio.\n",
    "it compares the return of an investment with its risk, so it seeks to pick find an offset between high yield and low risk"
   ]
  },
  {
   "cell_type": "code",
   "execution_count": 19,
   "metadata": {
    "ExecuteTime": {
     "start_time": "2023-11-10T21:53:08.851078Z"
    }
   },
   "outputs": [],
   "source": [
    "# df with \"dur_mod\", \"yield\", \"shape\" field for each day and each bond\n",
    "sharpe_data = (\n",
    "    bond_data.duration.groupby([\"date\", \"isin\"])\n",
    "    .dur_mod.mean()\n",
    "    .to_frame()\n",
    "    .loc[(slice(None), BOND_UNIVERSE), [\"dur_mod\"]]\n",
    "    .fillna(float(\"inf\"))\n",
    "    .join(\n",
    "        bond_data.yield_.set_index([\"date\", \"isin\"]).loc[\n",
    "            (slice(None), BOND_UNIVERSE), [\"yield\"]\n",
    "        ],\n",
    "    )\n",
    ")\n",
    "\n",
    "sharpe_data[\"sharpe\"] = sharpe_data[\"yield\"] / sharpe_data[\"dur_mod\"]\n",
    "sharpe_data = sharpe_data.sort_index()"
   ]
  },
  {
   "cell_type": "code",
   "execution_count": 20,
   "metadata": {},
   "outputs": [
    {
     "data": {
      "text/html": [
       "<div>\n",
       "<style scoped>\n",
       "    .dataframe tbody tr th:only-of-type {\n",
       "        vertical-align: middle;\n",
       "    }\n",
       "\n",
       "    .dataframe tbody tr th {\n",
       "        vertical-align: top;\n",
       "    }\n",
       "\n",
       "    .dataframe thead th {\n",
       "        text-align: right;\n",
       "    }\n",
       "</style>\n",
       "<table border=\"1\" class=\"dataframe\">\n",
       "  <thead>\n",
       "    <tr style=\"text-align: right;\">\n",
       "      <th></th>\n",
       "      <th>dur_mod</th>\n",
       "      <th>yield</th>\n",
       "      <th>sharpe</th>\n",
       "      <th>sharpe_squared</th>\n",
       "      <th>weight</th>\n",
       "    </tr>\n",
       "    <tr>\n",
       "      <th>isin</th>\n",
       "      <th></th>\n",
       "      <th></th>\n",
       "      <th></th>\n",
       "      <th></th>\n",
       "      <th></th>\n",
       "    </tr>\n",
       "  </thead>\n",
       "  <tbody>\n",
       "    <tr>\n",
       "      <th>RU000A0JUMH3</th>\n",
       "      <td>0.588109</td>\n",
       "      <td>0.115846</td>\n",
       "      <td>0.196981</td>\n",
       "      <td>0.038802</td>\n",
       "      <td>0.651056</td>\n",
       "    </tr>\n",
       "    <tr>\n",
       "      <th>RU000A0JVA10</th>\n",
       "      <td>1.177732</td>\n",
       "      <td>0.132693</td>\n",
       "      <td>0.112669</td>\n",
       "      <td>0.012694</td>\n",
       "      <td>0.212997</td>\n",
       "    </tr>\n",
       "    <tr>\n",
       "      <th>RU000A0JW0S4</th>\n",
       "      <td>1.855754</td>\n",
       "      <td>0.127511</td>\n",
       "      <td>0.068711</td>\n",
       "      <td>0.004721</td>\n",
       "      <td>0.079218</td>\n",
       "    </tr>\n",
       "    <tr>\n",
       "      <th>RU000A0JWDN6</th>\n",
       "      <td>2.274082</td>\n",
       "      <td>0.118546</td>\n",
       "      <td>0.052129</td>\n",
       "      <td>0.002717</td>\n",
       "      <td>0.045596</td>\n",
       "    </tr>\n",
       "    <tr>\n",
       "      <th>RU000A0GN9A7</th>\n",
       "      <td>6.657464</td>\n",
       "      <td>0.115169</td>\n",
       "      <td>0.017299</td>\n",
       "      <td>0.000299</td>\n",
       "      <td>0.005021</td>\n",
       "    </tr>\n",
       "    <tr>\n",
       "      <th>RU000A0JV4N8</th>\n",
       "      <td>5.636553</td>\n",
       "      <td>0.081891</td>\n",
       "      <td>0.014529</td>\n",
       "      <td>0.000211</td>\n",
       "      <td>0.003542</td>\n",
       "    </tr>\n",
       "    <tr>\n",
       "      <th>RU000A0JV4Q1</th>\n",
       "      <td>6.702876</td>\n",
       "      <td>0.082937</td>\n",
       "      <td>0.012373</td>\n",
       "      <td>0.000153</td>\n",
       "      <td>0.002569</td>\n",
       "    </tr>\n",
       "  </tbody>\n",
       "</table>\n",
       "</div>"
      ],
      "text/plain": [
       "               dur_mod     yield    sharpe  sharpe_squared    weight\n",
       "isin                                                                \n",
       "RU000A0JUMH3  0.588109  0.115846  0.196981        0.038802  0.651056\n",
       "RU000A0JVA10  1.177732  0.132693  0.112669        0.012694  0.212997\n",
       "RU000A0JW0S4  1.855754  0.127511  0.068711        0.004721  0.079218\n",
       "RU000A0JWDN6  2.274082  0.118546  0.052129        0.002717  0.045596\n",
       "RU000A0GN9A7  6.657464  0.115169  0.017299        0.000299  0.005021\n",
       "RU000A0JV4N8  5.636553  0.081891  0.014529        0.000211  0.003542\n",
       "RU000A0JV4Q1  6.702876  0.082937  0.012373        0.000153  0.002569"
      ]
     },
     "execution_count": 20,
     "metadata": {},
     "output_type": "execute_result"
    }
   ],
   "source": [
    "sharpe_data_sorted = sharpe_data.loc[date].sort_values(\n",
    "    \"sharpe\", ascending=False\n",
    ")\n",
    "sharpe_data_sorted[\"sharpe_squared\"] = sharpe_data_sorted[\"sharpe\"] ** 2\n",
    "sharpe_data_sorted[\"weight\"] = (\n",
    "    sharpe_data_sorted[\"sharpe_squared\"]\n",
    "    / sharpe_data_sorted[\"sharpe_squared\"].sum()\n",
    ")\n",
    "sharpe_data_sorted\n",
    "# select max sharp\n",
    "# weights = (\n",
    "#     sharpe_data_sorted.loc[(slice(None), universe), :]"
   ]
  },
  {
   "cell_type": "code",
   "execution_count": 21,
   "metadata": {},
   "outputs": [
    {
     "data": {
      "text/html": [
       "<div>\n",
       "<style scoped>\n",
       "    .dataframe tbody tr th:only-of-type {\n",
       "        vertical-align: middle;\n",
       "    }\n",
       "\n",
       "    .dataframe tbody tr th {\n",
       "        vertical-align: top;\n",
       "    }\n",
       "\n",
       "    .dataframe thead th {\n",
       "        text-align: right;\n",
       "    }\n",
       "</style>\n",
       "<table border=\"1\" class=\"dataframe\">\n",
       "  <thead>\n",
       "    <tr style=\"text-align: right;\">\n",
       "      <th></th>\n",
       "      <th></th>\n",
       "      <th>dur_mod</th>\n",
       "      <th>yield</th>\n",
       "      <th>sharpe</th>\n",
       "    </tr>\n",
       "    <tr>\n",
       "      <th>date</th>\n",
       "      <th>isin</th>\n",
       "      <th></th>\n",
       "      <th></th>\n",
       "      <th></th>\n",
       "    </tr>\n",
       "  </thead>\n",
       "  <tbody>\n",
       "    <tr>\n",
       "      <th rowspan=\"7\" valign=\"top\">2023-09-20</th>\n",
       "      <th>RU000A0JUMH3</th>\n",
       "      <td>0.588109</td>\n",
       "      <td>0.115846</td>\n",
       "      <td>0.196981</td>\n",
       "    </tr>\n",
       "    <tr>\n",
       "      <th>RU000A0JVA10</th>\n",
       "      <td>1.177732</td>\n",
       "      <td>0.132693</td>\n",
       "      <td>0.112669</td>\n",
       "    </tr>\n",
       "    <tr>\n",
       "      <th>RU000A0JW0S4</th>\n",
       "      <td>1.855754</td>\n",
       "      <td>0.127511</td>\n",
       "      <td>0.068711</td>\n",
       "    </tr>\n",
       "    <tr>\n",
       "      <th>RU000A0JWDN6</th>\n",
       "      <td>2.274082</td>\n",
       "      <td>0.118546</td>\n",
       "      <td>0.052129</td>\n",
       "    </tr>\n",
       "    <tr>\n",
       "      <th>RU000A0GN9A7</th>\n",
       "      <td>6.657464</td>\n",
       "      <td>0.115169</td>\n",
       "      <td>0.017299</td>\n",
       "    </tr>\n",
       "    <tr>\n",
       "      <th>RU000A0JV4N8</th>\n",
       "      <td>5.636553</td>\n",
       "      <td>0.081891</td>\n",
       "      <td>0.014529</td>\n",
       "    </tr>\n",
       "    <tr>\n",
       "      <th>RU000A0JV4Q1</th>\n",
       "      <td>6.702876</td>\n",
       "      <td>0.082937</td>\n",
       "      <td>0.012373</td>\n",
       "    </tr>\n",
       "  </tbody>\n",
       "</table>\n",
       "</div>"
      ],
      "text/plain": [
       "                          dur_mod     yield    sharpe\n",
       "date       isin                                      \n",
       "2023-09-20 RU000A0JUMH3  0.588109  0.115846  0.196981\n",
       "           RU000A0JVA10  1.177732  0.132693  0.112669\n",
       "           RU000A0JW0S4  1.855754  0.127511  0.068711\n",
       "           RU000A0JWDN6  2.274082  0.118546  0.052129\n",
       "           RU000A0GN9A7  6.657464  0.115169  0.017299\n",
       "           RU000A0JV4N8  5.636553  0.081891  0.014529\n",
       "           RU000A0JV4Q1  6.702876  0.082937  0.012373"
      ]
     },
     "execution_count": 21,
     "metadata": {},
     "output_type": "execute_result"
    }
   ],
   "source": [
    "sharpe_data.loc[(date, slice(None)), :].sort_values(\n",
    "        \"sharpe\", ascending=False\n",
    "    )"
   ]
  },
  {
   "cell_type": "code",
   "execution_count": 22,
   "metadata": {
    "ExecuteTime": {
     "start_time": "2023-11-10T21:53:08.852249Z"
    }
   },
   "outputs": [],
   "source": [
    "port = BondPortfolio(\n",
    "    cash=1,\n",
    "    bond_universe=BOND_UNIVERSE,\n",
    ")"
   ]
  },
  {
   "cell_type": "code",
   "execution_count": 23,
   "metadata": {
    "ExecuteTime": {
     "start_time": "2023-11-10T21:53:08.853411Z"
    }
   },
   "outputs": [],
   "source": [
    "def get_weights(date: datetime.date, universe: tuple[str]):\n",
    "    \"\"\"Get target weights based on sharpe ratio.\"\"\"\n",
    "    sharpe_data_sorted = sharpe_data.loc[(date, slice(None)), :].sort_values(\n",
    "        \"sharpe\", ascending=False\n",
    "    )\n",
    "    sharpe_data_sorted[\"sharpe_squared\"] = sharpe_data_sorted[\"sharpe\"] ** 2\n",
    "    sharpe_data_sorted[\"weight\"] = (\n",
    "        sharpe_data_sorted[\"sharpe_squared\"]\n",
    "        / sharpe_data_sorted[\"sharpe_squared\"].sum()\n",
    "    )\n",
    "\n",
    "    # select max sharp\n",
    "    weights = (\n",
    "        sharpe_data_sorted.loc[(slice(None), universe), :]\n",
    "        .reset_index()[\"weight\"]\n",
    "        .fillna(0)\n",
    "        .values\n",
    "    )\n",
    "    assert len(weights) == len(universe), f\"{len(weights)},  {len(universe)}\"\n",
    "    return weights"
   ]
  },
  {
   "cell_type": "code",
   "execution_count": 18,
   "metadata": {
    "ExecuteTime": {
     "start_time": "2023-11-10T21:53:08.854713Z"
    }
   },
   "outputs": [
    {
     "name": "stdout",
     "output_type": "stream",
     "text": [
      "======================================================\n",
      "2023-08-01\n",
      "wealth = 1.0\n",
      "cash = -2.220446049250313e-16\n",
      "======================================================\n",
      "2023-08-02\n",
      "wealth = 0.999877605997308\n",
      "cash = 0.0\n",
      "======================================================\n",
      "2023-08-03\n",
      "wealth = 0.997852737113143\n",
      "cash = 2.220446049250313e-16\n",
      "======================================================\n",
      "2023-08-04\n",
      "wealth = 0.9979638505969904\n",
      "cash = 1.1102230246251565e-16\n",
      "======================================================\n",
      "2023-08-05\n",
      "======================================================\n",
      "2023-08-06\n",
      "======================================================\n",
      "2023-08-07\n",
      "wealth = 0.9964516162626471\n",
      "cash = 1.1102230246251565e-16\n",
      "======================================================\n",
      "2023-08-08\n",
      "wealth = 0.9968897272080548\n",
      "cash = 4.440892098500626e-16\n",
      "======================================================\n",
      "2023-08-09\n",
      "wealth = 0.9952035884008431\n",
      "cash = -1.1102230246251565e-16\n",
      "======================================================\n",
      "2023-08-10\n",
      "wealth = 0.9989990726492806\n",
      "cash = 0.0\n",
      "======================================================\n",
      "2023-08-11\n",
      "wealth = 0.9959058195303009\n",
      "cash = 1.1102230246251565e-16\n",
      "======================================================\n",
      "2023-08-12\n",
      "======================================================\n",
      "2023-08-13\n",
      "======================================================\n",
      "2023-08-14\n",
      "wealth = 0.9964227757856775\n",
      "cash = 0.0\n",
      "======================================================\n",
      "2023-08-15\n",
      "wealth = 0.9859243737486095\n",
      "cash = 0.0\n",
      "======================================================\n",
      "2023-08-16\n",
      "wealth = 0.9928902742058036\n",
      "cash = 0.0\n",
      "======================================================\n",
      "2023-08-17\n",
      "wealth = 0.9896478701483994\n",
      "cash = -1.1102230246251565e-16\n",
      "======================================================\n",
      "2023-08-18\n",
      "wealth = 0.9898619585040244\n",
      "cash = -1.1102230246251565e-16\n",
      "======================================================\n",
      "2023-08-19\n",
      "======================================================\n",
      "2023-08-20\n",
      "======================================================\n",
      "2023-08-21\n",
      "wealth = 0.9945369243255121\n",
      "cash = 1.1102230246251565e-16\n",
      "======================================================\n",
      "2023-08-22\n",
      "wealth = 0.9910579405314938\n",
      "cash = 0.0\n",
      "======================================================\n",
      "2023-08-23\n",
      "wealth = 0.9922878023330377\n",
      "cash = -1.1102230246251565e-16\n",
      "======================================================\n",
      "2023-08-24\n",
      "wealth = 0.9868185922315083\n",
      "cash = 0.0\n",
      "======================================================\n",
      "2023-08-25\n",
      "wealth = 0.9898396791488518\n",
      "cash = 1.1102230246251565e-16\n",
      "======================================================\n",
      "2023-08-26\n",
      "======================================================\n",
      "2023-08-27\n",
      "======================================================\n",
      "2023-08-28\n",
      "wealth = 0.9918397925253067\n",
      "cash = -1.1102230246251565e-16\n",
      "======================================================\n",
      "2023-08-29\n",
      "wealth = 0.986491808057275\n",
      "cash = 2.220446049250313e-16\n",
      "======================================================\n",
      "2023-08-30\n",
      "wealth = 0.9840209208896923\n",
      "cash = 0.0\n",
      "======================================================\n",
      "2023-08-31\n",
      "wealth = 0.9849904156857748\n",
      "cash = 0.0\n",
      "======================================================\n",
      "2023-09-01\n",
      "wealth = 0.9854562888475521\n",
      "cash = 0.0\n",
      "======================================================\n",
      "2023-09-02\n",
      "======================================================\n",
      "2023-09-03\n",
      "======================================================\n",
      "2023-09-04\n",
      "wealth = 0.9850480420865924\n",
      "cash = 0.0\n",
      "======================================================\n",
      "2023-09-05\n",
      "wealth = 0.9853309183743403\n",
      "cash = -1.1102230246251565e-16\n",
      "======================================================\n",
      "2023-09-06\n",
      "wealth = 0.9828176371802979\n",
      "cash = 1.1102230246251565e-16\n",
      "======================================================\n",
      "2023-09-07\n",
      "wealth = 0.9812589617292276\n",
      "cash = 0.0\n",
      "======================================================\n",
      "2023-09-08\n",
      "wealth = 0.9796714969284753\n",
      "cash = 1.1102230246251565e-16\n",
      "======================================================\n",
      "2023-09-09\n",
      "======================================================\n",
      "2023-09-10\n",
      "======================================================\n",
      "2023-09-11\n",
      "wealth = 0.9778447617686151\n",
      "cash = -1.1102230246251565e-16\n",
      "======================================================\n",
      "2023-09-12\n",
      "wealth = 0.980275399052503\n",
      "cash = 0.0\n",
      "======================================================\n",
      "2023-09-13\n",
      "wealth = 0.9791274798460611\n",
      "cash = -3.3306690738754696e-16\n",
      "======================================================\n",
      "2023-09-14\n",
      "wealth = 0.9765493243647336\n",
      "cash = 0.0\n",
      "======================================================\n",
      "2023-09-15\n",
      "wealth = 0.9785840825832371\n",
      "cash = 0.0\n",
      "======================================================\n",
      "2023-09-16\n",
      "======================================================\n",
      "2023-09-17\n",
      "======================================================\n",
      "2023-09-18\n",
      "wealth = 0.9793631419093954\n",
      "cash = -1.1102230246251565e-16\n",
      "======================================================\n",
      "2023-09-19\n",
      "wealth = 0.9790630297195505\n",
      "cash = -1.1102230246251565e-16\n",
      "======================================================\n",
      "2023-09-20\n",
      "wealth = 0.980494031477722\n",
      "cash = 0.0\n"
     ]
    }
   ],
   "source": [
    "%%time\n",
    "\n",
    "start_date, end_date = (\n",
    "    pd.Timestamp(\"2023-08-01\"),\n",
    "    bond_data.price.index.get_level_values(0).max(),\n",
    ")\n",
    "dates = pd.date_range(start_date, end_date).date\n",
    "for date in dates:\n",
    "    print(\"======================================================\")\n",
    "    print(date)\n",
    "\n",
    "    price_today = bond_data.price.loc[slice(date, date), port.bond_universe, :]\n",
    "    if price_today.empty:\n",
    "        continue\n",
    "    price_today = price_today.loc[(slice(None), port.bond_universe),].mid\n",
    "\n",
    "    new_weights = get_weights(date, BOND_UNIVERSE)  # optimal sharp weights\n",
    "\n",
    "    wealth = port.wealth(price_today.values)\n",
    "    print(f\"{wealth = }\")\n",
    "    qty = wealth * new_weights / price_today.values\n",
    "    cash = wealth - qty @ price_today.values\n",
    "    print(f\"{cash = }\")\n",
    "    port.update_portfolio(new_weights, qty, cash, date)"
   ]
  },
  {
   "cell_type": "markdown",
   "metadata": {},
   "source": [
    "### Sharpe Ratio Strategy Results"
   ]
  },
  {
   "cell_type": "code",
   "execution_count": 24,
   "metadata": {
    "ExecuteTime": {
     "start_time": "2023-11-10T21:53:08.856550Z"
    }
   },
   "outputs": [
    {
     "data": {
      "text/plain": [
       "0.9689527624919602"
      ]
     },
     "execution_count": 24,
     "metadata": {},
     "output_type": "execute_result"
    }
   ],
   "source": [
    "wealth"
   ]
  },
  {
   "cell_type": "markdown",
   "metadata": {},
   "source": [
    "## Quadratic optimization"
   ]
  },
  {
   "cell_type": "code",
   "execution_count": 33,
   "metadata": {
    "ExecuteTime": {
     "start_time": "2023-11-10T21:53:08.858707Z"
    }
   },
   "outputs": [
    {
     "ename": "ModuleNotFoundError",
     "evalue": "No module named 'baseline'",
     "output_type": "error",
     "traceback": [
      "\u001b[0;31m---------------------------------------------------------------------------\u001b[0m",
      "\u001b[0;31mModuleNotFoundError\u001b[0m                       Traceback (most recent call last)",
      "\u001b[0;32m<timed exec>\u001b[0m in \u001b[0;36m<module>\u001b[0;34m\u001b[0m\n",
      "\u001b[0;31mModuleNotFoundError\u001b[0m: No module named 'baseline'"
     ]
    }
   ],
   "source": [
    "%%time\n",
    "\n",
    "from baseline.quadratic import get_optimal_weights\n",
    "\n",
    "start_date, end_date = (\n",
    "    pd.Timestamp(\"2023-08-01\"),\n",
    "    bond_data.price.index.get_level_values(0).max(),\n",
    ")\n",
    "dates = pd.date_range(start_date, end_date).date\n",
    "for date in dates:\n",
    "    print(\"======================================================\")\n",
    "    print(date)\n",
    "\n",
    "    price_today = bond_data.price.loc[slice(date, date), port.bond_universe, :]\n",
    "    if price_today.empty:\n",
    "        continue\n",
    "    price_today = price_today.loc[(slice(None), port.bond_universe),].mid\n",
    "\n",
    "    #\n",
    "    # prepare data\n",
    "    #\n",
    "    today_info = (\n",
    "        price_today.to_frame()\n",
    "        .join(\n",
    "            bond_data.duration.loc[\n",
    "                pd.IndexSlice[slice(date, date), port.bond_universe], \"dur_mod\"\n",
    "            ]\n",
    "            .groupby([\"date\", \"isin\"])\n",
    "            .mean()\n",
    "            .fillna(float(\"inf\"))\n",
    "        )\n",
    "        .join(\n",
    "            bond_data.yield_.set_index([\"date\", \"isin\"]).loc[\n",
    "                (slice(date, date), port.bond_universe), :\n",
    "            ]\n",
    "        )\n",
    "    )\n",
    "    rating_reduced = bond_data.rating[\n",
    "        bond_data.rating[\"isin\"].isin(port.bond_universe)\n",
    "        & (bond_data.rating.update_date < date)\n",
    "    ].sort_values(\"update_date\")\n",
    "\n",
    "    rating_reduced = rating_reduced.groupby(\"isin\").num_rating.last()\n",
    "\n",
    "    today_info = today_info.join(rating_reduced)\n",
    "    today_info[\"num_rating\"] = today_info[\"num_rating\"].fillna(0)\n",
    "    #\n",
    "    # make predictions\n",
    "    #\n",
    "    new_weights = get_optimal_weights(\n",
    "        bond_data=today_info,\n",
    "        upper_bound=0.5,\n",
    "        value_date=date,\n",
    "        maturity_limit=10,\n",
    "    )  # optimal sharp weights\n",
    "\n",
    "    wealth = port.wealth(price_today.values)\n",
    "    print(f\"{wealth = }\")\n",
    "    qty = wealth * new_weights / price_today.values\n",
    "    cash = wealth - qty @ price_today.values\n",
    "    print(f\"{cash = }\")\n",
    "    port.update_portfolio(new_weights, qty, cash, date)"
   ]
  },
  {
   "cell_type": "code",
   "execution_count": 21,
   "metadata": {
    "ExecuteTime": {
     "start_time": "2023-11-10T21:53:08.860296Z"
    }
   },
   "outputs": [
    {
     "data": {
      "text/plain": [
       "0.9589643043212827"
      ]
     },
     "execution_count": 21,
     "metadata": {},
     "output_type": "execute_result"
    }
   ],
   "source": [
    "wealth"
   ]
  },
  {
   "cell_type": "code",
   "execution_count": 30,
   "metadata": {},
   "outputs": [],
   "source": [
    "from scipy.optimize import linprog"
   ]
  },
  {
   "cell_type": "markdown",
   "metadata": {},
   "source": [
    "# Basic analytics"
   ]
  },
  {
   "cell_type": "code",
   "execution_count": 31,
   "metadata": {},
   "outputs": [
    {
     "name": "stdout",
     "output_type": "stream",
     "text": [
      "======================================================\n",
      "2023-08-01\n"
     ]
    },
    {
     "name": "stderr",
     "output_type": "stream",
     "text": [
      "<timed exec>:50: DeprecationWarning: `method='revised simplex'` is deprecated and will be removed in SciPy 1.11.0. Please use one of the HiGHS solvers (e.g. `method='highs'`) in new code.\n"
     ]
    },
    {
     "name": "stdout",
     "output_type": "stream",
     "text": [
      "wealth = 1.016397801623113\n",
      "cash = 0.0\n",
      "======================================================\n",
      "2023-08-02\n"
     ]
    },
    {
     "name": "stderr",
     "output_type": "stream",
     "text": [
      "<timed exec>:50: DeprecationWarning: `method='revised simplex'` is deprecated and will be removed in SciPy 1.11.0. Please use one of the HiGHS solvers (e.g. `method='highs'`) in new code.\n"
     ]
    },
    {
     "name": "stdout",
     "output_type": "stream",
     "text": [
      "wealth = 1.0141639603008645\n",
      "cash = 0.0\n",
      "======================================================\n",
      "2023-08-03\n"
     ]
    },
    {
     "name": "stderr",
     "output_type": "stream",
     "text": [
      "<timed exec>:50: DeprecationWarning: `method='revised simplex'` is deprecated and will be removed in SciPy 1.11.0. Please use one of the HiGHS solvers (e.g. `method='highs'`) in new code.\n"
     ]
    },
    {
     "name": "stdout",
     "output_type": "stream",
     "text": [
      "wealth = 1.0141639603008645\n",
      "cash = 0.0\n",
      "======================================================\n",
      "2023-08-04\n"
     ]
    },
    {
     "name": "stderr",
     "output_type": "stream",
     "text": [
      "<timed exec>:50: DeprecationWarning: `method='revised simplex'` is deprecated and will be removed in SciPy 1.11.0. Please use one of the HiGHS solvers (e.g. `method='highs'`) in new code.\n"
     ]
    },
    {
     "name": "stdout",
     "output_type": "stream",
     "text": [
      "wealth = 1.0143670367847053\n",
      "cash = 0.0\n",
      "======================================================\n",
      "2023-08-05\n",
      "======================================================\n",
      "2023-08-06\n",
      "======================================================\n",
      "2023-08-07\n"
     ]
    },
    {
     "name": "stderr",
     "output_type": "stream",
     "text": [
      "<timed exec>:50: DeprecationWarning: `method='revised simplex'` is deprecated and will be removed in SciPy 1.11.0. Please use one of the HiGHS solvers (e.g. `method='highs'`) in new code.\n"
     ]
    },
    {
     "name": "stdout",
     "output_type": "stream",
     "text": [
      "wealth = 1.0153824192039091\n",
      "cash = 0.0\n",
      "======================================================\n",
      "2023-08-08\n"
     ]
    },
    {
     "name": "stderr",
     "output_type": "stream",
     "text": [
      "<timed exec>:50: DeprecationWarning: `method='revised simplex'` is deprecated and will be removed in SciPy 1.11.0. Please use one of the HiGHS solvers (e.g. `method='highs'`) in new code.\n"
     ]
    },
    {
     "name": "stdout",
     "output_type": "stream",
     "text": [
      "wealth = 1.0153824192039091\n",
      "cash = 0.0\n",
      "======================================================\n",
      "2023-08-09\n"
     ]
    },
    {
     "name": "stderr",
     "output_type": "stream",
     "text": [
      "<timed exec>:50: DeprecationWarning: `method='revised simplex'` is deprecated and will be removed in SciPy 1.11.0. Please use one of the HiGHS solvers (e.g. `method='highs'`) in new code.\n"
     ]
    },
    {
     "name": "stdout",
     "output_type": "stream",
     "text": [
      "wealth = 1.0147731897523868\n",
      "cash = 0.0\n",
      "======================================================\n",
      "2023-08-10\n"
     ]
    },
    {
     "name": "stderr",
     "output_type": "stream",
     "text": [
      "<timed exec>:50: DeprecationWarning: `method='revised simplex'` is deprecated and will be removed in SciPy 1.11.0. Please use one of the HiGHS solvers (e.g. `method='highs'`) in new code.\n"
     ]
    },
    {
     "name": "stdout",
     "output_type": "stream",
     "text": [
      "wealth = 1.0147731897523868\n",
      "cash = 0.0\n",
      "======================================================\n",
      "2023-08-11\n"
     ]
    },
    {
     "name": "stderr",
     "output_type": "stream",
     "text": [
      "<timed exec>:50: DeprecationWarning: `method='revised simplex'` is deprecated and will be removed in SciPy 1.11.0. Please use one of the HiGHS solvers (e.g. `method='highs'`) in new code.\n"
     ]
    },
    {
     "name": "stdout",
     "output_type": "stream",
     "text": [
      "wealth = 1.0153824192039091\n",
      "cash = 0.0\n",
      "======================================================\n",
      "2023-08-12\n",
      "======================================================\n",
      "2023-08-13\n",
      "======================================================\n",
      "2023-08-14\n"
     ]
    },
    {
     "name": "stderr",
     "output_type": "stream",
     "text": [
      "<timed exec>:50: DeprecationWarning: `method='revised simplex'` is deprecated and will be removed in SciPy 1.11.0. Please use one of the HiGHS solvers (e.g. `method='highs'`) in new code.\n"
     ]
    },
    {
     "name": "stdout",
     "output_type": "stream",
     "text": [
      "wealth = 1.014570113268546\n",
      "cash = 0.0\n",
      "======================================================\n",
      "2023-08-15\n"
     ]
    },
    {
     "name": "stderr",
     "output_type": "stream",
     "text": [
      "<timed exec>:50: DeprecationWarning: `method='revised simplex'` is deprecated and will be removed in SciPy 1.11.0. Please use one of the HiGHS solvers (e.g. `method='highs'`) in new code.\n"
     ]
    },
    {
     "name": "stdout",
     "output_type": "stream",
     "text": [
      "wealth = 1.0136562690912625\n",
      "cash = 0.0\n",
      "======================================================\n",
      "2023-08-16\n"
     ]
    },
    {
     "name": "stderr",
     "output_type": "stream",
     "text": [
      "<timed exec>:50: DeprecationWarning: `method='revised simplex'` is deprecated and will be removed in SciPy 1.11.0. Please use one of the HiGHS solvers (e.g. `method='highs'`) in new code.\n"
     ]
    },
    {
     "name": "stdout",
     "output_type": "stream",
     "text": [
      "wealth = 1.013554730849342\n",
      "cash = 0.0\n",
      "======================================================\n",
      "2023-08-17\n"
     ]
    },
    {
     "name": "stderr",
     "output_type": "stream",
     "text": [
      "<timed exec>:50: DeprecationWarning: `method='revised simplex'` is deprecated and will be removed in SciPy 1.11.0. Please use one of the HiGHS solvers (e.g. `method='highs'`) in new code.\n"
     ]
    },
    {
     "name": "stdout",
     "output_type": "stream",
     "text": [
      "wealth = 1.0137578073331828\n",
      "cash = 0.0\n",
      "======================================================\n",
      "2023-08-18\n"
     ]
    },
    {
     "name": "stderr",
     "output_type": "stream",
     "text": [
      "<timed exec>:50: DeprecationWarning: `method='revised simplex'` is deprecated and will be removed in SciPy 1.11.0. Please use one of the HiGHS solvers (e.g. `method='highs'`) in new code.\n"
     ]
    },
    {
     "name": "stdout",
     "output_type": "stream",
     "text": [
      "wealth = 1.0151793427200684\n",
      "cash = 0.0\n",
      "======================================================\n",
      "2023-08-19\n",
      "======================================================\n",
      "2023-08-20\n",
      "======================================================\n",
      "2023-08-21\n"
     ]
    },
    {
     "name": "stderr",
     "output_type": "stream",
     "text": [
      "<timed exec>:50: DeprecationWarning: `method='revised simplex'` is deprecated and will be removed in SciPy 1.11.0. Please use one of the HiGHS solvers (e.g. `method='highs'`) in new code.\n"
     ]
    },
    {
     "name": "stdout",
     "output_type": "stream",
     "text": [
      "wealth = 1.0131485778816605\n",
      "cash = 0.0\n",
      "======================================================\n",
      "2023-08-22\n"
     ]
    },
    {
     "name": "stderr",
     "output_type": "stream",
     "text": [
      "<timed exec>:50: DeprecationWarning: `method='revised simplex'` is deprecated and will be removed in SciPy 1.11.0. Please use one of the HiGHS solvers (e.g. `method='highs'`) in new code.\n"
     ]
    },
    {
     "name": "stdout",
     "output_type": "stream",
     "text": [
      "wealth = 1.014062422058944\n",
      "cash = 0.0\n",
      "======================================================\n",
      "2023-08-23\n"
     ]
    },
    {
     "name": "stderr",
     "output_type": "stream",
     "text": [
      "<timed exec>:50: DeprecationWarning: `method='revised simplex'` is deprecated and will be removed in SciPy 1.11.0. Please use one of the HiGHS solvers (e.g. `method='highs'`) in new code.\n"
     ]
    },
    {
     "name": "stdout",
     "output_type": "stream",
     "text": [
      "wealth = 1.0141639603008645\n",
      "cash = 0.0\n",
      "======================================================\n",
      "2023-08-24\n"
     ]
    },
    {
     "name": "stderr",
     "output_type": "stream",
     "text": [
      "<timed exec>:50: DeprecationWarning: `method='revised simplex'` is deprecated and will be removed in SciPy 1.11.0. Please use one of the HiGHS solvers (e.g. `method='highs'`) in new code.\n"
     ]
    },
    {
     "name": "stdout",
     "output_type": "stream",
     "text": [
      "wealth = 1.014062422058944\n",
      "cash = 0.0\n",
      "======================================================\n",
      "2023-08-25\n"
     ]
    },
    {
     "name": "stderr",
     "output_type": "stream",
     "text": [
      "<timed exec>:50: DeprecationWarning: `method='revised simplex'` is deprecated and will be removed in SciPy 1.11.0. Please use one of the HiGHS solvers (e.g. `method='highs'`) in new code.\n"
     ]
    },
    {
     "name": "stdout",
     "output_type": "stream",
     "text": [
      "wealth = 1.0141639603008645\n",
      "cash = 0.0\n",
      "======================================================\n",
      "2023-08-26\n",
      "======================================================\n",
      "2023-08-27\n",
      "======================================================\n",
      "2023-08-28\n"
     ]
    },
    {
     "name": "stderr",
     "output_type": "stream",
     "text": [
      "<timed exec>:50: DeprecationWarning: `method='revised simplex'` is deprecated and will be removed in SciPy 1.11.0. Please use one of the HiGHS solvers (e.g. `method='highs'`) in new code.\n"
     ]
    },
    {
     "name": "stdout",
     "output_type": "stream",
     "text": [
      "wealth = 1.0294962348308434\n",
      "cash = 0.0\n",
      "======================================================\n",
      "2023-08-29\n"
     ]
    },
    {
     "name": "stderr",
     "output_type": "stream",
     "text": [
      "<timed exec>:50: DeprecationWarning: `method='revised simplex'` is deprecated and will be removed in SciPy 1.11.0. Please use one of the HiGHS solvers (e.g. `method='highs'`) in new code.\n"
     ]
    },
    {
     "name": "stdout",
     "output_type": "stream",
     "text": [
      "wealth = 1.0233024020736996\n",
      "cash = 0.0\n",
      "======================================================\n",
      "2023-08-30\n"
     ]
    },
    {
     "name": "stderr",
     "output_type": "stream",
     "text": [
      "<timed exec>:50: DeprecationWarning: `method='revised simplex'` is deprecated and will be removed in SciPy 1.11.0. Please use one of the HiGHS solvers (e.g. `method='highs'`) in new code.\n"
     ]
    },
    {
     "name": "stdout",
     "output_type": "stream",
     "text": [
      "wealth = 1.025372553625354\n",
      "cash = 0.0\n",
      "======================================================\n",
      "2023-08-31\n"
     ]
    },
    {
     "name": "stderr",
     "output_type": "stream",
     "text": [
      "<timed exec>:50: DeprecationWarning: `method='revised simplex'` is deprecated and will be removed in SciPy 1.11.0. Please use one of the HiGHS solvers (e.g. `method='highs'`) in new code.\n"
     ]
    },
    {
     "name": "stdout",
     "output_type": "stream",
     "text": [
      "wealth = 1.0267068693174155\n",
      "cash = 0.0\n",
      "======================================================\n",
      "2023-09-01\n"
     ]
    },
    {
     "name": "stderr",
     "output_type": "stream",
     "text": [
      "<timed exec>:50: DeprecationWarning: `method='revised simplex'` is deprecated and will be removed in SciPy 1.11.0. Please use one of the HiGHS solvers (e.g. `method='highs'`) in new code.\n"
     ]
    },
    {
     "name": "stdout",
     "output_type": "stream",
     "text": [
      "wealth = 1.025254819887819\n",
      "cash = 0.0\n",
      "======================================================\n",
      "2023-09-02\n",
      "======================================================\n",
      "2023-09-03\n",
      "======================================================\n",
      "2023-09-04\n"
     ]
    },
    {
     "name": "stderr",
     "output_type": "stream",
     "text": [
      "<timed exec>:50: DeprecationWarning: `method='revised simplex'` is deprecated and will be removed in SciPy 1.11.0. Please use one of the HiGHS solvers (e.g. `method='highs'`) in new code.\n"
     ]
    },
    {
     "name": "stdout",
     "output_type": "stream",
     "text": [
      "wealth = 1.023400513521645\n",
      "cash = 0.0\n",
      "======================================================\n",
      "2023-09-05\n"
     ]
    },
    {
     "name": "stderr",
     "output_type": "stream",
     "text": [
      "<timed exec>:50: DeprecationWarning: `method='revised simplex'` is deprecated and will be removed in SciPy 1.11.0. Please use one of the HiGHS solvers (e.g. `method='highs'`) in new code.\n"
     ]
    },
    {
     "name": "stdout",
     "output_type": "stream",
     "text": [
      "wealth = 1.0241461605260325\n",
      "cash = 0.0\n",
      "======================================================\n",
      "2023-09-06\n"
     ]
    },
    {
     "name": "stderr",
     "output_type": "stream",
     "text": [
      "<timed exec>:50: DeprecationWarning: `method='revised simplex'` is deprecated and will be removed in SciPy 1.11.0. Please use one of the HiGHS solvers (e.g. `method='highs'`) in new code.\n"
     ]
    },
    {
     "name": "stdout",
     "output_type": "stream",
     "text": [
      "wealth = 1.0253529313357648\n",
      "cash = 0.0\n",
      "======================================================\n",
      "2023-09-07\n"
     ]
    },
    {
     "name": "stderr",
     "output_type": "stream",
     "text": [
      "<timed exec>:50: DeprecationWarning: `method='revised simplex'` is deprecated and will be removed in SciPy 1.11.0. Please use one of the HiGHS solvers (e.g. `method='highs'`) in new code.\n"
     ]
    },
    {
     "name": "stdout",
     "output_type": "stream",
     "text": [
      "wealth = 1.0227824113995871\n",
      "cash = 0.0\n",
      "======================================================\n",
      "2023-09-08\n"
     ]
    },
    {
     "name": "stderr",
     "output_type": "stream",
     "text": [
      "<timed exec>:50: DeprecationWarning: `method='revised simplex'` is deprecated and will be removed in SciPy 1.11.0. Please use one of the HiGHS solvers (e.g. `method='highs'`) in new code.\n"
     ]
    },
    {
     "name": "stdout",
     "output_type": "stream",
     "text": [
      "wealth = 1.0232042906257537\n",
      "cash = 0.0\n",
      "======================================================\n",
      "2023-09-09\n",
      "======================================================\n",
      "2023-09-10\n",
      "======================================================\n",
      "2023-09-11\n"
     ]
    },
    {
     "name": "stderr",
     "output_type": "stream",
     "text": [
      "<timed exec>:50: DeprecationWarning: `method='revised simplex'` is deprecated and will be removed in SciPy 1.11.0. Please use one of the HiGHS solvers (e.g. `method='highs'`) in new code.\n"
     ]
    },
    {
     "name": "stdout",
     "output_type": "stream",
     "text": [
      "wealth = 1.0220269532504052\n",
      "cash = 0.0\n",
      "======================================================\n",
      "2023-09-12\n"
     ]
    },
    {
     "name": "stderr",
     "output_type": "stream",
     "text": [
      "<timed exec>:50: DeprecationWarning: `method='revised simplex'` is deprecated and will be removed in SciPy 1.11.0. Please use one of the HiGHS solvers (e.g. `method='highs'`) in new code.\n"
     ]
    },
    {
     "name": "stdout",
     "output_type": "stream",
     "text": [
      "wealth = 1.0240088044989082\n",
      "cash = 0.0\n",
      "======================================================\n",
      "2023-09-13\n"
     ]
    },
    {
     "name": "stderr",
     "output_type": "stream",
     "text": [
      "<timed exec>:50: DeprecationWarning: `method='revised simplex'` is deprecated and will be removed in SciPy 1.11.0. Please use one of the HiGHS solvers (e.g. `method='highs'`) in new code.\n"
     ]
    },
    {
     "name": "stdout",
     "output_type": "stream",
     "text": [
      "wealth = 1.0236850367206873\n",
      "cash = 0.0\n",
      "======================================================\n",
      "2023-09-14\n"
     ]
    },
    {
     "name": "stderr",
     "output_type": "stream",
     "text": [
      "<timed exec>:50: DeprecationWarning: `method='revised simplex'` is deprecated and will be removed in SciPy 1.11.0. Please use one of the HiGHS solvers (e.g. `method='highs'`) in new code.\n"
     ]
    },
    {
     "name": "stdout",
     "output_type": "stream",
     "text": [
      "wealth = 1.0213401731147849\n",
      "cash = 0.0\n",
      "======================================================\n",
      "2023-09-15\n"
     ]
    },
    {
     "name": "stderr",
     "output_type": "stream",
     "text": [
      "<timed exec>:50: DeprecationWarning: `method='revised simplex'` is deprecated and will be removed in SciPy 1.11.0. Please use one of the HiGHS solvers (e.g. `method='highs'`) in new code.\n"
     ]
    },
    {
     "name": "stdout",
     "output_type": "stream",
     "text": [
      "wealth = 1.020359058635328\n",
      "cash = 0.0\n",
      "======================================================\n",
      "2023-09-16\n",
      "======================================================\n",
      "2023-09-17\n",
      "======================================================\n",
      "2023-09-18\n"
     ]
    },
    {
     "name": "stderr",
     "output_type": "stream",
     "text": [
      "<timed exec>:50: DeprecationWarning: `method='revised simplex'` is deprecated and will be removed in SciPy 1.11.0. Please use one of the HiGHS solvers (e.g. `method='highs'`) in new code.\n"
     ]
    },
    {
     "name": "stdout",
     "output_type": "stream",
     "text": [
      "wealth = 1.0196134116309408\n",
      "cash = 0.0\n",
      "======================================================\n",
      "2023-09-19\n"
     ]
    },
    {
     "name": "stderr",
     "output_type": "stream",
     "text": [
      "<timed exec>:50: DeprecationWarning: `method='revised simplex'` is deprecated and will be removed in SciPy 1.11.0. Please use one of the HiGHS solvers (e.g. `method='highs'`) in new code.\n"
     ]
    },
    {
     "name": "stdout",
     "output_type": "stream",
     "text": [
      "wealth = 1.0190443652328554\n",
      "cash = 0.0\n",
      "======================================================\n",
      "2023-09-20\n",
      "wealth = 1.0182006067805225\n",
      "cash = 0.0\n",
      "CPU times: user 7.92 s, sys: 3.01 s, total: 10.9 s\n",
      "Wall time: 11.2 s\n"
     ]
    },
    {
     "name": "stderr",
     "output_type": "stream",
     "text": [
      "<timed exec>:50: DeprecationWarning: `method='revised simplex'` is deprecated and will be removed in SciPy 1.11.0. Please use one of the HiGHS solvers (e.g. `method='highs'`) in new code.\n"
     ]
    }
   ],
   "source": [
    "%%time\n",
    "\n",
    "start_date, end_date = (\n",
    "    pd.Timestamp(\"2023-08-01\"),\n",
    "    bond_data.price.index.get_level_values(0).max(),\n",
    ")\n",
    "dates = pd.date_range(start_date, end_date).date\n",
    "for date in dates:\n",
    "    print(\"======================================================\")\n",
    "    print(date)\n",
    "\n",
    "    if not date in bond_data.price.index.get_level_values('date'):\n",
    "      continue\n",
    "\n",
    "    price_today = bond_data.price.loc[slice(date, date), port.bond_universe, :]\n",
    "    if price_today.empty:\n",
    "        continue\n",
    "    price_today = price_today.loc[(slice(None), port.bond_universe),].mid\n",
    "\n",
    "    #\n",
    "    # prepare data\n",
    "    #\n",
    "    today_info = (\n",
    "        price_today.to_frame()\n",
    "        .join(\n",
    "            bond_data.duration.loc[\n",
    "                pd.IndexSlice[slice(date, date), port.bond_universe], \"dur_mod\"\n",
    "            ]\n",
    "            .groupby([\"date\", \"isin\"])\n",
    "            .mean()\n",
    "            .fillna(float(\"inf\"))\n",
    "        )\n",
    "        .join(\n",
    "            bond_data.yield_.set_index([\"date\", \"isin\"]).loc[\n",
    "                (slice(date, date), port.bond_universe), :\n",
    "            ]\n",
    "        )\n",
    "    )\n",
    "    today_info['yield_dur'] = today_info['yield'] / today_info['dur_mod']\n",
    "    obj = today_info['yield_dur'][(date, slice(None))].sort_index().array\n",
    "\n",
    "    lhs_ineq = [\n",
    "          [1] * len(obj),\n",
    "          [-1] * len(obj)\n",
    "    ]\n",
    "\n",
    "    rhs_ineq = [\n",
    "        1,\n",
    "        -1\n",
    "    ]\n",
    "\n",
    "    opt = linprog(c=obj, A_ub=lhs_ineq, b_ub=rhs_ineq, method=\"revised simplex\")\n",
    "    new_weights = opt['x']\n",
    "\n",
    "    wealth = port.wealth(price_today.values)\n",
    "    print(f\"{wealth = }\")\n",
    "    qty = wealth * new_weights / price_today.values\n",
    "    cash = wealth - qty @ price_today.values\n",
    "    print(f\"{cash = }\")\n",
    "    port.update_portfolio(new_weights, qty, cash, date)"
   ]
  },
  {
   "cell_type": "code",
   "execution_count": 29,
   "metadata": {},
   "outputs": [
    {
     "data": {
      "text/plain": [
       "1.0017737200479289"
      ]
     },
     "execution_count": 29,
     "metadata": {},
     "output_type": "execute_result"
    }
   ],
   "source": [
    "wealth"
   ]
  },
  {
   "cell_type": "code",
   "execution_count": 22,
   "metadata": {
    "ExecuteTime": {
     "start_time": "2023-11-10T21:53:08.865409Z"
    }
   },
   "outputs": [],
   "source": [
    "def get_portfolio_value_history(portfolio: BondPortfolio):\n",
    "    \"\"\"\n",
    "    df with 'qty', 'spread', 'ask', 'bid', 'ai', 'last', 'mid' columns for each bond and trading day of the `portfolio`\n",
    "    \"\"\"\n",
    "    portfolio_df = pd.DataFrame.from_dict(\n",
    "        portfolio._history_qty, orient=\"index\", columns=portfolio.bond_universe\n",
    "    )\n",
    "    portfolio_df.index.name = \"date\"\n",
    "\n",
    "    # wide df -> long df\n",
    "    portfolio_df = pd.melt(\n",
    "        portfolio_df.reset_index(),\n",
    "        \"date\",\n",
    "        value_vars=portfolio.bond_universe,\n",
    "        var_name=\"isin\",\n",
    "        value_name=\"qty\",\n",
    "    ).set_index([\"date\", \"isin\"])\n",
    "\n",
    "    price_df = bond_data.price.reset_index()\n",
    "    price_df = price_df.set_index([\"date\", \"isin\"])\n",
    "\n",
    "    portfolio_history = pd.merge(\n",
    "        portfolio_df,\n",
    "        price_df,\n",
    "        how=\"left\",\n",
    "        left_index=True,\n",
    "        right_index=True,\n",
    "    )\n",
    "\n",
    "    return portfolio_history"
   ]
  },
  {
   "cell_type": "markdown",
   "metadata": {},
   "source": [
    "#### portfolio PNL"
   ]
  },
  {
   "cell_type": "code",
   "execution_count": 23,
   "metadata": {
    "ExecuteTime": {
     "start_time": "2023-11-10T21:53:08.866446Z"
    }
   },
   "outputs": [],
   "source": [
    "portfolio_summary = get_portfolio_value_history(port)\n",
    "portfolio_summary[\"value\"] = portfolio_summary[\"qty\"] * portfolio_summary[\"mid\"]\n",
    "portfolio_summary_grouped = portfolio_summary.groupby(\"date\")"
   ]
  },
  {
   "cell_type": "code",
   "execution_count": 24,
   "metadata": {
    "ExecuteTime": {
     "start_time": "2023-11-10T21:53:08.867378Z"
    }
   },
   "outputs": [
    {
     "data": {
      "image/png": "[encoded data removed]",
      "text/plain": [
       "<Figure size 640x480 with 1 Axes>"
      ]
     },
     "metadata": {},
     "output_type": "display_data"
    }
   ],
   "source": [
    "# benchmark rgbitr\n",
    "rgbitr_slice = bond_data.rgbitr.set_index(\"date\").loc[start_date:end_date]\n",
    "pnl_benchmark = np.cumprod(rgbitr_slice.close.pct_change().fillna(0) + 1)\n",
    "pnl_benchmark.index = pd.DatetimeIndex(pnl_benchmark.index)\n",
    "pnl_benchmark.plot(label=\"rgbitr benchmark\")\n",
    "\n",
    "# portfolio\n",
    "pnl_portfolio = portfolio_summary_grouped.value.sum()\n",
    "pnl_portfolio.index = pd.DatetimeIndex(pnl_portfolio.index)\n",
    "pnl_portfolio.plot(label=\"portfolio\")\n",
    "\n",
    "plt.legend()\n",
    "plt.ylabel(\"PNL\");"
   ]
  },
  {
   "cell_type": "markdown",
   "metadata": {},
   "source": [
    "### mean and median return"
   ]
  },
  {
   "cell_type": "code",
   "execution_count": 25,
   "metadata": {
    "ExecuteTime": {
     "start_time": "2023-11-10T21:53:08.868167Z"
    }
   },
   "outputs": [
    {
     "data": {
      "text/plain": [
       "'Mean return = -0.001, Median return = -0.001'"
      ]
     },
     "execution_count": 25,
     "metadata": {},
     "output_type": "execute_result"
    }
   ],
   "source": [
    "returns = portfolio_summary_grouped.value.sum().pct_change()\n",
    "f\"Mean return = {returns.mean():.3f}, Median return = {returns.median():.3f}\""
   ]
  },
  {
   "cell_type": "markdown",
   "metadata": {},
   "source": [
    "## Sharpe Ratio"
   ]
  },
  {
   "cell_type": "code",
   "execution_count": 26,
   "metadata": {
    "ExecuteTime": {
     "start_time": "2023-11-10T21:53:08.869065Z"
    }
   },
   "outputs": [],
   "source": [
    "rgbitr_slice = bond_data.rgbitr.set_index(\"date\").loc[start_date:end_date]\n",
    "\n",
    "returns_benchmark = rgbitr_slice.close.pct_change().iloc[1:]\n",
    "returns_port = portfolio_summary_grouped.value.sum().pct_change().iloc[1:]"
   ]
  },
  {
   "cell_type": "code",
   "execution_count": 27,
   "metadata": {
    "ExecuteTime": {
     "start_time": "2023-11-10T21:53:08.870178Z"
    }
   },
   "outputs": [
    {
     "data": {
      "text/plain": [
       "1.53600326463795e-98"
      ]
     },
     "execution_count": 27,
     "metadata": {},
     "output_type": "execute_result"
    }
   ],
   "source": [
    "def get_sharp_ratio(returns, returns_market):\n",
    "    \"\"\"\n",
    "    Notes: https://www.investopedia.com/terms/s/sharperatio.asp\n",
    "    \"\"\"\n",
    "    delta = returns.product() - returns_market.product()\n",
    "    return delta / (returns - returns_market).std()\n",
    "\n",
    "\n",
    "get_sharp_ratio(returns=returns_benchmark, returns_market=returns_port)"
   ]
  },
  {
   "cell_type": "markdown",
   "metadata": {},
   "source": [
    "### Information Ratio"
   ]
  },
  {
   "cell_type": "code",
   "execution_count": 28,
   "metadata": {
    "ExecuteTime": {
     "start_time": "2023-11-10T21:53:08.871076Z"
    }
   },
   "outputs": [],
   "source": [
    "def get_information_ratio(returns, returns_market):\n",
    "    \"\"\"\n",
    "    Notes: https://www.investopedia.com/terms/i/informationratio.asp\n",
    "    \"\"\"\n",
    "    difference_benchmark_portfolio = returns - returns_market\n",
    "    tracking_error = difference_benchmark_portfolio.std()\n",
    "    information_ratio = (returns.mean() - returns_market.mean()) / tracking_error\n",
    "    return information_ratio"
   ]
  },
  {
   "cell_type": "code",
   "execution_count": 29,
   "metadata": {
    "ExecuteTime": {
     "start_time": "2023-11-10T21:53:08.879605Z"
    }
   },
   "outputs": [
    {
     "data": {
      "text/plain": [
       "0.0035176129885404134"
      ]
     },
     "execution_count": 29,
     "metadata": {},
     "output_type": "execute_result"
    }
   ],
   "source": [
    "information_ratio = get_information_ratio(\n",
    "    returns=returns_benchmark, returns_market=returns_port\n",
    ")\n",
    "information_ratio"
   ]
  },
  {
   "cell_type": "markdown",
   "metadata": {},
   "source": [
    "## Returns"
   ]
  },
  {
   "cell_type": "code",
   "execution_count": 30,
   "metadata": {
    "ExecuteTime": {
     "start_time": "2023-11-10T21:53:08.879932Z"
    }
   },
   "outputs": [
    {
     "name": "stderr",
     "output_type": "stream",
     "text": [
      "/var/folders/9w/txlxlj150xxgp7zy568gnwjn7lbpgp/T/ipykernel_98213/921857431.py:2: UserWarning: \n",
      "\n",
      "`distplot` is a deprecated function and will be removed in seaborn v0.14.0.\n",
      "\n",
      "Please adapt your code to use either `displot` (a figure-level function with\n",
      "similar flexibility) or `histplot` (an axes-level function for histograms).\n",
      "\n",
      "For a guide to updating your code to use the new functions, please see\n",
      "https://gist.github.com/mwaskom/de44147ed2974457ad6372750bbe5751\n",
      "\n",
      "  sns.distplot(returns_benchmark, bins=42, label=\"benchmark returns\")\n",
      "/var/folders/9w/txlxlj150xxgp7zy568gnwjn7lbpgp/T/ipykernel_98213/921857431.py:3: UserWarning: \n",
      "\n",
      "`distplot` is a deprecated function and will be removed in seaborn v0.14.0.\n",
      "\n",
      "Please adapt your code to use either `displot` (a figure-level function with\n",
      "similar flexibility) or `histplot` (an axes-level function for histograms).\n",
      "\n",
      "For a guide to updating your code to use the new functions, please see\n",
      "https://gist.github.com/mwaskom/de44147ed2974457ad6372750bbe5751\n",
      "\n",
      "  sns.distplot(returns_port, bins=42, label=\"portfolio returns\")\n"
     ]
    },
    {
     "data": {
      "image/png": "[encoded data removed]",
      "text/plain": [
       "<Figure size 640x480 with 1 Axes>"
      ]
     },
     "metadata": {},
     "output_type": "display_data"
    }
   ],
   "source": [
    "plt.figure()\n",
    "sns.distplot(returns_benchmark, bins=42, label=\"benchmark returns\")\n",
    "sns.distplot(returns_port, bins=42, label=\"portfolio returns\")\n",
    "plt.legend();"
   ]
  },
  {
   "cell_type": "markdown",
   "metadata": {},
   "source": [
    "# Returns difference"
   ]
  },
  {
   "cell_type": "code",
   "execution_count": 31,
   "metadata": {},
   "outputs": [
    {
     "name": "stderr",
     "output_type": "stream",
     "text": [
      "/var/folders/9w/txlxlj150xxgp7zy568gnwjn7lbpgp/T/ipykernel_98213/3621973020.py:2: UserWarning: \n",
      "\n",
      "`distplot` is a deprecated function and will be removed in seaborn v0.14.0.\n",
      "\n",
      "Please adapt your code to use either `displot` (a figure-level function with\n",
      "similar flexibility) or `histplot` (an axes-level function for histograms).\n",
      "\n",
      "For a guide to updating your code to use the new functions, please see\n",
      "https://gist.github.com/mwaskom/de44147ed2974457ad6372750bbe5751\n",
      "\n",
      "  sns.distplot(returns_diff, bins=42, label=\"portfolio returns\");\n"
     ]
    },
    {
     "data": {
      "image/png": "[encoded data removed]",
      "text/plain": [
       "<Figure size 640x480 with 1 Axes>"
      ]
     },
     "metadata": {},
     "output_type": "display_data"
    }
   ],
   "source": [
    "returns_diff = returns_port - returns_benchmark\n",
    "sns.distplot(returns_diff, bins=42, label=\"portfolio returns\");"
   ]
  },
  {
   "cell_type": "code",
   "execution_count": 32,
   "metadata": {},
   "outputs": [
    {
     "data": {
      "text/plain": [
       "TtestResult(statistic=-0.021105677931242302, pvalue=0.9832812222909604, df=35)"
      ]
     },
     "execution_count": 32,
     "metadata": {},
     "output_type": "execute_result"
    }
   ],
   "source": [
    "from scipy import stats\n",
    "\n",
    "stats.ttest_1samp(returns_diff, popmean=0)"
   ]
  },
  {
   "cell_type": "markdown",
   "metadata": {},
   "source": [
    "# Benchmark Timing\n",
    "\n",
    "One financially based refinement to the regression model is a benchmark timing component. The expanded model is\n",
    "\n",
    "$$r_{P}(t) = \\alpha_{P}+\\beta_{P} * r_{B}(t) + \\gamma_{P} * max(0, r_{B}(t)) + \\epsilon_{P}(t)$$\n",
    "\n",
    "We include the variable γP to determine whether the manager has any benchmark timing skill. The model includes a \"down-market\" beta, βP, and an \"up-market\" beta, βP + γP. If γP is significantly positive, then we say that there is evidence of timing skill; benchmark exposure is significantly different in up and down cases.\n"
   ]
  },
  {
   "cell_type": "code",
   "execution_count": 33,
   "metadata": {},
   "outputs": [
    {
     "data": {
      "text/plain": [
       "const   -0.001457\n",
       "beta    -0.073636\n",
       "gamma    0.504815\n",
       "dtype: float64"
      ]
     },
     "execution_count": 33,
     "metadata": {},
     "output_type": "execute_result"
    }
   ],
   "source": [
    "import statsmodels.api as sm\n",
    "import numpy as np\n",
    "\n",
    "timing_df = returns_benchmark.to_frame().rename(columns={'close':'beta'})\n",
    "timing_df['gamma'] = timing_df['beta']\n",
    "timing_df.loc[timing_df['beta'] < 0, 'gamma'] = 0\n",
    "\n",
    "X = sm.add_constant(timing_df)\n",
    "benchmark_timing_model = sm.OLS(returns_port,X)\n",
    "results = benchmark_timing_model.fit()\n",
    "results.params"
   ]
  },
  {
   "cell_type": "markdown",
   "metadata": {},
   "source": [
    "## Value at Risk"
   ]
  },
  {
   "cell_type": "code",
   "execution_count": 34,
   "metadata": {
    "ExecuteTime": {
     "start_time": "2023-11-10T21:53:08.880230Z"
    }
   },
   "outputs": [
    {
     "data": {
      "text/plain": [
       "-0.006116591003621885"
      ]
     },
     "execution_count": 34,
     "metadata": {},
     "output_type": "execute_result"
    }
   ],
   "source": [
    "alpha = 0.05\n",
    "returns_benchmark.quantile(alpha)"
   ]
  },
  {
   "cell_type": "markdown",
   "metadata": {},
   "source": [
    "## Skewness of Returns"
   ]
  },
  {
   "cell_type": "code",
   "execution_count": 35,
   "metadata": {
    "ExecuteTime": {
     "start_time": "2023-11-10T21:53:08.880415Z"
    }
   },
   "outputs": [
    {
     "data": {
      "text/plain": [
       "-0.20963976217357644"
      ]
     },
     "execution_count": 35,
     "metadata": {},
     "output_type": "execute_result"
    }
   ],
   "source": [
    "alpha = 0.05\n",
    "returns_benchmark.skew()"
   ]
  }
 ],
 "metadata": {
  "kernelspec": {
   "display_name": "Python 3 (ipykernel)",
   "language": "python",
   "name": "python3"
  },
  "language_info": {
   "codemirror_mode": {
    "name": "ipython",
    "version": 3
   },
   "file_extension": ".py",
   "mimetype": "text/x-python",
   "name": "python",
   "nbconvert_exporter": "python",
   "pygments_lexer": "ipython3",
   "version": "3.9.13"
  }
 },
 "nbformat": 4,
 "nbformat_minor": 1
}
